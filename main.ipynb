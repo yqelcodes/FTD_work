{
 "cells": [
  {
   "cell_type": "markdown",
   "metadata": {},
   "source": [
    "# LDA TOPIC MODELING \n",
    "\n",
    "Спасибо индусам за это чудо. Феноменально пофикшено by SD.\n",
    "\n",
    "https://www.machinelearningplus.com/nlp/topic-modeling-gensim-python/\n",
    "\n"
   ]
  },
  {
   "cell_type": "markdown",
   "metadata": {},
   "source": [
    "__Required Libraries__"
   ]
  },
  {
   "cell_type": "code",
   "execution_count": 4,
   "metadata": {},
   "outputs": [],
   "source": [
    "import pandas as pd\n",
    "import numpy as np\n",
    "import os\n",
    "\n",
    "\n",
    "import string\n",
    "import re\n",
    "from pprint import pprint\n",
    "\n",
    "# NLTK \n",
    "from nltk.corpus import stopwords\n",
    "from nltk.stem.wordnet import WordNetLemmatizer\n",
    "from nltk.corpus import stopwords\n",
    "stop_words = stopwords.words('russian') #this depends on each language\n",
    "\n",
    "# Gensim\n",
    "import gensim\n",
    "import gensim.corpora as corpora\n",
    "from gensim.utils import simple_preprocess\n",
    "from gensim.models import CoherenceModel\n",
    "\n",
    "# spacy for lemmatization\n",
    "import spacy\n",
    "\n",
    "# Plotting tools\n",
    "import pyLDAvis\n",
    "import pyLDAvis.gensim_models  \n",
    "import matplotlib.pyplot as plt\n",
    "%matplotlib inline\n",
    "\n",
    "# Enable logging for gensim - optional\n",
    "import logging\n",
    "logging.basicConfig(format='%(asctime)s : %(levelname)s : %(message)s', level=logging.ERROR)\n",
    "\n",
    "import warnings\n",
    "warnings.filterwarnings(\"ignore\",category=DeprecationWarning)"
   ]
  },
  {
   "cell_type": "markdown",
   "metadata": {},
   "source": [
    "__Loading data__"
   ]
  },
  {
   "cell_type": "code",
   "execution_count": 5,
   "metadata": {},
   "outputs": [],
   "source": [
    "df = pd.read_json('C:/Users/Sergey/Desktop/work/FTD_work/FTD_work/a1.json')"
   ]
  },
  {
   "cell_type": "code",
   "execution_count": 6,
   "metadata": {},
   "outputs": [
    {
     "data": {
      "text/plain": [
       "2457"
      ]
     },
     "execution_count": 6,
     "metadata": {},
     "output_type": "execute_result"
    }
   ],
   "source": [
    "df.shape[0]"
   ]
  },
  {
   "cell_type": "code",
   "execution_count": 7,
   "metadata": {},
   "outputs": [
    {
     "data": {
      "text/html": [
       "<div>\n",
       "<style scoped>\n",
       "    .dataframe tbody tr th:only-of-type {\n",
       "        vertical-align: middle;\n",
       "    }\n",
       "\n",
       "    .dataframe tbody tr th {\n",
       "        vertical-align: top;\n",
       "    }\n",
       "\n",
       "    .dataframe thead th {\n",
       "        text-align: right;\n",
       "    }\n",
       "</style>\n",
       "<table border=\"1\" class=\"dataframe\">\n",
       "  <thead>\n",
       "    <tr style=\"text-align: right;\">\n",
       "      <th></th>\n",
       "      <th>text</th>\n",
       "    </tr>\n",
       "  </thead>\n",
       "  <tbody>\n",
       "    <tr>\n",
       "      <th>0</th>\n",
       "      <td>Изречение, что за правым плечом человека стоит...</td>\n",
       "    </tr>\n",
       "    <tr>\n",
       "      <th>1</th>\n",
       "      <td>Сегодня соцсети являются отдельной жизнью, в к...</td>\n",
       "    </tr>\n",
       "    <tr>\n",
       "      <th>2</th>\n",
       "      <td>С изобретением селфи весь мир просто сошёл с у...</td>\n",
       "    </tr>\n",
       "    <tr>\n",
       "      <th>3</th>\n",
       "      <td>Удивительно, как в современном мире люди бываю...</td>\n",
       "    </tr>\n",
       "    <tr>\n",
       "      <th>4</th>\n",
       "      <td>Не буду тянуть и отвечу сразу. Нет. Российских...</td>\n",
       "    </tr>\n",
       "    <tr>\n",
       "      <th>5</th>\n",
       "      <td>Пользователь Инстаграм под ником Averagerob уж...</td>\n",
       "    </tr>\n",
       "    <tr>\n",
       "      <th>6</th>\n",
       "      <td>Дэмиен Херст в последнее время что-то затих, и...</td>\n",
       "    </tr>\n",
       "    <tr>\n",
       "      <th>7</th>\n",
       "      <td>Вы уж извините, но пока у меня не пройдёт (а у...</td>\n",
       "    </tr>\n",
       "    <tr>\n",
       "      <th>8</th>\n",
       "      <td>&lt;o&gt;© Фото: Елена Иванова Депутаты Госдумы иниц...</td>\n",
       "    </tr>\n",
       "    <tr>\n",
       "      <th>9</th>\n",
       "      <td>У каждой национальной кухни, будь то: корейска...</td>\n",
       "    </tr>\n",
       "    <tr>\n",
       "      <th>10</th>\n",
       "      <td>Здорово смотреть на неё вот так, не через решё...</td>\n",
       "    </tr>\n",
       "    <tr>\n",
       "      <th>11</th>\n",
       "      <td>&lt;o&gt;Андрей Грозин, зав. отделом Средней Азии и ...</td>\n",
       "    </tr>\n",
       "    <tr>\n",
       "      <th>12</th>\n",
       "      <td>«Не по телефону». «Сейчас перезвоню с другого ...</td>\n",
       "    </tr>\n",
       "    <tr>\n",
       "      <th>13</th>\n",
       "      <td>Результаты больше всего зависят от продолжител...</td>\n",
       "    </tr>\n",
       "    <tr>\n",
       "      <th>14</th>\n",
       "      <td>Originally posted by kot_begemott at Наследова...</td>\n",
       "    </tr>\n",
       "    <tr>\n",
       "      <th>15</th>\n",
       "      <td>Сегодня я звонил другу в Беларусь и он попроси...</td>\n",
       "    </tr>\n",
       "    <tr>\n",
       "      <th>16</th>\n",
       "      <td>Многие женщины разных возрастов сетуют на свое...</td>\n",
       "    </tr>\n",
       "    <tr>\n",
       "      <th>17</th>\n",
       "      <td>Переход к возобновляемой энергетике, электромо...</td>\n",
       "    </tr>\n",
       "    <tr>\n",
       "      <th>18</th>\n",
       "      <td>Переходим к вопросу об экономической поддержке...</td>\n",
       "    </tr>\n",
       "    <tr>\n",
       "      <th>19</th>\n",
       "      <td>Что может быть великолепней того, чтобы в субб...</td>\n",
       "    </tr>\n",
       "  </tbody>\n",
       "</table>\n",
       "</div>"
      ],
      "text/plain": [
       "                                                 text\n",
       "0   Изречение, что за правым плечом человека стоит...\n",
       "1   Сегодня соцсети являются отдельной жизнью, в к...\n",
       "2   С изобретением селфи весь мир просто сошёл с у...\n",
       "3   Удивительно, как в современном мире люди бываю...\n",
       "4   Не буду тянуть и отвечу сразу. Нет. Российских...\n",
       "5   Пользователь Инстаграм под ником Averagerob уж...\n",
       "6   Дэмиен Херст в последнее время что-то затих, и...\n",
       "7   Вы уж извините, но пока у меня не пройдёт (а у...\n",
       "8   <o>© Фото: Елена Иванова Депутаты Госдумы иниц...\n",
       "9   У каждой национальной кухни, будь то: корейска...\n",
       "10  Здорово смотреть на неё вот так, не через решё...\n",
       "11  <o>Андрей Грозин, зав. отделом Средней Азии и ...\n",
       "12  «Не по телефону». «Сейчас перезвоню с другого ...\n",
       "13  Результаты больше всего зависят от продолжител...\n",
       "14  Originally posted by kot_begemott at Наследова...\n",
       "15  Сегодня я звонил другу в Беларусь и он попроси...\n",
       "16  Многие женщины разных возрастов сетуют на свое...\n",
       "17  Переход к возобновляемой энергетике, электромо...\n",
       "18  Переходим к вопросу об экономической поддержке...\n",
       "19  Что может быть великолепней того, чтобы в субб..."
      ]
     },
     "execution_count": 7,
     "metadata": {},
     "output_type": "execute_result"
    }
   ],
   "source": [
    "df.head(20)"
   ]
  },
  {
   "cell_type": "code",
   "execution_count": 8,
   "metadata": {},
   "outputs": [
    {
     "ename": "AttributeError",
     "evalue": "'DataFrame' object has no attribute 'content'",
     "output_type": "error",
     "traceback": [
      "\u001b[1;31m---------------------------------------------------------------------------\u001b[0m",
      "\u001b[1;31mAttributeError\u001b[0m                            Traceback (most recent call last)",
      "\u001b[1;32m~\\AppData\\Local\\Temp/ipykernel_11024/3766390965.py\u001b[0m in \u001b[0;36m<module>\u001b[1;34m\u001b[0m\n\u001b[1;32m----> 1\u001b[1;33m \u001b[0mdata\u001b[0m \u001b[1;33m=\u001b[0m \u001b[0mdf\u001b[0m\u001b[1;33m.\u001b[0m\u001b[0mcontent\u001b[0m\u001b[1;33m.\u001b[0m\u001b[0mvalues\u001b[0m\u001b[1;33m.\u001b[0m\u001b[0mtolist\u001b[0m\u001b[1;33m(\u001b[0m\u001b[1;33m)\u001b[0m\u001b[1;33m\u001b[0m\u001b[1;33m\u001b[0m\u001b[0m\n\u001b[0m",
      "\u001b[1;32m~\\AppData\\Local\\Programs\\Python\\Python39\\lib\\site-packages\\pandas\\core\\generic.py\u001b[0m in \u001b[0;36m__getattr__\u001b[1;34m(self, name)\u001b[0m\n\u001b[0;32m   5463\u001b[0m             \u001b[1;32mif\u001b[0m \u001b[0mself\u001b[0m\u001b[1;33m.\u001b[0m\u001b[0m_info_axis\u001b[0m\u001b[1;33m.\u001b[0m\u001b[0m_can_hold_identifiers_and_holds_name\u001b[0m\u001b[1;33m(\u001b[0m\u001b[0mname\u001b[0m\u001b[1;33m)\u001b[0m\u001b[1;33m:\u001b[0m\u001b[1;33m\u001b[0m\u001b[1;33m\u001b[0m\u001b[0m\n\u001b[0;32m   5464\u001b[0m                 \u001b[1;32mreturn\u001b[0m \u001b[0mself\u001b[0m\u001b[1;33m[\u001b[0m\u001b[0mname\u001b[0m\u001b[1;33m]\u001b[0m\u001b[1;33m\u001b[0m\u001b[1;33m\u001b[0m\u001b[0m\n\u001b[1;32m-> 5465\u001b[1;33m             \u001b[1;32mreturn\u001b[0m \u001b[0mobject\u001b[0m\u001b[1;33m.\u001b[0m\u001b[0m__getattribute__\u001b[0m\u001b[1;33m(\u001b[0m\u001b[0mself\u001b[0m\u001b[1;33m,\u001b[0m \u001b[0mname\u001b[0m\u001b[1;33m)\u001b[0m\u001b[1;33m\u001b[0m\u001b[1;33m\u001b[0m\u001b[0m\n\u001b[0m\u001b[0;32m   5466\u001b[0m \u001b[1;33m\u001b[0m\u001b[0m\n\u001b[0;32m   5467\u001b[0m     \u001b[1;32mdef\u001b[0m \u001b[0m__setattr__\u001b[0m\u001b[1;33m(\u001b[0m\u001b[0mself\u001b[0m\u001b[1;33m,\u001b[0m \u001b[0mname\u001b[0m\u001b[1;33m:\u001b[0m \u001b[0mstr\u001b[0m\u001b[1;33m,\u001b[0m \u001b[0mvalue\u001b[0m\u001b[1;33m)\u001b[0m \u001b[1;33m->\u001b[0m \u001b[1;32mNone\u001b[0m\u001b[1;33m:\u001b[0m\u001b[1;33m\u001b[0m\u001b[1;33m\u001b[0m\u001b[0m\n",
      "\u001b[1;31mAttributeError\u001b[0m: 'DataFrame' object has no attribute 'content'"
     ]
    }
   ],
   "source": [
    "data = df.text.values.tolist()"
   ]
  },
  {
   "cell_type": "code",
   "execution_count": null,
   "metadata": {},
   "outputs": [
    {
     "name": "stdout",
     "output_type": "stream",
     "text": [
      "[\"From: lerxst@wam.umd.edu (where's my thing)\\n\"\n",
      " 'Subject: WHAT car is this!?\\n'\n",
      " 'Nntp-Posting-Host: rac3.wam.umd.edu\\n'\n",
      " 'Organization: University of Maryland, College Park\\n'\n",
      " 'Lines: 15\\n'\n",
      " '\\n'\n",
      " ' I was wondering if anyone out there could enlighten me on this car I saw\\n'\n",
      " 'the other day. It was a 2-door sports car, looked to be from the late 60s/\\n'\n",
      " 'early 70s. It was called a Bricklin. The doors were really small. In '\n",
      " 'addition,\\n'\n",
      " 'the front bumper was separate from the rest of the body. This is \\n'\n",
      " 'all I know. If anyone can tellme a model name, engine specs, years\\n'\n",
      " 'of production, where this car is made, history, or whatever info you\\n'\n",
      " 'have on this funky looking car, please e-mail.\\n'\n",
      " '\\n'\n",
      " 'Thanks,\\n'\n",
      " '- IL\\n'\n",
      " '   ---- brought to you by your neighborhood Lerxst ----\\n'\n",
      " '\\n'\n",
      " '\\n'\n",
      " '\\n'\n",
      " '\\n']\n"
     ]
    }
   ],
   "source": [
    "pprint(data[:1])"
   ]
  },
  {
   "cell_type": "markdown",
   "metadata": {},
   "source": [
    "__Tokenize words and Clean-up text__"
   ]
  },
  {
   "cell_type": "code",
   "execution_count": null,
   "metadata": {},
   "outputs": [
    {
     "name": "stdout",
     "output_type": "stream",
     "text": [
      "[['from', 'lerxst', 'wam', 'umd', 'edu', 'where', 'my', 'thing', 'subject', 'what', 'car', 'is', 'this', 'nntp', 'posting', 'host', 'rac', 'wam', 'umd', 'edu', 'organization', 'university', 'of', 'maryland', 'college', 'park', 'lines', 'was', 'wondering', 'if', 'anyone', 'out', 'there', 'could', 'enlighten', 'me', 'on', 'this', 'car', 'saw', 'the', 'other', 'day', 'it', 'was', 'door', 'sports', 'car', 'looked', 'to', 'be', 'from', 'the', 'late', 'early', 'it', 'was', 'called', 'bricklin', 'the', 'doors', 'were', 'really', 'small', 'in', 'addition', 'the', 'front', 'bumper', 'was', 'separate', 'from', 'the', 'rest', 'of', 'the', 'body', 'this', 'is', 'all', 'know', 'if', 'anyone', 'can', 'tellme', 'model', 'name', 'engine', 'specs', 'years', 'of', 'production', 'where', 'this', 'car', 'is', 'made', 'history', 'or', 'whatever', 'info', 'you', 'have', 'on', 'this', 'funky', 'looking', 'car', 'please', 'mail', 'thanks', 'il', 'brought', 'to', 'you', 'by', 'your', 'neighborhood', 'lerxst']]\n"
     ]
    }
   ],
   "source": [
    "def sent_to_words(sentences):\n",
    "    for sentence in sentences:\n",
    "        yield(gensim.utils.simple_preprocess(str(sentence), deacc=True))  # deacc=True removes punctuations\n",
    "\n",
    "data_words = list(sent_to_words(data))\n",
    "\n",
    "print(data_words[:1])"
   ]
  },
  {
   "cell_type": "markdown",
   "metadata": {},
   "source": [
    "__Bigrams & Trigrams__\n",
    "\n",
    "Bigrams are two words frequently occurring together in the document. Trigrams are 3 words frequently occurring."
   ]
  },
  {
   "cell_type": "code",
   "execution_count": null,
   "metadata": {},
   "outputs": [
    {
     "name": "stdout",
     "output_type": "stream",
     "text": [
      "['from', 'lerxst', 'wam_umd', 'edu', 'where', 'my', 'thing', 'subject', 'what', 'car', 'is', 'this', 'nntp_posting_host', 'rac_wam_umd', 'edu', 'organization', 'university', 'of', 'maryland_college_park', 'lines', 'was', 'wondering', 'if', 'anyone', 'out', 'there', 'could', 'enlighten', 'me', 'on', 'this', 'car', 'saw', 'the', 'other', 'day', 'it', 'was', 'door', 'sports', 'car', 'looked', 'to', 'be', 'from', 'the', 'late', 'early', 'it', 'was', 'called', 'bricklin', 'the', 'doors', 'were', 'really', 'small', 'in', 'addition', 'the', 'front_bumper', 'was', 'separate', 'from', 'the', 'rest', 'of', 'the', 'body', 'this', 'is', 'all', 'know', 'if', 'anyone', 'can', 'tellme', 'model', 'name', 'engine', 'specs', 'years', 'of', 'production', 'where', 'this', 'car', 'is', 'made', 'history', 'or', 'whatever', 'info', 'you', 'have', 'on', 'this', 'funky', 'looking', 'car', 'please', 'mail', 'thanks', 'il', 'brought', 'to', 'you', 'by', 'your', 'neighborhood', 'lerxst']\n"
     ]
    }
   ],
   "source": [
    "# Build the bigram and trigram models\n",
    "bigram = gensim.models.Phrases(data_words, min_count=5, threshold=100) # higher threshold fewer phrases.\n",
    "trigram = gensim.models.Phrases(bigram[data_words], threshold=100)  \n",
    "\n",
    "# Faster way to get a sentence clubbed as a trigram/bigram\n",
    "bigram_mod = gensim.models.phrases.Phraser(bigram)\n",
    "trigram_mod = gensim.models.phrases.Phraser(trigram)\n",
    "\n",
    "# See trigram example\n",
    "print(trigram_mod[bigram_mod[data_words[0]]])"
   ]
  },
  {
   "cell_type": "markdown",
   "metadata": {},
   "source": [
    "__Remove Stopwords, Make Bigrams and Lemmatize__"
   ]
  },
  {
   "cell_type": "code",
   "execution_count": null,
   "metadata": {},
   "outputs": [],
   "source": [
    "# Define functions for stopwords, bigrams, trigrams and lemmatization\n",
    "def remove_stopwords(texts):\n",
    "    return [[word for word in simple_preprocess(str(doc)) if word not in stop_words] for doc in texts]\n",
    "\n",
    "def make_bigrams(texts):\n",
    "    return [bigram_mod[doc] for doc in texts]\n",
    "\n",
    "def make_trigrams(texts):\n",
    "    return [trigram_mod[bigram_mod[doc]] for doc in texts]\n",
    "\n",
    "def lemmatization(texts, allowed_postags=['NOUN', 'ADJ', 'VERB', 'ADV']):\n",
    "    \"\"\"https://spacy.io/api/annotation\"\"\"\n",
    "    texts_out = []\n",
    "    for sent in texts:\n",
    "        doc = nlp(\" \".join(sent)) \n",
    "        texts_out.append([token.lemma_ for token in doc if token.pos_ in allowed_postags])\n",
    "    return texts_out"
   ]
  },
  {
   "cell_type": "markdown",
   "metadata": {},
   "source": [
    "__Let’s call the functions in order__"
   ]
  },
  {
   "cell_type": "code",
   "execution_count": null,
   "metadata": {},
   "outputs": [
    {
     "name": "stdout",
     "output_type": "stream",
     "text": [
      "[['thing', 'subject', 'car', 'nntp_poste', 'host', 'park', 'line', 'wonder', 'enlighten', 'car', 'see', 'day', 'door', 'sport', 'car', 'look', 'late', 'early', 'call', 'door', 'really', 'small', 'addition', 'front_bumper', 'separate', 'rest', 'body', 'know', 'tellme', 'model', 'name', 'engine', 'spec', 'year', 'production', 'car', 'make', 'history', 'info', 'funky', 'look', 'car', 'mail', 'thank', 'bring', 'neighborhood', 'lerxst']]\n"
     ]
    }
   ],
   "source": [
    "#To run this code it is necessary to get the spacy moidel: \"!python - m spacy download en\", last depends on the used language \n",
    "\n",
    "# Remove Stop Words\n",
    "data_words_nostops = remove_stopwords(data_words)\n",
    "\n",
    "# Form Bigrams\n",
    "data_words_bigrams = make_bigrams(data_words_nostops)\n",
    "\n",
    "# Initialize spacy 'es' model, keeping only tagger component (for efficiency)\n",
    "# python3 -m spacy download es\n",
    "nlp = spacy.load(\"ru_core_news_sm\", disable=['parser', 'ner'])\n",
    "\n",
    "# Do lemmatization keeping only noun, adj, vb, adv\n",
    "data_lemmatized = lemmatization(data_words_bigrams, allowed_postags=['NOUN', 'ADJ', 'VERB', 'ADV'])\n",
    "\n",
    "print(data_lemmatized[:1])"
   ]
  },
  {
   "cell_type": "markdown",
   "metadata": {},
   "source": [
    "__Create the Dictionary and Corpus needed for Topic Modeling__"
   ]
  },
  {
   "cell_type": "code",
   "execution_count": null,
   "metadata": {},
   "outputs": [
    {
     "name": "stdout",
     "output_type": "stream",
     "text": [
      "[[(0, 1), (1, 1), (2, 1), (3, 1), (4, 5), (5, 1), (6, 2), (7, 1), (8, 1), (9, 1), (10, 1), (11, 1), (12, 1), (13, 1), (14, 1), (15, 1), (16, 1), (17, 1), (18, 1), (19, 2), (20, 1), (21, 1), (22, 1), (23, 1), (24, 1), (25, 1), (26, 1), (27, 1), (28, 1), (29, 1), (30, 1), (31, 1), (32, 1), (33, 1), (34, 1), (35, 1), (36, 1), (37, 1), (38, 1), (39, 1), (40, 1)]]\n"
     ]
    }
   ],
   "source": [
    "# Create Dictionary\n",
    "id2word = corpora.Dictionary(data_lemmatized)\n",
    "\n",
    "# Create Corpus\n",
    "texts = data_lemmatized\n",
    "\n",
    "# Term Document Frequency\n",
    "corpus = [id2word.doc2bow(text) for text in texts]\n",
    "\n",
    "# View\n",
    "print(corpus[:1])"
   ]
  },
  {
   "cell_type": "markdown",
   "metadata": {},
   "source": [
    "If you want to see what word a given id corresponds to, pass the id as a key to the dictionary"
   ]
  },
  {
   "cell_type": "code",
   "execution_count": null,
   "metadata": {},
   "outputs": [
    {
     "data": {
      "text/plain": [
       "'addition'"
      ]
     },
     "execution_count": 21,
     "metadata": {},
     "output_type": "execute_result"
    }
   ],
   "source": [
    "id2word[0]"
   ]
  },
  {
   "cell_type": "markdown",
   "metadata": {},
   "source": [
    "Or, you can see a human-readable form of the corpus itself."
   ]
  },
  {
   "cell_type": "code",
   "execution_count": null,
   "metadata": {},
   "outputs": [
    {
     "data": {
      "text/plain": [
       "[[('addition', 1),\n",
       "  ('body', 1),\n",
       "  ('bring', 1),\n",
       "  ('call', 1),\n",
       "  ('car', 5),\n",
       "  ('day', 1),\n",
       "  ('door', 2),\n",
       "  ('early', 1),\n",
       "  ('engine', 1),\n",
       "  ('enlighten', 1),\n",
       "  ('front_bumper', 1),\n",
       "  ('funky', 1),\n",
       "  ('history', 1),\n",
       "  ('host', 1),\n",
       "  ('info', 1),\n",
       "  ('know', 1),\n",
       "  ('late', 1),\n",
       "  ('lerxst', 1),\n",
       "  ('line', 1),\n",
       "  ('look', 2),\n",
       "  ('mail', 1),\n",
       "  ('make', 1),\n",
       "  ('model', 1),\n",
       "  ('name', 1),\n",
       "  ('neighborhood', 1),\n",
       "  ('nntp_poste', 1),\n",
       "  ('park', 1),\n",
       "  ('production', 1),\n",
       "  ('really', 1),\n",
       "  ('rest', 1),\n",
       "  ('see', 1),\n",
       "  ('separate', 1),\n",
       "  ('small', 1),\n",
       "  ('spec', 1),\n",
       "  ('sport', 1),\n",
       "  ('subject', 1),\n",
       "  ('tellme', 1),\n",
       "  ('thank', 1),\n",
       "  ('thing', 1),\n",
       "  ('wonder', 1),\n",
       "  ('year', 1)],\n",
       " [('call', 2),\n",
       "  ('day', 2),\n",
       "  ('host', 1),\n",
       "  ('line', 1),\n",
       "  ('nntp_poste', 1),\n",
       "  ('subject', 1),\n",
       "  ('thank', 1),\n",
       "  ('acceleration', 1),\n",
       "  ('adapter', 1),\n",
       "  ('add', 2),\n",
       "  ('answer', 1),\n",
       "  ('article', 1),\n",
       "  ('attain', 1),\n",
       "  ('base', 1),\n",
       "  ('brave', 1),\n",
       "  ('brief', 1),\n",
       "  ('card', 1),\n",
       "  ('clock', 5),\n",
       "  ('cpu', 1),\n",
       "  ('detail', 1),\n",
       "  ('do', 1),\n",
       "  ('especially', 1),\n",
       "  ('experience', 2),\n",
       "  ('fair', 1),\n",
       "  ('final', 2),\n",
       "  ('floppy', 1),\n",
       "  ('floppy_disk', 1),\n",
       "  ('functionality', 1),\n",
       "  ('hour', 1),\n",
       "  ('keyword', 1),\n",
       "  ('knowledge', 1),\n",
       "  ('message', 1),\n",
       "  ('network', 1),\n",
       "  ('next', 1),\n",
       "  ('number', 1),\n",
       "  ('oscillator', 1),\n",
       "  ('poll', 3),\n",
       "  ('procedure', 1),\n",
       "  ('rate', 1),\n",
       "  ('report', 1),\n",
       "  ('request', 1),\n",
       "  ('send', 1),\n",
       "  ('share', 1),\n",
       "  ('si', 4),\n",
       "  ('soul', 1),\n",
       "  ('speed', 2),\n",
       "  ('summarizing', 1),\n",
       "  ('summary', 1),\n",
       "  ('top', 1),\n",
       "  ('upgrade', 3),\n",
       "  ('usage', 1)]]"
      ]
     },
     "execution_count": 22,
     "metadata": {},
     "output_type": "execute_result"
    }
   ],
   "source": [
    "# Human readable format of corpus (term-frequency)\n",
    "[[(id2word[id], freq) for id, freq in cp] for cp in corpus[:2]]"
   ]
  },
  {
   "cell_type": "markdown",
   "metadata": {},
   "source": [
    "__Building the Topic Model__"
   ]
  },
  {
   "cell_type": "code",
   "execution_count": null,
   "metadata": {},
   "outputs": [],
   "source": [
    "# Build LDA model\n",
    "lda_model = gensim.models.ldamodel.LdaModel(corpus=corpus,\n",
    "                                           id2word=id2word,\n",
    "                                           num_topics=20, \n",
    "                                           random_state=100,\n",
    "                                           update_every=1,\n",
    "                                           chunksize=100,\n",
    "                                           passes=4,\n",
    "                                           alpha='auto',\n",
    "                                           per_word_topics=True)"
   ]
  },
  {
   "cell_type": "markdown",
   "metadata": {},
   "source": [
    "__View the topics in LDA model__"
   ]
  },
  {
   "cell_type": "code",
   "execution_count": null,
   "metadata": {
    "scrolled": true
   },
   "outputs": [
    {
     "name": "stdout",
     "output_type": "stream",
     "text": [
      "[(0,\n",
      "  '0.115*\"contain\" + 0.053*\"baseball\" + 0.053*\"cd\" + 0.042*\"male\" + '\n",
      "  '0.038*\"thinking\" + 0.031*\"rich\" + 0.016*\"conservative\" + 0.015*\"sho\" + '\n",
      "  '0.015*\"roman\" + 0.011*\"arbitrary\"'),\n",
      " (1,\n",
      "  '0.102*\"child\" + 0.071*\"internet\" + 0.047*\"brain\" + 0.046*\"die\" + '\n",
      "  '0.039*\"family\" + 0.035*\"firearm\" + 0.033*\"trial\" + 0.029*\"cop\" + '\n",
      "  '0.028*\"wife\" + 0.018*\"agent\"'),\n",
      " (2,\n",
      "  '0.152*\"com\" + 0.111*\"write\" + 0.101*\"line\" + 0.094*\"subject\" + '\n",
      "  '0.088*\"article\" + 0.072*\"organization\" + 0.056*\"nntp_poste\" + 0.051*\"host\" '\n",
      "  '+ 0.023*\"reply\" + 0.020*\"car\"'),\n",
      " (3,\n",
      "  '0.028*\"people\" + 0.026*\"state\" + 0.019*\"gun\" + 0.019*\"right\" + 0.013*\"kill\" '\n",
      "  '+ 0.013*\"government\" + 0.011*\"death\" + 0.011*\"speak\" + 0.010*\"force\" + '\n",
      "  '0.010*\"country\"'),\n",
      " (4,\n",
      "  '0.085*\"drive\" + 0.080*\"_\" + 0.040*\"card\" + 0.036*\"driver\" + 0.027*\"cpu\" + '\n",
      "  '0.021*\"speed\" + 0.021*\"color\" + 0.021*\"memory\" + 0.019*\"fast\" + '\n",
      "  '0.019*\"bit\"'),\n",
      " (5,\n",
      "  '0.243*\"key\" + 0.080*\"chip\" + 0.042*\"secure\" + 0.036*\"secret\" + 0.035*\"bit\" '\n",
      "  '+ 0.034*\"listen\" + 0.023*\"dual\" + 0.018*\"message\" + 0.015*\"nsa\" + '\n",
      "  '0.012*\"bj\"'),\n",
      " (6,\n",
      "  '0.079*\"team\" + 0.075*\"game\" + 0.054*\"play\" + 0.053*\"win\" + 0.044*\"year\" + '\n",
      "  '0.025*\"season\" + 0.024*\"fan\" + 0.021*\"trade\" + 0.019*\"score\" + 0.017*\"org\"'),\n",
      " (7,\n",
      "  '0.052*\"atheism\" + 0.037*\"session\" + 0.035*\"motto\" + 0.033*\"german\" + '\n",
      "  '0.029*\"technology_pasadena\" + 0.029*\"morality\" + 0.028*\"decent\" + '\n",
      "  '0.026*\"configuration\" + 0.019*\"terminal\" + 0.017*\"moral\"'),\n",
      " (8,\n",
      "  '0.024*\"believe\" + 0.024*\"say\" + 0.024*\"evidence\" + 0.020*\"reason\" + '\n",
      "  '0.019*\"people\" + 0.016*\"claim\" + 0.013*\"sense\" + 0.012*\"talk\" + '\n",
      "  '0.011*\"exist\" + 0.011*\"faith\"'),\n",
      " (9,\n",
      "  '0.054*\"soldier\" + 0.049*\"village\" + 0.037*\"gateway\" + 0.033*\"turk\" + '\n",
      "  '0.028*\"turkish\" + 0.027*\"occupy\" + 0.026*\"armenian\" + 0.023*\"benefit\" + '\n",
      "  '0.023*\"militia\" + 0.021*\"attack\"'),\n",
      " (10,\n",
      "  '0.083*\"solution\" + 0.069*\"israeli\" + 0.040*\"peace\" + 0.029*\"bomb\" + '\n",
      "  '0.026*\"rocket\" + 0.024*\"european\" + 0.019*\"definitely\" + 0.019*\"arab\" + '\n",
      "  '0.018*\"finish\" + 0.018*\"floor\"'),\n",
      " (11,\n",
      "  '0.044*\"use\" + 0.026*\"system\" + 0.014*\"program\" + 0.014*\"file\" + '\n",
      "  '0.013*\"also\" + 0.013*\"information\" + 0.012*\"include\" + 0.009*\"source\" + '\n",
      "  '0.009*\"computer\" + 0.008*\"available\"'),\n",
      " (12,\n",
      "  '0.026*\"science\" + 0.022*\"patient\" + 0.017*\"study\" + 0.015*\"field\" + '\n",
      "  '0.015*\"cover\" + 0.013*\"effect\" + 0.012*\"cause\" + 0.012*\"cool\" + '\n",
      "  '0.012*\"computer_science\" + 0.012*\"soon\"'),\n",
      " (13,\n",
      "  '0.123*\"space\" + 0.045*\"server\" + 0.040*\"wing\" + 0.038*\"launch\" + '\n",
      "  '0.032*\"mission\" + 0.031*\"earth\" + 0.031*\"orbit\" + 0.027*\"satellite\" + '\n",
      "  '0.027*\"nasa_gov\" + 0.024*\"moon\"'),\n",
      " (14,\n",
      "  '0.253*\"book\" + 0.042*\"scripture\" + 0.032*\"mass\" + 0.025*\"biblical\" + '\n",
      "  '0.025*\"brother\" + 0.024*\"receiver\" + 0.017*\"classic\" + 0.011*\"applicable\" + '\n",
      "  '0.010*\"commandment\" + 0.008*\"loop\"'),\n",
      " (15,\n",
      "  '0.040*\"electrical\" + 0.039*\"ftp_site\" + 0.009*\"wipe\" + '\n",
      "  '0.008*\"chris_behanna\" + 0.007*\"inability\" + 0.006*\"behanna_syl\" + '\n",
      "  '0.004*\"dod_fxwg\" + 0.004*\"wide_glide\" + 0.004*\"lady_behanna\" + '\n",
      "  '0.004*\"wild_corn\"'),\n",
      " (16,\n",
      "  '0.039*\"line\" + 0.022*\"subject\" + 0.022*\"thank\" + 0.021*\"problem\" + '\n",
      "  '0.018*\"use\" + 0.018*\"new\" + 0.017*\"help\" + 0.017*\"window\" + 0.015*\"do\" + '\n",
      "  '0.014*\"post\"'),\n",
      " (17,\n",
      "  '0.037*\"public\" + 0.035*\"law\" + 0.019*\"government\" + 0.018*\"encryption\" + '\n",
      "  '0.016*\"use\" + 0.016*\"case\" + 0.016*\"security\" + 0.015*\"drug\" + '\n",
      "  '0.015*\"issue\" + 0.015*\"rule\"'),\n",
      " (18,\n",
      "  '0.104*\"entry\" + 0.082*\"video\" + 0.044*\"mouse\" + 0.030*\"bitnet\" + '\n",
      "  '0.027*\"saturn\" + 0.022*\"period\" + 0.022*\"frame\" + 0.021*\"pub\" + '\n",
      "  '0.019*\"default\" + 0.017*\"astronomy\"'),\n",
      " (19,\n",
      "  '0.023*\"get\" + 0.020*\"go\" + 0.019*\"make\" + 0.018*\"know\" + 0.018*\"think\" + '\n",
      "  '0.017*\"good\" + 0.016*\"time\" + 0.016*\"see\" + 0.016*\"well\" + 0.015*\"say\"')]\n"
     ]
    }
   ],
   "source": [
    "# Print the Keyword in the 10 topics\n",
    "pprint(lda_model.print_topics())\n",
    "doc_lda = lda_model[corpus]"
   ]
  },
  {
   "cell_type": "markdown",
   "metadata": {},
   "source": [
    "__Compute Model Perplexity and Coherence Score__"
   ]
  },
  {
   "cell_type": "code",
   "execution_count": null,
   "metadata": {},
   "outputs": [
    {
     "name": "stdout",
     "output_type": "stream",
     "text": [
      "\n",
      "Perplexity:  -14.265987960433868\n",
      "\n",
      "Coherence Score:  0.4776766959934333\n"
     ]
    }
   ],
   "source": [
    "# Compute Perplexity\n",
    "print('\\nPerplexity: ', lda_model.log_perplexity(corpus))  # a measure of how good the model is. lower the better.\n",
    "\n",
    "# Compute Coherence Score\n",
    "coherence_model_lda = CoherenceModel(model=lda_model, texts=data_lemmatized, dictionary=id2word, coherence='c_v')\n",
    "coherence_lda = coherence_model_lda.get_coherence()\n",
    "print('\\nCoherence Score: ', coherence_lda)"
   ]
  },
  {
   "cell_type": "markdown",
   "metadata": {},
   "source": [
    "__Visualize the topics-keywords__"
   ]
  },
  {
   "cell_type": "code",
   "execution_count": null,
   "metadata": {},
   "outputs": [
    {
     "data": {
      "text/html": [
       "\n",
       "<link rel=\"stylesheet\" type=\"text/css\" href=\"https://cdn.jsdelivr.net/gh/bmabey/pyLDAvis@3.3.1/pyLDAvis/js/ldavis.v1.0.0.css\">\n",
       "\n",
       "\n",
       "<div id=\"ldavis_el1544021101602794726551226540\"></div>\n",
       "<script type=\"text/javascript\">\n",
       "\n",
       "var ldavis_el1544021101602794726551226540_data = {\"mdsDat\": {\"x\": [0.3305698906044121, 0.27771154568963424, 0.28045450780422987, 0.2826446651865231, 0.15702354317912148, 0.20785895479500088, 0.11859946885275306, 0.05798257430373923, 0.029009014776263303, -0.008573729897111974, -0.13629140344573137, -0.14421628122742414, -0.1281912874638416, -0.17362913762617943, -0.15511770280391202, -0.17602484330723614, -0.1942747944311478, -0.202834190075358, -0.1980324619048857, -0.22466833300884909], \"y\": [0.07285054914080016, 0.03021899803377172, -0.19408205182476815, 0.13316653133359563, -0.3750543883059612, 0.17517449367791368, 0.12800682243996195, 0.06526848701859052, -0.08155626612216826, -0.007319457776755871, -0.009385129648403441, 0.00611284263416914, 0.029881900738088246, 0.0009205671811725007, -0.01964570856078668, 0.004577485635009176, 0.008501591432990717, 0.009107811955696873, 0.007915867817007557, 0.015339053200075826], \"topics\": [1, 2, 3, 4, 5, 6, 7, 8, 9, 10, 11, 12, 13, 14, 15, 16, 17, 18, 19, 20], \"cluster\": [1, 1, 1, 1, 1, 1, 1, 1, 1, 1, 1, 1, 1, 1, 1, 1, 1, 1, 1, 1], \"Freq\": [29.557815575690583, 15.066215966925856, 12.00594601823774, 9.20431944013894, 8.395649184607038, 8.003149616255184, 3.74099565310642, 3.3890591730083948, 3.150098634586951, 2.114146914083149, 0.8745064946333037, 0.8609127573337249, 0.7996029943624854, 0.5995399867943526, 0.5970914201942161, 0.5658499045366423, 0.3512700363699375, 0.3313952988219153, 0.31739797802582226, 0.07503695228735104]}, \"tinfo\": {\"Term\": [\"com\", \"line\", \"write\", \"subject\", \"article\", \"organization\", \"nntp_poste\", \"host\", \"use\", \"year\", \"drive\", \"_\", \"people\", \"say\", \"key\", \"go\", \"system\", \"get\", \"team\", \"game\", \"bit\", \"think\", \"thank\", \"believe\", \"evidence\", \"space\", \"problem\", \"reply\", \"right\", \"child\", \"go\", \"back\", \"bad\", \"enough\", \"big\", \"happen\", \"maybe\", \"money\", \"lose\", \"remember\", \"turn\", \"face\", \"one\", \"bike\", \"light\", \"couple\", \"young\", \"guy\", \"spend\", \"goal\", \"miss\", \"exactly\", \"serious\", \"learn\", \"ride\", \"advice\", \"obviously\", \"realize\", \"pretty\", \"flame\", \"still\", \"really\", \"little\", \"put\", \"day\", \"take\", \"lot\", \"well\", \"much\", \"let\", \"hard\", \"good\", \"time\", \"see\", \"think\", \"deal\", \"come\", \"great\", \"make\", \"tell\", \"start\", \"get\", \"thing\", \"even\", \"never\", \"know\", \"way\", \"want\", \"say\", \"give\", \"long\", \"first\", \"year\", \"seem\", \"look\", \"people\", \"point\", \"also\", \"program\", \"file\", \"information\", \"available\", \"technology\", \"physical\", \"email\", \"test\", \"image\", \"user\", \"screen\", \"disk\", \"pin\", \"master\", \"page\", \"input\", \"product\", \"scan\", \"format\", \"review\", \"option\", \"box\", \"paper\", \"material\", \"digital\", \"technical\", \"feature\", \"proof\", \"site\", \"signal\", \"request\", \"package\", \"datum\", \"system\", \"graphic\", \"network\", \"include\", \"build\", \"source\", \"software\", \"use\", \"design\", \"type\", \"service\", \"computer\", \"support\", \"code\", \"also\", \"provide\", \"require\", \"need\", \"number\", \"base\", \"work\", \"thank\", \"window\", \"sale\", \"player\", \"advance\", \"monitor\", \"appreciate\", \"replace\", \"character\", \"sun\", \"notice\", \"internal\", \"object\", \"possibly\", \"purchase\", \"manager\", \"command\", \"associate\", \"mit\", \"distribution_usa\", \"plane\", \"font\", \"excuse\", \"crash\", \"door\", \"warranty\", \"battery\", \"university\", \"piece\", \"mot\", \"price\", \"keyword\", \"interested\", \"fine\", \"error\", \"room\", \"distribution\", \"help\", \"do\", \"mail\", \"problem\", \"stuff\", \"phone\", \"post\", \"new\", \"like\", \"return\", \"sell\", \"run\", \"check\", \"line\", \"send\", \"find\", \"question\", \"need\", \"set\", \"subject\", \"use\", \"try\", \"list\", \"get\", \"organization\", \"call\", \"work\", \"look\", \"know\", \"evidence\", \"faith\", \"religion\", \"accept\", \"belief\", \"truth\", \"bible\", \"atheist\", \"christian\", \"church\", \"conclusion\", \"religious\", \"reality\", \"indeed\", \"jewish\", \"christianity\", \"authority\", \"nature\", \"revelation\", \"clearly\", \"convince\", \"carleton_ca\", \"interpretation\", \"universe\", \"false\", \"reject\", \"son\", \"homosexual\", \"principle\", \"tradition\", \"claim\", \"argument\", \"sense\", \"statement\", \"believe\", \"prove\", \"talk\", \"exist\", \"reason\", \"explain\", \"word\", \"true\", \"man\", \"human\", \"say\", \"life\", \"fact\", \"people\", \"question\", \"view\", \"many\", \"mean\", \"point\", \"think\", \"however\", \"com\", \"car\", \"apr\", \"distribution_na\", \"tap\", \"trust\", \"announcement\", \"stupid\", \"ticket\", \"zone\", \"auto\", \"acquire\", \"mph\", \"univ\", \"own\", \"att\", \"tire\", \"motor\", \"jim_frost\", \"rear\", \"consult\", \"roughly\", \"tight\", \"political_atheist\", \"entitle\", \"mileage\", \"mere\", \"jimf_centerline\", \"athena_mit\", \"peer\", \"article\", \"eat\", \"write\", \"disclaimer\", \"nntp_poste\", \"host\", \"engine\", \"organization\", \"subject\", \"line\", \"reply\", \"news\", \"net\", \"owner\", \"vehicle\", \"buy\", \"company\", \"opinion\", \"version_pl\", \"insurance\", \"forget\", \"sorry\", \"pay\", \"gun\", \"speak\", \"country\", \"member\", \"wire\", \"deny\", \"crime\", \"community\", \"dept\", \"military\", \"weapon\", \"steal\", \"bear\", \"motif\", \"house\", \"route\", \"united_state\", \"blank\", \"race\", \"nation\", \"land\", \"cable\", \"law_enforcement\", \"particularly\", \"justify\", \"aware\", \"street\", \"imply\", \"seek\", \"aim\", \"force\", \"city\", \"war\", \"ground\", \"kill\", \"state\", \"death\", \"carry\", \"whole\", \"fight\", \"government\", \"people\", \"right\", \"murder\", \"fire\", \"area\", \"live\", \"power\", \"attack\", \"person\", \"number\", \"report\", \"public\", \"encryption\", \"security\", \"drug\", \"press\", \"private\", \"clipper\", \"legal\", \"agency\", \"terrorism\", \"freedom\", \"court\", \"context\", \"tax\", \"link\", \"dod\", \"propose\", \"effective\", \"proposal\", \"abuse\", \"pgp\", \"somehow\", \"privacy\", \"ban\", \"restrict\", \"trap\", \"reasoning\", \"imho\", \"capacity\", \"anywhere\", \"obtain\", \"law\", \"police\", \"protect\", \"safety\", \"rule\", \"individual\", \"license\", \"government\", \"apply\", \"issue\", \"case\", \"purpose\", \"use\", \"rate\", \"patient\", \"field\", \"cool\", \"computer_science\", \"factory\", \"headache\", \"disease\", \"scientific\", \"health\", \"air\", \"treatment\", \"animal\", \"hot\", \"hole\", \"industry\", \"resource\", \"medical\", \"rider\", \"dog\", \"primarily\", \"topic\", \"blind\", \"cycle\", \"planet\", \"data\", \"specify\", \"water\", \"observation\", \"oil\", \"energy\", \"degree\", \"science\", \"study\", \"cover\", \"student\", \"table\", \"effect\", \"soon\", \"age\", \"self\", \"cause\", \"research\", \"die\", \"risk\", \"reduce\", \"body\", \"_\", \"driver\", \"cpu\", \"card\", \"speed\", \"color\", \"slow\", \"device\", \"tape\", \"scsi\", \"m\", \"apple\", \"mb\", \"controller\", \"bus\", \"ide\", \"mac\", \"port\", \"mount\", \"corporation\", \"printer\", \"clipper_chip\", \"interface\", \"ram\", \"external\", \"bio\", \"modem\", \"motherboard\", \"serial\", \"plug\", \"drive\", \"memory\", \"mode\", \"board\", \"fast\", \"pc\", \"chip\", \"bit\", \"machine\", \"team\", \"game\", \"play\", \"win\", \"season\", \"fan\", \"trade\", \"score\", \"org\", \"recommend\", \"pen\", \"average\", \"straight\", \"ice\", \"stat\", \"quick\", \"yesterday\", \"rock\", \"predict\", \"pitch\", \"bank\", \"trace\", \"cub\", \"hr\", \"san_jose\", \"penguin\", \"offense\", \"captain\", \"leafs\", \"brave\", \"division\", \"year\", \"star\", \"final\", \"hit\", \"sport\", \"run\", \"pick\", \"last\", \"next\", \"first\", \"server\", \"wing\", \"launch\", \"space\", \"mission\", \"orbit\", \"satellite\", \"nasa_gov\", \"moon\", \"flight\", \"pat\", \"fuel\", \"sky\", \"shuttle\", \"space_station\", \"honor\", \"declare\", \"frequently_aske\", \"superior\", \"rev\", \"gravity\", \"micro\", \"orbital\", \"roby_chopin\", \"tar\", \"television\", \"orbiter\", \"space_shuttle\", \"asteroid\", \"retrieve\", \"earth\", \"fly\", \"schedule\", \"project\", \"vehicle\", \"international\", \"russian\", \"internet\", \"brain\", \"family\", \"firearm\", \"trial\", \"cop\", \"wife\", \"agent\", \"daughter\", \"widget\", \"human_being\", \"guilty\", \"lawyer\", \"investigation\", \"conviction\", \"compound\", \"cult\", \"campaign\", \"bullet\", \"atf\", \"cash\", \"imagination\", \"sister\", \"brian\", \"partially\", \"assembler\", \"genesis\", \"nazi_germany\", \"mathew\", \"publicly\", \"sad\", \"child\", \"survivor\", \"die\", \"witness\", \"fire\", \"police\", \"soldier\", \"village\", \"gateway\", \"turk\", \"turkish\", \"armenian\", \"benefit\", \"militia\", \"inhabitant\", \"troop\", \"escape\", \"proceed\", \"massacre\", \"slaughter\", \"argic\", \"genocide\", \"occupation\", \"region\", \"subsequent\", \"moslem\", \"wound\", \"longer_exist\", \"might_serve\", \"mountain_passe\", \"single_turkish\", \"soviet_armenia\", \"appressian\", \"extermination_ohanu\", \"melkonian\", \"homeland\", \"occupy\", \"civilian\", \"withdraw\", \"attack\", \"kill\", \"distribution_world\", \"murder\", \"town\", \"close\", \"russian\", \"solution\", \"israeli\", \"peace\", \"bomb\", \"rocket\", \"european\", \"definitely\", \"arab\", \"finish\", \"floor\", \"implementation\", \"spacecraft\", \"staff\", \"alot\", \"runner\", \"payment\", \"leadership\", \"vol\", \"battle\", \"discount\", \"boost\", \"sue\", \"vms_vnews\", \"venus\", \"joint\", \"batter\", \"suspension\", \"rarely\", \"utilize\", \"north\", \"soviet\", \"key\", \"secure\", \"secret\", \"listen\", \"dual\", \"nsa\", \"bj\", \"ron\", \"suitable\", \"nist\", \"succeed\", \"alarm\", \"postscript\", \"access_digex\", \"online_communication\", \"ecn_uoknor\", \"express_access\", \"propulsion\", \"cone\", \"conjecture\", \"warrant\", \"chip\", \"prank\", \"usa\", \"bit\", \"phone\", \"message\", \"register\", \"independent\", \"ripem\", \"communication\", \"video\", \"mouse\", \"bitnet\", \"saturn\", \"frame\", \"pub\", \"default\", \"astronomy\", \"lunar\", \"green\", \"replacement\", \"meg\", \"pixel\", \"extension\", \"custom\", \"planetary\", \"fancy\", \"entry\", \"construction\", \"testing\", \"kinda\", \"nh\", \"adjust\", \"horizon\", \"trajectory\", \"substantially\", \"smartdrv\", \"booster\", \"admin\", \"deck\", \"pp\", \"period\", \"atheism\", \"session\", \"motto\", \"german\", \"technology_pasadena\", \"morality\", \"decent\", \"configuration\", \"terminal\", \"edit\", \"wpd_sgi\", \"schneider\", \"jon_livesey\", \"ss\", \"worthless\", \"bobby\", \"creature\", \"subjective\", \"keith\", \"caltech\", \"beauty\", \"evolve\", \"mlb\", \"grip\", \"rank\", \"noisy\", \"compensation\", \"bobby_mozumder\", \"seldom\", \"ultb_isc\", \"moral\", \"contain\", \"baseball\", \"cd\", \"male\", \"thinking\", \"rich\", \"conservative\", \"sho\", \"roman\", \"arbitrary\", \"met\", \"union\", \"germany\", \"native\", \"lunch\", \"ideology\", \"speculate\", \"pov\", \"texture\", \"placement\", \"ideological\", \"rayshade\", \"vamp\", \"seal\", \"music\", \"remixe\", \"ebb\", \"transvision\", \"underground\", \"espn\", \"title\", \"ripem\", \"hockey\", \"book\", \"scripture\", \"mass\", \"biblical\", \"brother\", \"receiver\", \"classic\", \"applicable\", \"commandment\", \"loop\", \"ceremonial\", \"manifest\", \"soc_religion\", \"supersede\", \"scriptural\", \"keen\", \"darius_lecointe\", \"reilly\", \"doctrine\", \"adrian_nye\", \"imake\", \"sphere\", \"sabbath\", \"ld\", \"canon\", \"stovall\", \"disc\", \"prophecy\", \"salvation\", \"catholic\", \"teach\", \"reference\", \"existence\", \"accord\", \"sin\", \"title\", \"modern\", \"electrical\", \"ftp_site\", \"wipe\", \"chris_behanna\", \"inability\", \"behanna_syl\", \"dod_fxwg\", \"wide_glide\", \"lady_behanna\", \"wild_corn\", \"halifax_ns\", \"cs_dalhousie\", \"math_stat\", \"donate\", \"dal_ca\", \"army_mil\", \"neutral\", \"toll\", \"outlet\", \"reinig\", \"reiniger\", \"flash\", \"wiring\", \"transaction\", \"motorist\", \"hazard\", \"cager\", \"coin\", \"booth\", \"glove\", \"bnr_ca\", \"ripem\", \"ei\"], \"Freq\": [16670.0, 17552.0, 13452.0, 14002.0, 9946.0, 10044.0, 6853.0, 6341.0, 12943.0, 5087.0, 3516.0, 3300.0, 8061.0, 8813.0, 1891.0, 7871.0, 5393.0, 10978.0, 2173.0, 2070.0, 2202.0, 7733.0, 3387.0, 3289.0, 2848.0, 1406.0, 4262.0, 3508.0, 4247.0, 1380.0, 7870.685003925974, 3007.8031210537406, 2313.746143043875, 1774.3420843577399, 1573.0228849824205, 1941.0303271722003, 1533.1280230243108, 1416.1520582527628, 1392.3116858107178, 1328.7138979290198, 1327.4426747406808, 1091.1875509252095, 1090.2159988528786, 966.4997681380183, 943.7956860840245, 939.7194227459927, 828.5249199875692, 809.006347283281, 726.181622892727, 706.0541019619909, 632.8472672765729, 631.8263385973504, 621.5225629346642, 609.2735285117429, 590.0583077250676, 562.8420566698371, 554.5803628047182, 546.265611531103, 951.5280627232644, 535.2719548944908, 2812.339807704479, 3177.272972573533, 2117.265492041346, 2053.1541874479744, 2765.765457917358, 4849.51895708566, 2083.450237026338, 6097.453623896351, 3826.0578863591345, 2256.9488605658967, 1268.9307671444765, 6512.808204658932, 6309.006708591693, 6191.952190127363, 6856.811972501328, 1228.9701894113766, 4436.340897154866, 1981.430626033583, 7194.891983927103, 3139.702940819182, 2118.3887649603075, 8752.307013246706, 4137.855178814703, 3705.692082860998, 2409.028271138433, 6962.261013281834, 3732.271779677746, 3818.4007417136677, 5890.290927534522, 3445.1444764356515, 2291.3395774903156, 2934.484425909801, 3181.7822238661806, 2531.5653884807193, 2714.7008892751555, 2853.683289533142, 2464.6349489607783, 2414.1183708794247, 2814.792683047234, 2717.0964748955957, 2476.765636921908, 1603.6195847862389, 1512.4881726022, 1356.7733721445825, 1327.6445496632268, 1310.7197680000986, 1268.5579996806, 1084.2445574615529, 987.6274725394418, 963.2569144823361, 924.6785564697576, 786.6623470981883, 778.715219075736, 749.3388782520636, 743.2847690473141, 660.4086358410169, 652.7267812203781, 646.6344162688774, 645.5999552508686, 645.1925498521545, 529.261895597177, 526.7385721673335, 523.0171940656112, 508.9663982573908, 505.1702933202086, 496.1868281007799, 480.6285911329006, 473.9788179862144, 816.9758164358747, 727.9622899828579, 1465.2322580628138, 5172.988934397591, 938.8401383579834, 892.6482460954591, 2401.582478128667, 1532.5991637566985, 1735.162244552675, 1533.5189490553794, 8700.357684038796, 987.3152946634417, 1398.6892237379561, 1043.7874578956094, 1699.0063539103237, 1529.741331345096, 1010.257668682148, 2555.0303052680433, 1311.7106650576923, 1094.8577815572262, 1564.681641058385, 1332.5730430084266, 1086.5263571696833, 1347.3140438743587, 3386.341389750174, 2599.3369360755987, 1484.845566123282, 1195.6621949501232, 1035.8100471120513, 758.4528869205313, 748.0363606379731, 646.9847440878233, 645.9144076687792, 622.6561781520085, 584.8887858264261, 543.8740281041029, 538.4820880568982, 478.3283936510322, 439.57136313805415, 404.9172888980788, 403.58035294375145, 402.2566539790709, 400.7938389937221, 393.70920522085606, 354.40256614601395, 346.13345882574424, 339.3558648678262, 336.68724399638666, 365.4791915651741, 376.7540801047466, 312.6134627621206, 2114.6511773060142, 305.79945796628976, 302.82742560075593, 1519.6665066569865, 1125.7797142747534, 1058.12863269158, 508.3427389248891, 810.2993675207808, 408.64370204410386, 640.8491988260797, 2601.2185577444006, 2280.35276180867, 2167.746456659554, 3331.811993788288, 750.6195792235922, 802.1764505352054, 2206.5341182229545, 2837.2468460846235, 1023.5447910743587, 938.4943976784155, 1097.5842699474051, 1959.0307090837914, 1037.924902350498, 6178.839480134916, 1450.622222797103, 2048.7076309217423, 1767.2212592711435, 2145.991992925304, 1266.052786407142, 3403.736617422888, 2889.88032588751, 1693.3643998034722, 1109.4760459631623, 2083.5126724816564, 2001.6250809039668, 1345.283499016054, 1432.3722429554605, 1345.8338368886425, 1456.652018003817, 2847.667514200757, 1365.692944389755, 1000.9539707244285, 963.9236558233804, 877.3817078181942, 857.1163254708762, 834.2734388103195, 741.7043051296483, 735.9860912070204, 731.3931696293076, 635.7673067179643, 597.9956497121151, 559.0545855019581, 540.3168968215442, 513.3253123575146, 500.6900114893198, 497.37278652999026, 460.8387218628334, 449.1780015480542, 412.0288728622032, 410.4192396180619, 365.9321715827796, 335.0277556452493, 324.883015356002, 309.7279676520752, 305.1491919038001, 261.3886771516341, 239.43367891586388, 234.50197031435462, 217.37324392965024, 1953.2988458102668, 937.9387176565708, 1614.7711435827534, 620.2879672719871, 2863.718166236436, 876.8727934326523, 1414.4190087049606, 1374.38127928298, 2371.574136748055, 829.0242178415398, 1017.2933542352712, 1186.4367701055148, 1357.0948520606112, 628.0280842939303, 2862.060476310865, 978.8320181538716, 1196.3832451331566, 2237.0107321058217, 1357.4304381012641, 783.4795673405878, 1245.55616110396, 1087.381186547772, 1092.6781007675809, 872.1299707927951, 794.4080313105801, 16669.573646264653, 2205.7165398345924, 1931.552169499325, 718.0246849073562, 465.4797405273799, 420.91575463883936, 369.572792747366, 341.16322178089933, 254.423046266029, 236.0438822020744, 231.62768694289068, 218.88823454108365, 188.07563105116174, 167.9950547315527, 162.19751070292372, 160.51473896102613, 135.3523403909959, 124.28535772348349, 112.44163173272894, 100.71857820603154, 99.67107568296719, 96.90503764161132, 94.79392933359827, 83.5604060431777, 80.65664877518404, 79.02395269524266, 77.85362933153563, 77.418796635626, 75.37110049941158, 75.01250010976193, 9652.653907727667, 498.4340778479166, 12130.891800684967, 499.5048236381347, 6102.38461560352, 5603.762959617169, 534.7155556239069, 7927.5062345563365, 10241.352646191548, 11068.93148095065, 2490.4683139834397, 1142.623305264177, 878.0824380311235, 357.7985670579032, 273.4463153053377, 785.8457589597942, 579.2990745268629, 624.6429019909322, 316.850866338207, 258.0239804235442, 275.77688952531815, 269.6125914760221, 279.8951680646372, 1989.843183373223, 1134.7719457906737, 996.7013177158279, 884.4889303992854, 757.3941869989412, 661.2429422891028, 637.0523682151368, 635.3338980534031, 611.2268458685924, 585.4926239340581, 582.9835641556527, 524.2490562404558, 521.0007937119894, 508.041482941007, 507.20747944365104, 488.0978851143174, 456.9098977273265, 439.6274784166247, 460.2912216123807, 390.03664842532567, 540.2986282944132, 382.00427833856344, 379.5234643212752, 374.0966563120877, 369.2867580889509, 336.623695381935, 325.2061850723428, 312.9811425509854, 310.4880287444327, 285.6468055415327, 1066.9531441119998, 814.0967016655813, 815.2003768271655, 586.2235620035858, 1404.1693198566443, 2671.2270062749244, 1162.7508063423122, 751.853885479723, 933.2758257456396, 434.0921357057265, 1322.3824302242344, 2969.390427405456, 1950.0801523909163, 544.0875467770677, 588.489348479702, 710.8139613550055, 791.5576052252607, 794.8656165324068, 605.1683488799298, 642.2914464367964, 688.5645176594966, 610.7227975875904, 1791.4279712910331, 859.5935466388307, 774.6742231877998, 754.2288357423485, 687.2414720348969, 681.3447045822961, 576.6906945587488, 466.26854044196654, 424.5256244327766, 380.21824042752115, 365.7083210673561, 351.7690485582581, 331.91516949106415, 330.5489212598907, 316.13958263975286, 315.41508770690007, 312.94465565801755, 319.5394888973682, 265.6101913375068, 239.144208049846, 235.56561531260263, 233.43530796683504, 229.36919633763438, 228.26130834897538, 225.42507237505504, 217.4721491706109, 212.63731980690974, 209.37799024559087, 206.84149669393858, 203.81171210664013, 416.7615003219036, 1688.7328995756245, 499.7860153446775, 575.6340286640846, 457.310309786704, 738.4174797801463, 449.6569017547764, 402.8165465690173, 906.2997335712865, 504.34373636136297, 753.4289620669132, 779.7662538202826, 450.18993877196516, 781.0947558677269, 344.6179306521372, 988.004926816065, 674.1562197074217, 548.5672783931616, 540.8240549339998, 517.8605758766438, 476.0347757575172, 474.2598787371296, 461.15844840325764, 451.98577961371353, 427.60714267966176, 420.88693384384544, 378.1751880734863, 366.518355182264, 355.6213513121804, 318.2725474516151, 316.5927834621878, 310.0350069168447, 293.37517713061106, 284.9902123078712, 282.0041962486689, 281.48128367857765, 278.4692661006342, 277.328163819728, 259.5293933990394, 257.9915363523538, 247.99301568291958, 244.92745103431434, 244.5130531160716, 235.7706343187454, 227.61052190114484, 284.96577540941854, 1137.3359928264995, 738.6972595228743, 652.3389897082363, 295.6833832111645, 317.5355701215314, 560.5106838424812, 527.5036189339613, 499.56230042886375, 367.81871933884827, 552.0315535829068, 447.058790325347, 415.81492895926937, 344.5841698165162, 311.6251552205394, 313.81327669395336, 3299.1447213153006, 1497.2981347849475, 1105.151998435651, 1627.0728111937965, 880.0573817812752, 874.9220959398756, 741.4427820278781, 730.3039933368514, 720.2043401570384, 644.1317522086034, 614.704147903376, 583.8282905775478, 542.0143379394793, 522.9707024340121, 467.92889764678796, 467.86800840848724, 439.8397849948159, 437.68788047490847, 429.41578467823444, 415.1100667166959, 401.1527683814865, 386.28301170588384, 374.21553774986324, 369.35209116657177, 403.241487400178, 283.0333484643357, 268.7815352747308, 233.50846841501317, 210.03815466824503, 186.4055908109955, 3473.2516619012904, 873.7548289579952, 695.2908060325586, 593.3197402532282, 779.8960008053941, 575.4594072989992, 682.3678975985382, 769.5617460977475, 572.7677279098314, 2171.976588003998, 2068.909447000332, 1482.387160785867, 1462.3272980028332, 690.4509056938938, 668.1495550270536, 565.9411698778495, 526.9978735648198, 456.6924970063261, 407.49912225300903, 405.8630580171514, 383.2273900026508, 360.8491894968278, 273.95914507988914, 234.74124929207176, 228.0977707817996, 220.38743568329596, 205.3780610984649, 204.45156077531408, 204.19268058577285, 199.4470489179467, 198.85722897226455, 195.62831569242383, 193.60480446587917, 181.69571214697646, 178.22921163097575, 175.1595460121288, 171.5319485074583, 165.5972633566946, 152.18676097334713, 428.79279481725155, 1208.5860818520675, 255.64050135918208, 262.0668893483705, 295.3559176620718, 217.09886874334916, 445.47262599569353, 264.4943374040471, 282.83473641005446, 228.49748241089387, 230.8227294273617, 511.9220570220308, 453.22121101058053, 430.3464956471323, 1402.6968419117752, 364.0402369640809, 353.6930823526946, 310.10200126651256, 307.5521806250412, 275.32400059643675, 221.34027071156876, 198.6524618738035, 183.7071432425622, 171.97961934193586, 152.26746183853496, 107.19487667355075, 106.63758881590809, 98.43189086116183, 87.05765875483252, 85.27301592030125, 80.948082637201, 74.50161366924648, 71.05377155644925, 62.04773395149627, 60.616297915115744, 58.72794915759722, 56.69756652737559, 51.48122553558228, 51.48095992262514, 51.17195112054312, 50.87788039117087, 355.07231481847805, 106.20631836965275, 92.10101665215633, 89.05875490039946, 78.07511195980935, 72.0313228594032, 63.4021953528965, 802.5253833082377, 524.8682135034946, 443.4794115082698, 394.16940078489614, 365.1877532425005, 321.9149093848034, 318.35654946048214, 200.94983351604844, 175.46141542705996, 163.39926685687837, 145.16225387009933, 143.5269320253231, 136.0570935274865, 133.52565505736297, 109.01549099344693, 108.87489619819601, 95.59945073440463, 94.07938064151577, 73.48254122918095, 73.30363900664194, 65.75722226200949, 63.62675403967198, 62.39431650662543, 49.570312960348026, 49.53246051547278, 45.584133596200196, 45.53601528378003, 42.431743496523275, 40.3573531639892, 35.967714222992, 151.06139894451482, 1148.5314127250472, 58.787336220324995, 521.2755050218453, 99.92856132544519, 159.32154712314, 54.191208479458446, 561.0038882542348, 509.20895195441335, 387.8516405480755, 342.84434460315714, 288.31081197585024, 270.8619894636516, 242.25685596624433, 235.98929128492367, 168.23593164058528, 150.36819058251294, 149.0333303346184, 145.15335753073316, 121.26582020987567, 117.97320573265168, 114.56143315224178, 114.30429995207642, 90.80263243528286, 90.12214116102307, 85.24046701587636, 72.07700354969145, 53.97131057913847, 48.55468299789273, 48.50472130502748, 48.50472130502748, 48.50316698442502, 48.45705223505085, 48.45366187323674, 48.45366187323674, 48.45366187323674, 38.8597102423518, 283.53387961030165, 167.66164903599218, 193.8619182682692, 218.64177161799017, 121.64358811779927, 70.72877614461581, 83.07226749147786, 70.0894306510542, 86.87024016907971, 59.773472814068214, 652.4238767970099, 543.1493127649159, 315.5755702080932, 222.96329195413665, 205.6395400576557, 184.36176321352457, 152.2111534379133, 147.42441772977713, 144.44659650093743, 144.28080022086726, 135.26549456075767, 122.7072530688313, 105.18149659299942, 78.25368815679407, 77.09119124498318, 75.00737484994426, 73.96536831968686, 72.41534572961511, 71.60377286583255, 69.11982963426368, 66.88448613201538, 65.1224727267621, 59.99233724602646, 56.64494881043604, 55.07830070374624, 46.37762702745929, 46.34109095238539, 46.004723791525166, 45.178823483629685, 44.782072737768935, 86.3609237596245, 1890.3662676924746, 327.5799231368919, 279.68094676414745, 266.80374182992324, 179.77494955776797, 117.66357509339024, 90.68716595660209, 84.02988688182562, 80.35009892151798, 73.2825318967369, 72.49619562479786, 65.98505157279129, 58.27682628685623, 54.647135545076715, 50.43783028583192, 42.448571645857214, 35.36434544610511, 12.07410883586512, 6.061116008257149, 3.9075404270121132, 75.59533172297623, 621.626657173932, 0.270908702366686, 40.10765832839203, 269.66147404188985, 83.81396685438723, 140.529038105892, 14.690164223906713, 17.083347380367606, 0.047529345600802436, 13.535109050417027, 606.2877242634988, 323.04365778339854, 219.75423112786677, 196.77802431931914, 158.93212569067626, 152.8921155686914, 143.51136590618967, 127.85391363150856, 115.823624246501, 110.24025257844242, 101.1044380519599, 100.33273666380138, 99.1110583094598, 93.90132804525145, 91.59211541327946, 90.86243158248573, 83.12190656768934, 768.3729816510263, 66.33418749957622, 63.87561730030924, 51.59875662439818, 45.95888261602857, 44.50650986030147, 41.227356427057565, 39.84535895515624, 37.67752935406839, 36.180471696039106, 34.21626775744217, 33.87041692552373, 31.098409635008288, 54.85117817416484, 164.77567348373927, 237.71833964489576, 171.11688665580553, 162.35848668775046, 150.74526051541247, 134.81014016797548, 132.45866449540858, 128.67923799863254, 119.2076734692099, 85.8100033676034, 76.74395809466013, 68.08536958469412, 66.03464698575092, 59.27994880916403, 57.94604386754036, 48.22084949522, 46.362588720156616, 45.634734957542996, 43.57106862025603, 42.5251735927788, 42.23496584637154, 39.462718388198766, 28.828436578274683, 28.521619194665323, 26.861536741177584, 24.63705096311331, 23.690666525425378, 22.63771069508308, 19.74163139264652, 14.951699235427789, 12.093823805610237, 77.34711154919428, 496.78637090884405, 227.89327575972428, 227.81244628819027, 180.58988491942975, 163.0962550176631, 132.0575044305125, 67.80585312938123, 63.677450427363446, 62.926395829417395, 47.86717197545256, 46.574021216132174, 34.33390837283745, 27.529571450942342, 18.95612959671477, 17.81061662910667, 17.72894770026969, 13.099438308999504, 10.811761144103498, 9.499136787132093, 7.334163820925546, 6.899864948579662, 6.362978656510228, 0.04250754028564192, 0.04250764251271906, 0.042507324036055665, 0.042505503607720437, 0.042505432835128566, 0.042505432835128566, 0.04250359274774004, 0.0425043397917653, 0.04250456783678354, 0.04250563728928285, 0.042504725109209905, 1048.5257415071176, 174.30591622325184, 131.5369662109206, 105.05959218292884, 104.07735398120616, 98.26965399606732, 72.24771840499525, 47.51725472184614, 43.416596672980596, 32.98856112493516, 28.473782948253387, 19.875814939247245, 17.338211364039562, 16.31964274241781, 7.48436004622429, 6.883023922016069, 1.9447039151278296, 0.0380808453670032, 0.03808174537902232, 0.03808052151330594, 0.03808052527904661, 0.03808125583273577, 0.03807870642630504, 0.03807951982628884, 0.038078913542041654, 0.03807867253463904, 0.038078740317971024, 0.03807847295038375, 0.038078913542041654, 0.03807924116147957, 0.03807936166518088, 1.9988201993247223, 0.03808020519109002, 0.03808011481331404, 0.038079644095730815, 0.03807900391981763, 0.0380870851992864, 39.46130643429514, 38.45313928726027, 8.560461192661295, 7.663288445287994, 6.578389820383047, 5.7102166652204875, 3.942842372918075, 3.942842372918075, 3.9421039478794646, 3.9329461099469265, 3.7473375066772223, 3.7470631042863314, 3.7470631042863314, 2.5472122126764485, 1.7059989784644334, 0.39150825484862767, 0.014671430249816044, 0.014671233500281981, 0.014671163169000575, 0.01467086047740971, 0.01467086047740971, 0.014670952175156354, 0.014671036750747919, 0.014670952175156354, 0.014670770560201834, 0.01467072426619382, 0.01467066995976134, 0.014670704680267353, 0.014670669069491956, 0.014670676191647036, 0.01467068776514904, 0.014670961968119588, 0.014670783914242608], \"Total\": [16670.0, 17552.0, 13452.0, 14002.0, 9946.0, 10044.0, 6853.0, 6341.0, 12943.0, 5087.0, 3516.0, 3300.0, 8061.0, 8813.0, 1891.0, 7871.0, 5393.0, 10978.0, 2173.0, 2070.0, 2202.0, 7733.0, 3387.0, 3289.0, 2848.0, 1406.0, 4262.0, 3508.0, 4247.0, 1380.0, 7871.7777657411325, 3008.895889708383, 2314.8389331577096, 1775.4348362625178, 1574.1156702008307, 1942.382477126801, 1534.2207748376693, 1417.244830511024, 1393.415049430787, 1329.806650034981, 1328.6900183399543, 1092.2803027487819, 1091.3504417464271, 967.5925199513769, 944.8885112216085, 940.8281920590871, 829.6176718277659, 810.0990991342642, 727.2748323330558, 707.1468537968841, 633.9400191003247, 632.9190953141506, 622.6153177583137, 610.3662810907379, 591.1510595384261, 563.9348084990394, 555.673114623103, 547.3583633492049, 953.4703813329907, 536.3647546138137, 2819.877122918209, 3203.4710770903525, 2127.014444670346, 2063.273308879712, 2789.148848218775, 4933.523689772944, 2110.0597030162894, 6280.947328840785, 3906.993859404606, 2298.5689546704793, 1280.5819375981496, 6806.886049233819, 6837.57406752191, 6769.109896225045, 7733.248840001395, 1249.5674813588225, 4918.6667183609325, 2080.991156431531, 8533.616203017491, 3455.9214657838575, 2250.1016432625775, 10978.582828741968, 4757.864747842645, 4226.617209473282, 2609.7490044421406, 8972.539505835553, 4494.796927417379, 4900.0528961105465, 8813.37142750203, 4310.946202761443, 2546.983486765258, 3990.897902875741, 5087.083229552894, 3173.84952548875, 4301.049877272864, 8061.101568647715, 3940.61559749636, 6208.529394264368, 2815.8863406593864, 2718.1848296435764, 2477.85399190559, 1604.7079405088464, 1513.5765274342778, 1357.8617269534575, 1328.7329044065352, 1311.8081315974239, 1269.6463544239084, 1085.333592648562, 988.715827287422, 964.3452692303164, 925.7669112224096, 787.7507018754942, 779.8035738237878, 750.4272329953722, 744.3731237906226, 661.496990657675, 653.8151359636867, 647.722771025943, 646.6883306539642, 646.280906879953, 530.3502503404856, 527.826926910642, 524.1055488089197, 510.0547530006991, 506.2586481149063, 497.27518288387074, 481.7169458812351, 475.06717274539534, 820.7779817616172, 732.3324872279771, 1485.7037264343908, 5393.114285875059, 953.8074095927598, 915.1140965469328, 2598.7503016264745, 1652.444282514811, 1907.7770943055807, 1687.460971097235, 12943.205899076876, 1058.7402813089739, 1614.684100277467, 1165.682114477429, 2217.361207807756, 2089.2086880519832, 1191.8849729212782, 6208.529394264368, 2030.7029846444455, 1501.5541180852993, 5060.569232522971, 3266.9363844916156, 1697.9180878042305, 5127.566294316476, 3387.43412021333, 2600.795042500739, 1485.9382966144683, 1196.75492541955, 1036.9027775752072, 759.5456173836874, 749.1290911011291, 648.0774745509793, 647.0071381319352, 623.7494559410678, 585.9815162895821, 544.9667585719307, 539.5748185200542, 479.4212548735775, 440.66409364792764, 406.0100193612347, 404.6730834069073, 403.3493852612031, 401.88656945687796, 394.80193568401194, 355.495296619101, 347.2261892889001, 340.44859534713953, 337.7799744819283, 366.71174313863713, 378.0396023601569, 313.7061932252765, 2122.11620517748, 306.89218842944564, 303.92015607013735, 1531.6257757432948, 1146.4396568468883, 1085.6693937232465, 514.5339474892844, 835.781066389479, 412.44573319331687, 667.0438411606275, 3052.107991937689, 2676.188400237716, 2614.895413111047, 4262.607555351595, 820.6789229220153, 906.336940114602, 3020.1139568468056, 4273.288800479995, 1265.609837049073, 1137.8088250416993, 1397.238958672901, 3234.880302780216, 1346.4830719714253, 17552.72062960751, 2237.63381981042, 4080.1928569842553, 3443.793720652267, 5060.569232522971, 2162.9635916860716, 14002.870962505016, 12943.205899076876, 4327.966806519035, 1743.389420772142, 10978.582828741968, 10044.851885331573, 3216.0129652954865, 5127.566294316476, 4301.049877272864, 8972.539505835553, 2848.773679602182, 1366.7991097911797, 1002.0601361258533, 965.0394596304943, 878.487873219619, 858.222490872301, 835.3796042117443, 742.8104705310732, 737.0922566084453, 732.4993350307325, 636.8734721193891, 599.1018151135399, 560.1607509246351, 541.4230624962942, 514.4314777589394, 501.79617689074456, 498.4789519405052, 461.94488726425817, 450.284166949479, 413.13503826362796, 411.52540507020154, 367.03833699152665, 336.13392104667406, 325.98918075742677, 310.8341330535, 306.25535730858167, 262.506383545876, 240.5398443172886, 235.60813571577935, 218.4794093344317, 1964.3055721930687, 954.5907080660107, 1677.8552893854855, 642.1039374179187, 3289.110264348927, 938.7076131978225, 1624.6727488788836, 1688.1855524069954, 3245.907934454977, 985.6243251314572, 1273.8867313293626, 1586.6830579485359, 2089.6009753747694, 730.6145737978386, 8813.37142750203, 1524.45925827079, 2236.857139556004, 8061.101568647715, 3443.793720652267, 1118.5125148114405, 4008.1190201052036, 3036.6891825144817, 3940.61559749636, 7733.248840001395, 2179.513968246633, 16670.77786035769, 2206.814150457463, 1932.6497801167154, 719.1222955247471, 466.57735116288234, 422.01336527444835, 370.6704034102441, 342.2608327543988, 255.52065688969049, 237.14149291835776, 232.77030750239302, 219.98584522347684, 189.17324169837627, 169.09266534894343, 163.29512132031445, 161.61234958468762, 136.44995100838662, 125.38296839067904, 113.53924235011962, 101.81618882342222, 100.76868633147419, 98.00264829460475, 95.89153997233413, 84.6580166689036, 81.75425940761394, 80.12156331263334, 78.95123996899169, 78.51640725301668, 76.46871114902656, 76.11011095813703, 9946.235671059807, 512.9322413992699, 13452.804174234107, 524.6393682258125, 6853.752031519876, 6341.162033109108, 580.0303103221769, 10044.851885331573, 14002.870962505016, 17552.72062960751, 3508.2162949417275, 1510.2707146897062, 1222.5334033108911, 429.3881186255166, 352.5624835507901, 1764.9938285888636, 1179.610725060874, 1485.808146254735, 534.5228610466429, 355.97320347855197, 519.3482866883653, 628.8975321118618, 1357.4519778396332, 1990.9356869328526, 1135.8652139335995, 997.7938212810061, 885.5814339589155, 758.4866905585712, 662.3394214311885, 638.1448721908736, 636.4264282109949, 612.3193494552113, 586.5851274984315, 584.0760677152828, 525.3415598105242, 522.0932972778902, 509.13398650622287, 508.2999830032809, 489.19038872947203, 458.0024012919825, 440.71998205798104, 461.50528469290896, 391.1291519849555, 541.8167185624361, 383.0967819028651, 380.61599261181345, 375.1891598990881, 370.37926165908635, 337.71619894156487, 326.29868865309294, 314.07364611061524, 311.5805573907615, 286.7393091397464, 1077.374109431962, 820.8811815954579, 824.7252491362283, 591.4034312793698, 1528.7841139077784, 3169.645240597354, 1343.2134334972193, 873.850662682677, 1151.3876661829652, 451.0817538059018, 2234.8043046550342, 8061.101568647715, 4247.85823196798, 629.0139143458972, 768.0315786768593, 1283.1029078421366, 1797.6901601714562, 1902.015261157514, 953.3730447512003, 1662.579385896041, 3266.9363844916156, 1522.1625035422508, 1792.5230749875304, 860.6886503353284, 775.7693268842975, 755.323939469003, 688.3365757513153, 682.439831638888, 577.785798265014, 467.36364413846405, 425.62072812927414, 381.3133442185802, 366.8034247638536, 352.86418612418424, 333.01027318756167, 331.6440249563882, 317.2346968091056, 316.51019142911787, 314.03975937231866, 320.7372869553478, 266.70529503400434, 240.23931177161805, 236.66071901264218, 234.5304116633325, 230.46430003413184, 229.35641204547284, 226.5201760715525, 218.56725290776393, 213.73242360781563, 210.47309396006418, 207.93660044323582, 204.90681581986883, 419.13873038827495, 2009.8532674618498, 565.9746273462036, 777.4535134520387, 583.9098379893157, 1188.5428224246496, 632.3700551731647, 548.4325568060527, 2234.8043046550342, 846.6444022645555, 1947.2024823195093, 3166.631470464484, 911.1396094475865, 12943.205899076876, 1041.1300384561277, 989.1040815033423, 675.2653605113935, 549.6664331215087, 541.9232096259489, 518.959730599718, 477.1339304740173, 475.35903342440673, 462.25760309053476, 453.08493430099065, 428.7062981619172, 421.98608853112256, 379.274342764931, 367.6175098758119, 356.7205060074861, 319.37170215265417, 317.69193814946493, 311.1341616088652, 294.4743318282813, 286.08936699514834, 283.10335096798093, 282.5804383658548, 279.5684208289436, 278.4273185070051, 260.6285480863165, 259.09069104430273, 249.09217037019664, 246.0266057215914, 245.61220780334867, 236.86978900602247, 228.7096765884219, 286.88332874923583, 1168.5878809503258, 885.5791947775656, 854.740320701192, 318.2749781023831, 352.35278604363975, 803.6582943794459, 748.5121204003267, 763.7902206957253, 551.1981733097693, 1569.8536652595064, 1165.6738445857077, 938.1307281991418, 687.3833081838679, 523.0784182763826, 730.8588682296167, 3300.2452050944426, 1498.3986185640888, 1106.2524822147923, 1628.84231822474, 881.1619162756132, 876.0225797190175, 742.5432658187702, 731.4044771215413, 721.3048239361802, 645.2322359877453, 615.8046316825179, 584.9287743600464, 543.1148217186212, 524.071186213154, 469.0293814985393, 468.968492187629, 440.94026877395765, 438.7883642575923, 430.51703479698654, 416.21055052934577, 402.25325216398505, 387.3834954941158, 375.3160215325471, 370.45257494571354, 404.56386658390676, 284.13383224347746, 269.88201905387257, 234.6089521941549, 211.13863845092885, 187.50607461996105, 3516.4383504852117, 975.899840239261, 768.606944936912, 657.3806542945256, 1013.8165766091007, 776.3589520674504, 1305.0475663360512, 2202.186658351257, 1448.6343589057858, 2173.07865983968, 2070.0115188360137, 1483.4892326431857, 1463.4293698385147, 691.5529775295756, 669.2516268674073, 567.0432417170733, 528.0999454005016, 457.79456885193906, 408.60119414988486, 406.9651298528332, 384.32946186376773, 361.9512613501492, 275.0612169155709, 235.8433211277535, 229.19984261748135, 221.48950751897772, 206.48013293962615, 205.5536326161836, 205.2947524214546, 200.54912080409147, 199.95930083341756, 196.73038753277734, 194.7068763273878, 182.79778398265822, 179.3312834666575, 176.26161785929318, 172.63402034314007, 166.69933519237637, 153.2888328090289, 633.4033077673312, 5087.083229552894, 406.9633319466086, 499.92258759541414, 688.2906744614987, 308.9353853272211, 3234.880302780216, 701.9074524903098, 2308.0990547343986, 1739.8184395905573, 3990.897902875741, 513.0331298610344, 454.3322838558548, 431.4575684861358, 1406.7409427465252, 365.1513098030844, 354.8041551916981, 311.21307410551606, 308.6632534640447, 276.43507343544024, 222.45134355057223, 199.76353471280697, 184.81821608156568, 173.09069219028282, 153.37853467753843, 108.3059495125542, 107.74866166711686, 99.54296376244756, 88.16873160851213, 86.38408877630471, 82.0591555076584, 75.61268650824994, 72.1648444010387, 63.158806790499725, 61.72737076005374, 59.83902200162682, 57.80863939435534, 52.59229837458574, 52.592032761628595, 52.283023959546576, 51.98895333779282, 805.9888573056141, 226.73246811376382, 239.56889118709321, 531.9158299930117, 352.5624835507901, 330.5242246397123, 170.4821043628386, 803.6341500194368, 525.9769802150481, 444.58817821479704, 395.2781674914234, 366.29651994902775, 323.0236760913307, 319.4653161670094, 202.05860023238853, 176.57018213358717, 164.50803356340558, 146.27102069043616, 144.6356987318503, 137.16586024310388, 134.63442179252337, 110.12425773889697, 109.98366290472323, 96.70821744093185, 95.18814735397753, 74.59130794118764, 74.41240571316916, 66.8659889748075, 64.7355207461992, 63.50308322101626, 50.67907967206299, 50.641227268623595, 46.69290034593585, 46.644781990307244, 43.54051020305049, 41.466119890154836, 37.076480960456564, 159.61485522304858, 1380.3089018077355, 61.7330684809491, 938.1307281991418, 218.2675417924655, 768.0315786768593, 565.9746273462036, 562.1145406575778, 510.3196043577563, 388.9622929514185, 343.9549970065001, 289.4214643791932, 271.97264186699454, 243.36750841473074, 237.0999436882666, 169.34658405341935, 151.47884298585586, 150.14398273796132, 146.26400993910224, 122.3764726132186, 119.08385814016222, 115.6720855555847, 115.41495235541935, 91.91328485010841, 91.23279888650163, 86.35111951216084, 73.18765598226649, 55.08196298248139, 49.66533540123566, 49.615373708370406, 49.615373708370406, 49.61381938776795, 49.56770463839378, 49.564314276579665, 49.564314276579665, 49.564314276579665, 39.97036264569473, 319.5807372728179, 268.40472172795194, 344.42732209118043, 953.3730447512003, 1528.7841139077784, 233.60444696722837, 629.0139143458972, 350.45276350175556, 1262.7301669966525, 170.4821043628386, 653.5393810138926, 544.2648169600931, 316.69107440327025, 224.07879616553976, 206.75504425802052, 185.47726740870164, 153.32665765501736, 148.5399219296976, 145.56210070238527, 145.39630442654993, 136.38099877415294, 123.8227572691961, 106.2970007994734, 79.36919235197111, 78.206695446431, 76.12287905030905, 75.0808725259862, 73.5308499439488, 72.71927706100959, 70.23533384524062, 67.99999032719242, 66.23797694288608, 61.10784144639126, 57.760453015827, 56.1938049092988, 47.4931312351779, 47.456595147562446, 47.120228035024844, 46.29432773480744, 45.89757693294599, 90.4432327376717, 1891.486422652691, 328.7000780971086, 280.8011017243641, 267.92389680531966, 180.89510456856556, 118.78373005360689, 91.8073209214905, 85.15004186599717, 81.47025390399101, 74.40268686250164, 73.61635063312625, 67.10520653300794, 59.39698124707289, 55.76729052069503, 51.55798524604858, 43.568726612299464, 36.48450040632177, 13.19426434608932, 7.181270974744588, 5.027695407669366, 134.53068130782398, 1305.0475663360512, 1.3910636625833477, 212.9079806511305, 2202.186658351257, 906.336940114602, 1796.9186292380004, 232.4240203154917, 325.8690471229785, 1.1678111389587267, 426.03538600091434, 607.4043309247567, 324.1602644446563, 220.8708377941507, 197.89463098576468, 160.04873235193404, 154.00872223349123, 144.62797258654456, 128.97052029276634, 116.9402309129465, 111.35685923970019, 102.22104471321767, 101.44934332973091, 100.22766497071757, 95.01793471559937, 92.70872207453722, 91.97903825395738, 84.2385132289471, 780.3043912397883, 67.45079416710475, 64.99222396675475, 52.71536329580717, 47.075489396508964, 45.62311653771947, 42.34396314412899, 40.961965626789514, 38.79413617213603, 37.29707836196863, 35.33287444447709, 34.98702359739364, 32.21501630145381, 75.88013936707104, 414.17162472521085, 238.84593405371209, 172.24448110559769, 163.48608109656678, 151.8728549242288, 135.9377345767918, 133.5862589042249, 129.80683241919914, 120.33526789164071, 86.93759777641972, 77.87155256160327, 69.21296399351044, 67.16224139456725, 60.40754321798036, 59.07363829504372, 49.348443910307104, 47.490183128972944, 46.76232939872308, 44.69866310245892, 43.65276800159513, 43.362560260375616, 40.59031280204125, 29.95603098709101, 29.64921360975243, 27.989131190109713, 25.764645382872175, 24.818260955644675, 23.765305180864374, 20.86922580146285, 16.079293644244117, 13.221418214426564, 379.1410816150008, 497.9114968817532, 229.01840172777005, 228.93757224996529, 181.71501090329951, 164.22138097943812, 133.1826303922875, 68.93097909115623, 64.80257639848196, 64.0515217911924, 48.99229795048533, 47.69914718417795, 35.45903438026684, 28.654697451564783, 20.08125555848977, 18.93574263401917, 18.854073666788096, 14.224564270774502, 11.936887105878496, 10.62426274890709, 8.459289811492415, 8.02499091035466, 7.488104618285227, 1.1676351007540016, 1.167653283595902, 1.1676596149494134, 1.1676331802639301, 1.16763244008744, 1.16763244008744, 1.1676348934395837, 1.1676556057843526, 1.1676884059846466, 1.1678111389587267, 1.167767759895537, 1049.6552920400943, 175.4354667562287, 132.66651674908522, 106.1891427159057, 105.20690451418302, 99.39920452904418, 73.3772689442429, 48.64680530765847, 44.54614720595747, 34.11811165791203, 29.603333486778347, 21.005365472224117, 18.467761908009287, 17.4491933352061, 8.613910638954213, 8.01257451777368, 3.0742545125573906, 1.1676449991382043, 1.1676775328651665, 1.1676404988720805, 1.1676449071070134, 1.1677077068295492, 1.1676341770404361, 1.1676601677683525, 1.167642057920999, 1.1676372336631968, 1.1676410264826915, 1.1676347781037952, 1.1676487985812622, 1.1676601108022115, 1.1676694698850798, 1054.1120493058975, 1.167723708103919, 1.1677231430309676, 1.1676992001861892, 1.1676884059846466, 285.32196495326224, 40.614263508104536, 39.60609638668836, 9.713418266470692, 8.81624551909739, 7.731346904698064, 6.863173739029884, 5.0957994467274705, 5.0957994467274705, 5.095061021688861, 5.085903183756322, 4.9002945804866185, 4.900020178095728, 4.900020178095728, 3.7001692936083237, 2.8589560522738298, 1.5444653286580239, 1.167655923779735, 1.16765509258675, 1.1676503154874809, 1.1676295430793895, 1.1676295430793895, 1.1676399065602867, 1.1676480347432499, 1.1676425109476585, 1.167630359553567, 1.1676334697269712, 1.167629330700652, 1.16763457230958, 1.1676331203084527, 1.167633710645079, 1.167635484130051, 1.1678111389587267, 1.1677653259730145], \"Category\": [\"Default\", \"Default\", \"Default\", \"Default\", \"Default\", \"Default\", \"Default\", \"Default\", \"Default\", \"Default\", \"Default\", \"Default\", \"Default\", \"Default\", \"Default\", \"Default\", \"Default\", \"Default\", \"Default\", \"Default\", \"Default\", \"Default\", \"Default\", \"Default\", \"Default\", \"Default\", \"Default\", \"Default\", \"Default\", \"Default\", \"Topic1\", \"Topic1\", \"Topic1\", \"Topic1\", \"Topic1\", \"Topic1\", \"Topic1\", \"Topic1\", \"Topic1\", \"Topic1\", \"Topic1\", \"Topic1\", \"Topic1\", \"Topic1\", \"Topic1\", \"Topic1\", \"Topic1\", \"Topic1\", \"Topic1\", \"Topic1\", \"Topic1\", \"Topic1\", \"Topic1\", \"Topic1\", \"Topic1\", \"Topic1\", \"Topic1\", \"Topic1\", \"Topic1\", \"Topic1\", \"Topic1\", \"Topic1\", \"Topic1\", \"Topic1\", \"Topic1\", \"Topic1\", \"Topic1\", \"Topic1\", \"Topic1\", \"Topic1\", \"Topic1\", \"Topic1\", \"Topic1\", \"Topic1\", \"Topic1\", \"Topic1\", \"Topic1\", \"Topic1\", \"Topic1\", \"Topic1\", \"Topic1\", \"Topic1\", \"Topic1\", \"Topic1\", \"Topic1\", \"Topic1\", \"Topic1\", \"Topic1\", \"Topic1\", \"Topic1\", \"Topic1\", \"Topic1\", \"Topic1\", \"Topic1\", \"Topic1\", \"Topic1\", \"Topic1\", \"Topic1\", \"Topic2\", \"Topic2\", \"Topic2\", \"Topic2\", \"Topic2\", \"Topic2\", \"Topic2\", \"Topic2\", \"Topic2\", \"Topic2\", \"Topic2\", \"Topic2\", \"Topic2\", \"Topic2\", \"Topic2\", \"Topic2\", \"Topic2\", \"Topic2\", \"Topic2\", \"Topic2\", \"Topic2\", \"Topic2\", \"Topic2\", \"Topic2\", \"Topic2\", \"Topic2\", \"Topic2\", \"Topic2\", \"Topic2\", \"Topic2\", \"Topic2\", \"Topic2\", \"Topic2\", \"Topic2\", \"Topic2\", \"Topic2\", \"Topic2\", \"Topic2\", \"Topic2\", \"Topic2\", \"Topic2\", \"Topic2\", \"Topic2\", \"Topic2\", \"Topic2\", \"Topic2\", \"Topic2\", \"Topic2\", \"Topic2\", \"Topic2\", \"Topic2\", \"Topic2\", \"Topic2\", \"Topic2\", \"Topic3\", \"Topic3\", \"Topic3\", \"Topic3\", \"Topic3\", \"Topic3\", \"Topic3\", \"Topic3\", \"Topic3\", \"Topic3\", \"Topic3\", \"Topic3\", \"Topic3\", \"Topic3\", \"Topic3\", \"Topic3\", \"Topic3\", \"Topic3\", \"Topic3\", \"Topic3\", \"Topic3\", \"Topic3\", \"Topic3\", \"Topic3\", \"Topic3\", \"Topic3\", \"Topic3\", \"Topic3\", \"Topic3\", \"Topic3\", \"Topic3\", \"Topic3\", \"Topic3\", \"Topic3\", \"Topic3\", \"Topic3\", \"Topic3\", \"Topic3\", \"Topic3\", \"Topic3\", \"Topic3\", \"Topic3\", \"Topic3\", \"Topic3\", \"Topic3\", \"Topic3\", \"Topic3\", \"Topic3\", \"Topic3\", \"Topic3\", \"Topic3\", \"Topic3\", \"Topic3\", \"Topic3\", \"Topic3\", \"Topic3\", \"Topic3\", \"Topic3\", \"Topic3\", \"Topic3\", \"Topic3\", \"Topic3\", \"Topic3\", \"Topic3\", \"Topic3\", \"Topic3\", \"Topic4\", \"Topic4\", \"Topic4\", \"Topic4\", \"Topic4\", \"Topic4\", \"Topic4\", \"Topic4\", \"Topic4\", \"Topic4\", \"Topic4\", \"Topic4\", \"Topic4\", \"Topic4\", \"Topic4\", \"Topic4\", \"Topic4\", \"Topic4\", \"Topic4\", \"Topic4\", \"Topic4\", \"Topic4\", \"Topic4\", \"Topic4\", \"Topic4\", \"Topic4\", \"Topic4\", \"Topic4\", \"Topic4\", \"Topic4\", \"Topic4\", \"Topic4\", \"Topic4\", \"Topic4\", \"Topic4\", \"Topic4\", \"Topic4\", \"Topic4\", \"Topic4\", \"Topic4\", \"Topic4\", \"Topic4\", \"Topic4\", \"Topic4\", \"Topic4\", \"Topic4\", \"Topic4\", \"Topic4\", \"Topic4\", \"Topic4\", \"Topic4\", \"Topic4\", \"Topic4\", \"Topic4\", \"Topic4\", \"Topic5\", \"Topic5\", \"Topic5\", \"Topic5\", \"Topic5\", \"Topic5\", \"Topic5\", \"Topic5\", \"Topic5\", \"Topic5\", \"Topic5\", \"Topic5\", \"Topic5\", \"Topic5\", \"Topic5\", \"Topic5\", \"Topic5\", \"Topic5\", \"Topic5\", \"Topic5\", \"Topic5\", \"Topic5\", \"Topic5\", \"Topic5\", \"Topic5\", \"Topic5\", \"Topic5\", \"Topic5\", \"Topic5\", \"Topic5\", \"Topic5\", \"Topic5\", \"Topic5\", \"Topic5\", \"Topic5\", \"Topic5\", \"Topic5\", \"Topic5\", \"Topic5\", \"Topic5\", \"Topic5\", \"Topic5\", \"Topic5\", \"Topic5\", \"Topic5\", \"Topic5\", \"Topic5\", \"Topic5\", \"Topic5\", \"Topic5\", \"Topic5\", \"Topic5\", \"Topic5\", \"Topic6\", \"Topic6\", \"Topic6\", \"Topic6\", \"Topic6\", \"Topic6\", \"Topic6\", \"Topic6\", \"Topic6\", \"Topic6\", \"Topic6\", \"Topic6\", \"Topic6\", \"Topic6\", \"Topic6\", \"Topic6\", \"Topic6\", \"Topic6\", \"Topic6\", \"Topic6\", \"Topic6\", \"Topic6\", \"Topic6\", \"Topic6\", \"Topic6\", \"Topic6\", \"Topic6\", \"Topic6\", \"Topic6\", \"Topic6\", \"Topic6\", \"Topic6\", \"Topic6\", \"Topic6\", \"Topic6\", \"Topic6\", \"Topic6\", \"Topic6\", \"Topic6\", \"Topic6\", \"Topic6\", \"Topic6\", \"Topic6\", \"Topic6\", \"Topic6\", \"Topic6\", \"Topic6\", \"Topic6\", \"Topic6\", \"Topic6\", \"Topic6\", \"Topic6\", \"Topic7\", \"Topic7\", \"Topic7\", \"Topic7\", \"Topic7\", \"Topic7\", \"Topic7\", \"Topic7\", \"Topic7\", \"Topic7\", \"Topic7\", \"Topic7\", \"Topic7\", \"Topic7\", \"Topic7\", \"Topic7\", \"Topic7\", \"Topic7\", \"Topic7\", \"Topic7\", \"Topic7\", \"Topic7\", \"Topic7\", \"Topic7\", \"Topic7\", \"Topic7\", \"Topic7\", \"Topic7\", \"Topic7\", \"Topic7\", \"Topic7\", \"Topic7\", \"Topic7\", \"Topic7\", \"Topic7\", \"Topic7\", \"Topic7\", \"Topic7\", \"Topic7\", \"Topic7\", \"Topic7\", \"Topic7\", \"Topic7\", \"Topic7\", \"Topic7\", \"Topic8\", \"Topic8\", \"Topic8\", \"Topic8\", \"Topic8\", \"Topic8\", \"Topic8\", \"Topic8\", \"Topic8\", \"Topic8\", \"Topic8\", \"Topic8\", \"Topic8\", \"Topic8\", \"Topic8\", \"Topic8\", \"Topic8\", \"Topic8\", \"Topic8\", \"Topic8\", \"Topic8\", \"Topic8\", \"Topic8\", \"Topic8\", \"Topic8\", \"Topic8\", \"Topic8\", \"Topic8\", \"Topic8\", \"Topic8\", \"Topic8\", \"Topic8\", \"Topic8\", \"Topic8\", \"Topic8\", \"Topic8\", \"Topic8\", \"Topic8\", \"Topic8\", \"Topic8\", \"Topic8\", \"Topic8\", \"Topic8\", \"Topic8\", \"Topic8\", \"Topic8\", \"Topic9\", \"Topic9\", \"Topic9\", \"Topic9\", \"Topic9\", \"Topic9\", \"Topic9\", \"Topic9\", \"Topic9\", \"Topic9\", \"Topic9\", \"Topic9\", \"Topic9\", \"Topic9\", \"Topic9\", \"Topic9\", \"Topic9\", \"Topic9\", \"Topic9\", \"Topic9\", \"Topic9\", \"Topic9\", \"Topic9\", \"Topic9\", \"Topic9\", \"Topic9\", \"Topic9\", \"Topic9\", \"Topic9\", \"Topic9\", \"Topic9\", \"Topic9\", \"Topic9\", \"Topic9\", \"Topic9\", \"Topic9\", \"Topic9\", \"Topic9\", \"Topic9\", \"Topic10\", \"Topic10\", \"Topic10\", \"Topic10\", \"Topic10\", \"Topic10\", \"Topic10\", \"Topic10\", \"Topic10\", \"Topic10\", \"Topic10\", \"Topic10\", \"Topic10\", \"Topic10\", \"Topic10\", \"Topic10\", \"Topic10\", \"Topic10\", \"Topic10\", \"Topic10\", \"Topic10\", \"Topic10\", \"Topic10\", \"Topic10\", \"Topic10\", \"Topic10\", \"Topic10\", \"Topic10\", \"Topic10\", \"Topic10\", \"Topic10\", \"Topic10\", \"Topic10\", \"Topic10\", \"Topic10\", \"Topic10\", \"Topic10\", \"Topic10\", \"Topic10\", \"Topic10\", \"Topic10\", \"Topic11\", \"Topic11\", \"Topic11\", \"Topic11\", \"Topic11\", \"Topic11\", \"Topic11\", \"Topic11\", \"Topic11\", \"Topic11\", \"Topic11\", \"Topic11\", \"Topic11\", \"Topic11\", \"Topic11\", \"Topic11\", \"Topic11\", \"Topic11\", \"Topic11\", \"Topic11\", \"Topic11\", \"Topic11\", \"Topic11\", \"Topic11\", \"Topic11\", \"Topic11\", \"Topic11\", \"Topic11\", \"Topic11\", \"Topic11\", \"Topic11\", \"Topic11\", \"Topic11\", \"Topic11\", \"Topic11\", \"Topic11\", \"Topic11\", \"Topic12\", \"Topic12\", \"Topic12\", \"Topic12\", \"Topic12\", \"Topic12\", \"Topic12\", \"Topic12\", \"Topic12\", \"Topic12\", \"Topic12\", \"Topic12\", \"Topic12\", \"Topic12\", \"Topic12\", \"Topic12\", \"Topic12\", \"Topic12\", \"Topic12\", \"Topic12\", \"Topic12\", \"Topic12\", \"Topic12\", \"Topic12\", \"Topic12\", \"Topic12\", \"Topic12\", \"Topic12\", \"Topic12\", \"Topic12\", \"Topic12\", \"Topic12\", \"Topic12\", \"Topic12\", \"Topic12\", \"Topic12\", \"Topic12\", \"Topic13\", \"Topic13\", \"Topic13\", \"Topic13\", \"Topic13\", \"Topic13\", \"Topic13\", \"Topic13\", \"Topic13\", \"Topic13\", \"Topic13\", \"Topic13\", \"Topic13\", \"Topic13\", \"Topic13\", \"Topic13\", \"Topic13\", \"Topic13\", \"Topic13\", \"Topic13\", \"Topic13\", \"Topic13\", \"Topic13\", \"Topic13\", \"Topic13\", \"Topic13\", \"Topic13\", \"Topic13\", \"Topic13\", \"Topic13\", \"Topic13\", \"Topic13\", \"Topic13\", \"Topic13\", \"Topic13\", \"Topic13\", \"Topic13\", \"Topic13\", \"Topic13\", \"Topic13\", \"Topic14\", \"Topic14\", \"Topic14\", \"Topic14\", \"Topic14\", \"Topic14\", \"Topic14\", \"Topic14\", \"Topic14\", \"Topic14\", \"Topic14\", \"Topic14\", \"Topic14\", \"Topic14\", \"Topic14\", \"Topic14\", \"Topic14\", \"Topic14\", \"Topic14\", \"Topic14\", \"Topic14\", \"Topic14\", \"Topic14\", \"Topic14\", \"Topic14\", \"Topic14\", \"Topic14\", \"Topic14\", \"Topic14\", \"Topic14\", \"Topic14\", \"Topic15\", \"Topic15\", \"Topic15\", \"Topic15\", \"Topic15\", \"Topic15\", \"Topic15\", \"Topic15\", \"Topic15\", \"Topic15\", \"Topic15\", \"Topic15\", \"Topic15\", \"Topic15\", \"Topic15\", \"Topic15\", \"Topic15\", \"Topic15\", \"Topic15\", \"Topic15\", \"Topic15\", \"Topic15\", \"Topic15\", \"Topic15\", \"Topic15\", \"Topic15\", \"Topic15\", \"Topic15\", \"Topic15\", \"Topic15\", \"Topic15\", \"Topic16\", \"Topic16\", \"Topic16\", \"Topic16\", \"Topic16\", \"Topic16\", \"Topic16\", \"Topic16\", \"Topic16\", \"Topic16\", \"Topic16\", \"Topic16\", \"Topic16\", \"Topic16\", \"Topic16\", \"Topic16\", \"Topic16\", \"Topic16\", \"Topic16\", \"Topic16\", \"Topic16\", \"Topic16\", \"Topic16\", \"Topic16\", \"Topic16\", \"Topic16\", \"Topic16\", \"Topic16\", \"Topic16\", \"Topic16\", \"Topic16\", \"Topic16\", \"Topic17\", \"Topic17\", \"Topic17\", \"Topic17\", \"Topic17\", \"Topic17\", \"Topic17\", \"Topic17\", \"Topic17\", \"Topic17\", \"Topic17\", \"Topic17\", \"Topic17\", \"Topic17\", \"Topic17\", \"Topic17\", \"Topic17\", \"Topic17\", \"Topic17\", \"Topic17\", \"Topic17\", \"Topic17\", \"Topic17\", \"Topic17\", \"Topic17\", \"Topic17\", \"Topic17\", \"Topic17\", \"Topic17\", \"Topic17\", \"Topic17\", \"Topic18\", \"Topic18\", \"Topic18\", \"Topic18\", \"Topic18\", \"Topic18\", \"Topic18\", \"Topic18\", \"Topic18\", \"Topic18\", \"Topic18\", \"Topic18\", \"Topic18\", \"Topic18\", \"Topic18\", \"Topic18\", \"Topic18\", \"Topic18\", \"Topic18\", \"Topic18\", \"Topic18\", \"Topic18\", \"Topic18\", \"Topic18\", \"Topic18\", \"Topic18\", \"Topic18\", \"Topic18\", \"Topic18\", \"Topic18\", \"Topic18\", \"Topic18\", \"Topic18\", \"Topic19\", \"Topic19\", \"Topic19\", \"Topic19\", \"Topic19\", \"Topic19\", \"Topic19\", \"Topic19\", \"Topic19\", \"Topic19\", \"Topic19\", \"Topic19\", \"Topic19\", \"Topic19\", \"Topic19\", \"Topic19\", \"Topic19\", \"Topic19\", \"Topic19\", \"Topic19\", \"Topic19\", \"Topic19\", \"Topic19\", \"Topic19\", \"Topic19\", \"Topic19\", \"Topic19\", \"Topic19\", \"Topic19\", \"Topic19\", \"Topic19\", \"Topic19\", \"Topic19\", \"Topic19\", \"Topic19\", \"Topic19\", \"Topic19\", \"Topic20\", \"Topic20\", \"Topic20\", \"Topic20\", \"Topic20\", \"Topic20\", \"Topic20\", \"Topic20\", \"Topic20\", \"Topic20\", \"Topic20\", \"Topic20\", \"Topic20\", \"Topic20\", \"Topic20\", \"Topic20\", \"Topic20\", \"Topic20\", \"Topic20\", \"Topic20\", \"Topic20\", \"Topic20\", \"Topic20\", \"Topic20\", \"Topic20\", \"Topic20\", \"Topic20\", \"Topic20\", \"Topic20\", \"Topic20\", \"Topic20\", \"Topic20\", \"Topic20\"], \"logprob\": [30.0, 29.0, 28.0, 27.0, 26.0, 25.0, 24.0, 23.0, 22.0, 21.0, 20.0, 19.0, 18.0, 17.0, 16.0, 15.0, 14.0, 13.0, 12.0, 11.0, 10.0, 9.0, 8.0, 7.0, 6.0, 5.0, 4.0, 3.0, 2.0, 1.0, -3.8916, -4.8535, -5.1159, -5.3813, -5.5018, -5.2915, -5.5274, -5.6068, -5.6238, -5.6705, -5.6715, -5.8675, -5.8684, -5.9888, -6.0126, -6.0169, -6.1429, -6.1667, -6.2747, -6.3028, -6.4123, -6.4139, -6.4303, -6.4502, -6.4823, -6.5295, -6.5443, -6.5594, -6.0044, -6.5797, -4.9207, -4.7987, -5.2046, -5.2354, -4.9374, -4.3759, -5.2207, -4.1469, -4.6129, -5.1407, -5.7166, -4.081, -4.1128, -4.1315, -4.0295, -5.7486, -4.4649, -5.2709, -3.9814, -4.8106, -5.2041, -3.7854, -4.5346, -4.6449, -5.0755, -4.0143, -4.6377, -4.6149, -4.1815, -4.7178, -5.1256, -4.8782, -4.7973, -5.0259, -4.9561, -4.9061, -5.0527, -5.0734, -4.246, -4.2813, -4.3739, -4.8086, -4.8671, -4.9758, -4.9975, -5.0103, -5.043, -5.2, -5.2933, -5.3183, -5.3592, -5.5208, -5.531, -5.5694, -5.5775, -5.6958, -5.7075, -5.7168, -5.7184, -5.7191, -5.9171, -5.9219, -5.929, -5.9562, -5.9637, -5.9817, -6.0135, -6.0275, -5.483, -5.5984, -4.8989, -3.6374, -5.344, -5.3944, -4.4047, -4.8539, -4.7298, -4.8533, -3.1175, -5.2936, -4.9453, -5.238, -4.7508, -4.8558, -5.2707, -4.3428, -5.0095, -5.1902, -4.8332, -4.9938, -5.1979, -4.9828, -3.8341, -4.0986, -4.6585, -4.8751, -5.0186, -5.3303, -5.3441, -5.4892, -5.4909, -5.5276, -5.5901, -5.6628, -5.6728, -5.7913, -5.8758, -5.9579, -5.9612, -5.9645, -5.9681, -5.986, -6.0911, -6.1147, -6.1345, -6.1424, -6.0604, -6.03, -6.2166, -4.3049, -6.2386, -6.2484, -4.6353, -4.9353, -4.9973, -5.7304, -5.2642, -5.9487, -5.4988, -4.0978, -4.2295, -4.2801, -3.8503, -5.3407, -5.2742, -4.2624, -4.011, -5.0305, -5.1173, -4.9607, -4.3814, -5.0166, -3.2327, -4.6818, -4.3366, -4.4844, -4.2902, -4.8179, -3.8289, -3.9926, -4.5271, -4.9499, -4.3198, -4.3599, -4.7572, -4.6945, -4.7568, -4.6777, -3.7416, -4.4764, -4.7871, -4.8248, -4.9189, -4.9423, -4.9693, -5.0869, -5.0946, -5.1009, -5.241, -5.3023, -5.3696, -5.4037, -5.4549, -5.4799, -5.4865, -5.5628, -5.5884, -5.6747, -5.6787, -5.7934, -5.8816, -5.9124, -5.9601, -5.975, -6.1298, -6.2176, -6.2384, -6.3142, -4.1186, -4.8522, -4.3089, -5.2657, -3.736, -4.9195, -4.4414, -4.4701, -3.9245, -4.9756, -4.7709, -4.6171, -4.4827, -5.2533, -3.7365, -4.8095, -4.6088, -3.9829, -4.4825, -5.0321, -4.5685, -4.7043, -4.6995, -4.9249, -5.0182, -1.8825, -3.9051, -4.0378, -5.0274, -5.4608, -5.5614, -5.6915, -5.7715, -6.0649, -6.1399, -6.1587, -6.2153, -6.367, -6.4799, -6.5151, -6.5255, -6.696, -6.7813, -6.8814, -6.9915, -7.002, -7.0301, -7.0522, -7.1783, -7.2137, -7.2341, -7.249, -7.2546, -7.2815, -7.2862, -2.4289, -5.3924, -2.2004, -5.3903, -2.8874, -2.9727, -5.3221, -2.6258, -2.3697, -2.292, -3.7837, -4.5628, -4.8261, -5.7239, -5.9928, -4.9371, -5.2421, -5.1667, -5.8454, -6.0508, -5.9843, -6.0069, -5.9695, -3.9602, -4.5218, -4.6515, -4.771, -4.9261, -5.0619, -5.0991, -5.1018, -5.1405, -5.1835, -5.1878, -5.294, -5.3002, -5.3254, -5.3271, -5.3655, -5.4315, -5.4701, -5.4241, -5.5898, -5.2639, -5.6106, -5.6171, -5.6315, -5.6444, -5.737, -5.7715, -5.8099, -5.8179, -5.9012, -4.5834, -4.8539, -4.8526, -5.1823, -4.3088, -3.6657, -4.4975, -4.9335, -4.7173, -5.4827, -4.3688, -3.5599, -3.9804, -5.2569, -5.1784, -4.9896, -4.882, -4.8778, -5.1505, -5.091, -5.0214, -5.1414, -3.3047, -4.0391, -4.1431, -4.1698, -4.2628, -4.2714, -4.4382, -4.6508, -4.7445, -4.8548, -4.8937, -4.9325, -4.9906, -4.9948, -5.0393, -5.0416, -5.0495, -5.0286, -5.2135, -5.3184, -5.3335, -5.3426, -5.3602, -5.365, -5.3775, -5.4134, -5.4359, -5.4514, -5.4636, -5.4783, -4.763, -3.3638, -4.5813, -4.44, -4.6702, -4.191, -4.687, -4.797, -3.9861, -4.5723, -4.1709, -4.1365, -4.6858, -4.1348, -4.9531, -3.801, -4.1833, -4.3894, -4.4036, -4.447, -4.5312, -4.535, -4.563, -4.5831, -4.6385, -4.6544, -4.7614, -4.7927, -4.8229, -4.9338, -4.9391, -4.96, -5.0153, -5.0443, -5.0548, -5.0567, -5.0674, -5.0715, -5.1378, -5.1438, -5.1833, -5.1958, -5.1974, -5.2339, -5.2691, -5.0443, -3.6603, -4.0918, -4.2162, -5.0074, -4.9361, -4.3679, -4.4286, -4.483, -4.7891, -4.3831, -4.594, -4.6665, -4.8544, -4.9549, -4.9479, -2.5222, -3.3122, -3.6159, -3.2291, -3.8436, -3.8495, -4.015, -4.0301, -4.0441, -4.1557, -4.2025, -4.254, -4.3283, -4.3641, -4.4753, -4.4754, -4.5372, -4.5421, -4.5612, -4.5951, -4.6293, -4.667, -4.6988, -4.7118, -4.6241, -4.978, -5.0297, -5.1704, -5.2763, -5.3957, -2.4708, -3.8508, -4.0793, -4.2379, -3.9644, -4.2684, -4.098, -3.9778, -4.2731, -2.5414, -2.59, -2.9234, -2.937, -3.6875, -3.7203, -3.8863, -3.9576, -4.1008, -4.2148, -4.2188, -4.2762, -4.3364, -4.6118, -4.7663, -4.795, -4.8294, -4.9, -4.9045, -4.9058, -4.9293, -4.9322, -4.9486, -4.959, -5.0225, -5.0417, -5.0591, -5.08, -5.1153, -5.1997, -4.1638, -3.1276, -4.681, -4.6562, -4.5366, -4.8445, -4.1257, -4.647, -4.58, -4.7933, -4.7832, -3.1039, -3.2257, -3.2775, -2.0959, -3.4448, -3.4736, -3.6052, -3.6134, -3.7241, -3.9424, -4.0505, -4.1287, -4.1947, -4.3164, -4.6674, -4.6726, -4.7527, -4.8755, -4.8962, -4.9483, -5.0312, -5.0786, -5.2142, -5.2375, -5.2692, -5.3043, -5.4009, -5.4009, -5.4069, -5.4126, -3.4697, -4.6767, -4.8192, -4.8528, -4.9844, -5.065, -5.1926, -2.6386, -3.0633, -3.2318, -3.3496, -3.426, -3.5521, -3.5632, -4.0233, -4.159, -4.2302, -4.3486, -4.3599, -4.4133, -4.4321, -4.6349, -4.6362, -4.7662, -4.7823, -5.0294, -5.0318, -5.1404, -5.1734, -5.1929, -5.423, -5.4238, -5.5068, -5.5079, -5.5785, -5.6286, -5.7438, -4.3087, -2.2802, -5.2525, -3.0701, -4.7219, -4.2555, -5.3339, -2.9228, -3.0197, -3.2919, -3.4152, -3.5885, -3.6509, -3.7625, -3.7887, -4.1272, -4.2394, -4.2484, -4.2747, -4.4545, -4.4821, -4.5114, -4.5137, -4.7438, -4.7514, -4.807, -4.9748, -5.2641, -5.3698, -5.3709, -5.3709, -5.3709, -5.3718, -5.3719, -5.3719, -5.3719, -5.5926, -3.6052, -4.1306, -3.9854, -3.8651, -4.4514, -4.9937, -4.8328, -5.0028, -4.7881, -5.162, -2.4839, -2.6672, -3.2102, -3.5576, -3.6384, -3.7477, -3.9393, -3.9713, -3.9917, -3.9928, -4.0573, -4.1548, -4.3089, -4.6046, -4.6196, -4.647, -4.661, -4.6822, -4.6934, -4.7287, -4.7616, -4.7883, -4.8704, -4.9278, -4.9558, -5.1278, -5.1285, -5.1358, -5.1539, -5.1628, -4.506, -1.416, -3.1687, -3.3268, -3.374, -3.7688, -4.1927, -4.4531, -4.5293, -4.5741, -4.6662, -4.6769, -4.7711, -4.8953, -4.9596, -5.0397, -5.2122, -5.3948, -6.4694, -7.1586, -7.5976, -4.6351, -2.5281, -10.2665, -5.2689, -3.3633, -4.5319, -4.0151, -6.2733, -6.1224, -12.0069, -6.3552, -2.4994, -3.129, -3.5142, -3.6247, -3.8383, -3.877, -3.9403, -4.0559, -4.1547, -4.2041, -4.2906, -4.2982, -4.3105, -4.3645, -4.3894, -4.3974, -4.4864, -2.2625, -4.712, -4.7498, -4.9632, -5.079, -5.1111, -5.1876, -5.2217, -5.2777, -5.3182, -5.374, -5.3842, -5.4696, -4.9021, -3.8022, -2.9589, -3.2876, -3.3402, -3.4144, -3.5261, -3.5437, -3.5726, -3.6491, -3.9778, -4.0895, -4.2092, -4.2398, -4.3477, -4.3705, -4.5542, -4.5935, -4.6093, -4.6556, -4.6799, -4.6867, -4.7546, -5.0686, -5.0793, -5.1393, -5.2257, -5.2649, -5.3103, -5.4472, -5.7251, -5.9373, -4.0817, -2.1636, -2.9428, -2.9432, -3.1755, -3.2774, -3.4885, -4.1551, -4.2179, -4.2298, -4.5033, -4.5307, -4.8356, -5.0565, -5.4296, -5.4919, -5.4965, -5.7992, -5.9911, -6.1205, -6.3792, -6.4402, -6.5212, -11.5298, -11.5298, -11.5298, -11.5298, -11.5298, -11.5298, -11.5299, -11.5299, -11.5299, -11.5298, -11.5299, -1.3734, -3.1678, -3.4493, -3.674, -3.6834, -3.7409, -4.0485, -4.4675, -4.5577, -4.8324, -4.9796, -5.3391, -5.4757, -5.5362, -6.3158, -6.3995, -7.6635, -11.5966, -11.5966, -11.5966, -11.5966, -11.5966, -11.5967, -11.5966, -11.5967, -11.5967, -11.5967, -11.5967, -11.5967, -11.5967, -11.5966, -7.636, -11.5966, -11.5966, -11.5966, -11.5967, -11.5964, -3.2111, -3.2369, -4.7392, -4.8499, -5.0026, -5.1441, -5.5145, -5.5145, -5.5147, -5.517, -5.5653, -5.5654, -5.5654, -5.9514, -6.3522, -7.8241, -11.1082, -11.1083, -11.1083, -11.1083, -11.1083, -11.1083, -11.1083, -11.1083, -11.1083, -11.1083, -11.1083, -11.1083, -11.1083, -11.1083, -11.1083, -11.1083, -11.1083], \"loglift\": [30.0, 29.0, 28.0, 27.0, 26.0, 25.0, 24.0, 23.0, 22.0, 21.0, 20.0, 19.0, 18.0, 17.0, 16.0, 15.0, 14.0, 13.0, 12.0, 11.0, 10.0, 9.0, 8.0, 7.0, 6.0, 5.0, 4.0, 3.0, 2.0, 1.0, 1.2187, 1.2185, 1.2183, 1.2182, 1.2181, 1.2181, 1.2181, 1.2181, 1.218, 1.218, 1.2179, 1.2178, 1.2178, 1.2177, 1.2177, 1.2176, 1.2175, 1.2175, 1.2173, 1.2173, 1.2171, 1.2171, 1.2171, 1.217, 1.217, 1.2169, 1.2169, 1.2168, 1.2168, 1.2168, 1.2161, 1.2106, 1.2142, 1.2139, 1.2104, 1.2016, 1.2061, 1.1892, 1.1979, 1.2005, 1.2097, 1.1747, 1.1384, 1.1297, 1.0985, 1.2022, 1.1156, 1.1698, 1.0482, 1.1229, 1.1585, 0.9922, 1.0792, 1.0873, 1.1388, 0.9652, 1.0329, 0.9694, 0.8159, 0.9946, 1.113, 0.9113, 0.7496, 0.9927, 0.7586, 0.1804, 0.7495, 0.2742, 1.8923, 1.8923, 1.8923, 1.892, 1.892, 1.8919, 1.8919, 1.8919, 1.8919, 1.8917, 1.8916, 1.8916, 1.8915, 1.8913, 1.8913, 1.8913, 1.8913, 1.8911, 1.891, 1.891, 1.891, 1.891, 1.8907, 1.8907, 1.8906, 1.8906, 1.8906, 1.8905, 1.8905, 1.8904, 1.8881, 1.8867, 1.8788, 1.851, 1.8769, 1.8679, 1.8138, 1.8174, 1.7979, 1.7971, 1.4955, 1.8229, 1.7491, 1.7823, 1.6264, 1.581, 1.7274, 1.0049, 1.4557, 1.5768, 0.7189, 0.996, 1.4463, 0.5562, 2.1194, 2.1192, 2.119, 2.1189, 2.1187, 2.1183, 2.1183, 2.1181, 2.1181, 2.118, 2.1179, 2.1178, 2.1177, 2.1175, 2.1173, 2.1171, 2.1171, 2.1171, 2.117, 2.117, 2.1167, 2.1166, 2.1166, 2.1165, 2.1164, 2.1164, 2.1163, 2.1162, 2.1162, 2.1162, 2.1119, 2.1016, 2.0941, 2.1077, 2.0888, 2.1105, 2.0797, 1.9599, 1.9597, 1.9322, 1.8734, 2.0305, 1.9977, 1.8059, 1.7102, 1.9075, 1.9272, 1.8784, 1.6182, 1.8595, 1.0757, 1.6863, 1.4308, 1.4526, 1.2619, 1.5842, 0.7054, 0.6204, 1.1814, 1.6678, 0.4579, 0.5067, 1.2482, 0.8445, 0.9579, 0.3017, 2.3851, 2.3847, 2.3844, 2.3843, 2.3842, 2.3842, 2.3842, 2.384, 2.384, 2.384, 2.3838, 2.3836, 2.3835, 2.3835, 2.3833, 2.3833, 2.3833, 2.3831, 2.383, 2.3828, 2.3828, 2.3825, 2.3822, 2.3821, 2.3819, 2.3819, 2.3812, 2.3809, 2.3808, 2.3804, 2.3799, 2.3679, 2.3472, 2.3509, 2.247, 2.3174, 2.2469, 2.1798, 2.0717, 2.2125, 2.1606, 2.0948, 1.9539, 2.2342, 1.2608, 1.9425, 1.7597, 1.1036, 1.4545, 2.0295, 1.2168, 1.3585, 1.1028, 0.2032, 1.3762, 2.4774, 2.477, 2.4769, 2.4759, 2.4751, 2.4749, 2.4745, 2.4742, 2.4732, 2.4728, 2.4725, 2.4725, 2.4716, 2.4709, 2.4707, 2.4706, 2.4694, 2.4687, 2.4677, 2.4666, 2.4665, 2.4662, 2.4659, 2.4644, 2.4639, 2.4637, 2.4635, 2.4634, 2.463, 2.4629, 2.4475, 2.4488, 2.374, 2.4284, 2.3613, 2.3538, 2.3961, 2.2407, 2.1646, 2.0164, 2.1348, 2.1985, 2.1465, 2.2951, 2.2233, 1.6683, 1.7663, 1.6109, 1.9545, 2.1557, 1.8445, 1.6305, 0.8985, 2.5248, 2.5244, 2.5242, 2.5241, 2.5239, 2.5237, 2.5236, 2.5236, 2.5235, 2.5235, 2.5235, 2.5233, 2.5232, 2.5232, 2.5232, 2.5231, 2.5229, 2.5229, 2.5227, 2.5225, 2.5225, 2.5225, 2.5225, 2.5224, 2.5224, 2.5221, 2.522, 2.5219, 2.5218, 2.5215, 2.5156, 2.517, 2.5137, 2.5165, 2.4403, 2.3543, 2.3811, 2.375, 2.3153, 2.4869, 2.0006, 1.5266, 1.7468, 2.3803, 2.2591, 1.9347, 1.7051, 1.6528, 2.0708, 1.5743, 0.9683, 1.6121, 3.2852, 3.2845, 3.2844, 3.2844, 3.2842, 3.2842, 3.2839, 3.2835, 3.2832, 3.2829, 3.2828, 3.2827, 3.2825, 3.2825, 3.2824, 3.2824, 3.2823, 3.2821, 3.2817, 3.2812, 3.2812, 3.2811, 3.2811, 3.281, 3.281, 3.2808, 3.2807, 3.2806, 3.2805, 3.2805, 3.2801, 3.1117, 3.1614, 2.9853, 3.0414, 2.8098, 2.9448, 2.9772, 2.3833, 2.7678, 2.3363, 1.8844, 2.5808, 0.4782, 2.1802, 3.3835, 3.383, 3.3826, 3.3826, 3.3825, 3.3823, 3.3823, 3.3822, 3.3822, 3.3821, 3.382, 3.3817, 3.3816, 3.3815, 3.3812, 3.3812, 3.3811, 3.3809, 3.3808, 3.3807, 3.3807, 3.3807, 3.3807, 3.3804, 3.3804, 3.3802, 3.3801, 3.3801, 3.38, 3.3798, 3.3779, 3.3575, 3.2033, 3.1144, 3.311, 3.2806, 3.0243, 3.0347, 2.9601, 2.9801, 2.3395, 2.4263, 2.571, 2.6941, 2.8667, 2.5392, 3.4574, 3.457, 3.4567, 3.4566, 3.4565, 3.4565, 3.4563, 3.4562, 3.4562, 3.456, 3.4559, 3.4559, 3.4557, 3.4556, 3.4554, 3.4554, 3.4552, 3.4552, 3.4552, 3.4551, 3.455, 3.4549, 3.4548, 3.4548, 3.4545, 3.4539, 3.4537, 3.453, 3.4525, 3.4519, 3.4454, 3.3472, 3.3575, 3.3552, 3.1954, 3.1583, 2.8093, 2.4064, 2.5298, 3.856, 3.856, 3.8558, 3.8558, 3.8549, 3.8549, 3.8546, 3.8544, 3.8541, 3.8538, 3.8538, 3.8536, 3.8535, 3.8525, 3.8518, 3.8517, 3.8515, 3.8512, 3.8511, 3.8511, 3.851, 3.851, 3.8509, 3.8508, 3.8505, 3.8504, 3.8502, 3.8501, 3.8499, 3.8493, 3.4664, 2.4193, 3.3916, 3.2107, 3.0105, 3.5037, 1.8739, 2.8805, 1.7572, 1.8265, 1.0064, 4.7371, 4.7368, 4.7367, 4.7364, 4.7362, 4.7361, 4.7357, 4.7357, 4.7352, 4.7343, 4.7337, 4.7332, 4.7328, 4.732, 4.729, 4.7289, 4.728, 4.7266, 4.7263, 4.7256, 4.7245, 4.7237, 4.7215, 4.7211, 4.7205, 4.7199, 4.7179, 4.7179, 4.7178, 4.7177, 3.9195, 3.9809, 3.7833, 2.9521, 3.2317, 3.2157, 3.7501, 4.7536, 4.7528, 4.7524, 4.7521, 4.7519, 4.7515, 4.7515, 4.7494, 4.7486, 4.7482, 4.7473, 4.7472, 4.7468, 4.7467, 4.7448, 4.7448, 4.7434, 4.7432, 4.74, 4.7399, 4.7382, 4.7377, 4.7373, 4.7328, 4.7328, 4.7309, 4.7309, 4.7291, 4.7278, 4.7246, 4.6999, 4.5711, 4.706, 4.1673, 3.9737, 3.182, 2.4089, 4.8268, 4.8266, 4.826, 4.8256, 4.825, 4.8247, 4.8242, 4.8241, 4.8222, 4.8215, 4.8214, 4.8212, 4.8197, 4.8194, 4.8192, 4.8191, 4.8167, 4.8166, 4.8159, 4.8135, 4.8084, 4.8062, 4.8062, 4.8062, 4.8062, 4.8061, 4.8061, 4.8061, 4.8061, 4.8006, 4.7091, 4.3583, 4.2541, 3.3562, 2.2977, 3.634, 2.8044, 3.2194, 2.1522, 3.7807, 5.1151, 5.1147, 5.1132, 5.1118, 5.1114, 5.1107, 5.1095, 5.1092, 5.1091, 5.1091, 5.1085, 5.1077, 5.1062, 5.1026, 5.1024, 5.102, 5.1018, 5.1015, 5.1013, 5.1008, 5.1002, 5.0998, 5.0983, 5.0973, 5.0967, 5.093, 5.093, 5.0928, 5.0924, 5.0922, 5.0706, 5.1203, 5.1174, 5.1169, 5.1167, 5.1146, 5.1114, 5.1086, 5.1076, 5.107, 5.1057, 5.1055, 5.104, 5.1018, 5.1006, 5.0989, 5.0948, 5.0897, 5.0321, 4.9513, 4.8688, 4.5445, 4.3792, 3.4848, 3.4516, 3.0208, 2.74, 2.5724, 2.3595, 2.1725, 1.9193, 1.6716, 5.1728, 5.1711, 5.1695, 5.1689, 5.1676, 5.1673, 5.1668, 5.1659, 5.165, 5.1645, 5.1636, 5.1635, 5.1634, 5.1628, 5.1625, 5.1624, 5.1613, 5.1592, 5.1579, 5.1573, 5.1532, 5.1506, 5.1498, 5.1479, 5.147, 5.1454, 5.1442, 5.1425, 5.1422, 5.1393, 4.8501, 4.2529, 5.6466, 5.6448, 5.6444, 5.6439, 5.643, 5.6429, 5.6426, 5.642, 5.6383, 5.6368, 5.6349, 5.6344, 5.6325, 5.6321, 5.6283, 5.6273, 5.627, 5.6258, 5.6252, 5.625, 5.6232, 5.613, 5.6126, 5.6102, 5.6066, 5.6049, 5.6028, 5.5958, 5.5787, 5.5622, 4.0618, 5.7074, 5.7047, 5.7047, 5.7034, 5.7027, 5.7011, 5.6932, 5.6921, 5.6919, 5.6864, 5.6857, 5.6774, 5.6696, 5.652, 5.6484, 5.6481, 5.6272, 5.6106, 5.5977, 5.5669, 5.5586, 5.5468, 2.3966, 2.3965, 2.3965, 2.3965, 2.3965, 2.3965, 2.3965, 2.3965, 2.3964, 2.3964, 2.3964, 5.7517, 5.7463, 5.7442, 5.7421, 5.742, 5.7413, 5.7373, 5.7293, 5.7271, 5.7191, 5.7139, 5.6975, 5.6897, 5.6858, 5.6122, 5.6008, 5.2948, 2.3297, 2.3297, 2.3297, 2.3297, 2.3297, 2.3297, 2.3297, 2.3297, 2.3297, 2.3297, 2.3297, 2.3297, 2.3297, 2.3297, -0.5151, 2.3297, 2.3297, 2.3297, 2.3297, -3.1687, 7.1661, 7.1654, 7.0686, 7.0548, 7.0335, 7.011, 6.9384, 6.9384, 6.9384, 6.9379, 6.9267, 6.9267, 6.9267, 6.8216, 6.6786, 5.8225, 2.8181, 2.8181, 2.8181, 2.8181, 2.8181, 2.8181, 2.8181, 2.8181, 2.8181, 2.8181, 2.8181, 2.8181, 2.8181, 2.8181, 2.8181, 2.8179, 2.818]}, \"token.table\": {\"Topic\": [9, 7, 4, 15, 5, 16, 16, 3, 1, 1, 4, 8, 7, 12, 6, 8, 15, 14, 1, 2, 3, 4, 6, 8, 5, 7, 9, 19, 1, 3, 6, 7, 3, 13, 5, 14, 18, 1, 2, 3, 6, 8, 13, 4, 7, 13, 1, 4, 5, 6, 12, 3, 11, 16, 12, 17, 4, 5, 5, 6, 7, 13, 4, 5, 2, 10, 6, 1, 1, 7, 10, 1, 2, 3, 4, 6, 7, 10, 18, 14, 3, 14, 6, 17, 20, 4, 1, 4, 5, 6, 13, 4, 19, 1, 1, 9, 1, 2, 9, 15, 16, 15, 6, 8, 2, 9, 10, 17, 17, 1, 4, 8, 13, 14, 19, 14, 16, 2, 12, 10, 12, 19, 1, 2, 6, 12, 9, 1, 3, 5, 9, 6, 1, 2, 3, 4, 6, 17, 12, 7, 10, 5, 3, 9, 4, 1, 6, 1, 2, 3, 4, 5, 6, 7, 8, 12, 1, 3, 4, 6, 8, 18, 19, 3, 2, 3, 6, 4, 6, 12, 13, 9, 15, 20, 4, 4, 4, 1, 6, 6, 13, 1, 4, 6, 19, 4, 7, 9, 1, 2, 8, 13, 2, 3, 7, 9, 5, 1, 3, 4, 3, 19, 2, 7, 15, 6, 2, 3, 5, 6, 17, 12, 2, 3, 9, 8, 4, 15, 17, 15, 18, 16, 5, 18, 7, 9, 12, 4, 8, 12, 9, 6, 1, 7, 1, 6, 8, 9, 3, 17, 6, 20, 10, 12, 16, 8, 20, 19, 8, 2, 9, 12, 1, 2, 6, 1, 2, 5, 7, 4, 6, 17, 16, 11, 16, 14, 2, 8, 6, 6, 2, 5, 9, 8, 12, 2, 2, 5, 9, 14, 8, 2, 3, 11, 5, 3, 3, 13, 5, 8, 10, 1, 2, 3, 7, 20, 8, 20, 3, 1, 5, 9, 9, 7, 15, 4, 8, 11, 2, 5, 15, 17, 1, 2, 4, 8, 7, 20, 2, 7, 8, 5, 11, 1, 5, 2, 16, 3, 4, 13, 14, 1, 4, 6, 7, 4, 17, 1, 3, 2, 3, 4, 1, 4, 15, 16, 13, 9, 1, 1, 4, 6, 7, 8, 4, 4, 12, 10, 16, 1, 2, 9, 2, 8, 1, 6, 2, 1, 2, 7, 8, 10, 1, 2, 3, 4, 6, 8, 3, 6, 14, 1, 6, 12, 12, 1, 2, 3, 4, 6, 10, 1, 11, 14, 1, 11, 3, 1, 6, 3, 4, 5, 6, 2, 16, 7, 11, 20, 11, 10, 13, 12, 13, 17, 18, 1, 2, 3, 5, 1, 2, 3, 4, 6, 7, 1, 1, 1, 2, 3, 5, 10, 6, 7, 13, 2, 3, 11, 1, 2, 3, 4, 10, 16, 17, 1, 2, 6, 12, 6, 1, 20, 1, 1, 9, 8, 8, 1, 2, 3, 1, 10, 8, 13, 4, 11, 16, 3, 5, 8, 6, 1, 2, 3, 4, 6, 7, 8, 10, 4, 8, 12, 10, 9, 18, 18, 2, 12, 7, 14, 6, 20, 2, 3, 4, 6, 4, 2, 8, 14, 15, 1, 6, 7, 10, 8, 2, 13, 2, 5, 8, 2, 3, 9, 3, 6, 11, 12, 4, 12, 14, 1, 2, 4, 6, 7, 4, 5, 5, 14, 17, 6, 19, 17, 15, 3, 10, 1, 6, 13, 16, 1, 3, 4, 20, 6, 1, 2, 3, 5, 6, 10, 11, 4, 6, 7, 6, 12, 14, 10, 1, 7, 1, 3, 6, 2, 7, 1, 4, 5, 6, 1, 1, 3, 1, 2, 3, 5, 7, 2, 3, 15, 1, 6, 1, 4, 6, 1, 2, 3, 5, 7, 13, 1, 2, 3, 5, 19, 1, 1, 2, 5, 16, 18, 9, 9, 2, 3, 9, 2, 3, 1, 2, 3, 4, 6, 7, 18, 1, 4, 5, 6, 13, 3, 19, 1, 2, 3, 4, 6, 7, 19, 13, 2, 2, 20, 12, 1, 9, 1, 2, 4, 5, 6, 7, 8, 16, 13, 6, 3, 9, 5, 2, 3, 5, 7, 15, 18, 11, 13, 5, 6, 13, 1, 11, 3, 17, 2, 9, 9, 2, 4, 6, 8, 1, 3, 11, 4, 17, 17, 13, 3, 9, 6, 5, 17, 9, 13, 16, 5, 1, 2, 4, 4, 6, 13, 11, 6, 18, 4, 12, 1, 2, 3, 2, 3, 5, 10, 2, 9, 1, 4, 5, 6, 1, 2, 3, 6, 7, 8, 1, 2, 3, 5, 6, 1, 2, 3, 10, 16, 15, 3, 5, 17, 14, 3, 15, 1, 2, 3, 4, 6, 7, 10, 3, 8, 6, 7, 1, 13, 6, 13, 10, 8, 1, 15, 1, 4, 5, 2, 11, 11, 11, 10, 1, 3, 5, 5, 5, 6, 2, 3, 2, 2, 12, 6, 11, 8, 1, 2, 5, 6, 14, 2, 3, 9, 14, 5, 10, 10, 1, 4, 6, 7, 16, 1, 4, 6, 7, 7, 2, 3, 15, 2, 1, 10, 3, 2, 10, 16, 18, 3, 8, 16, 10, 3, 9, 1, 2, 3, 4, 10, 1, 7, 12, 5, 9, 3, 1, 2, 3, 4, 7, 15, 18, 1, 6, 8, 9, 6, 16, 10, 7, 1, 2, 2, 3, 5, 9, 8, 4, 9, 7, 7, 1, 3, 4, 6, 9, 13, 2, 2, 2, 11, 2, 7, 7, 15, 6, 7, 1, 4, 7, 2, 4, 6, 7, 16, 7, 12, 3, 3, 4, 6, 7, 8, 1, 2, 1, 2, 3, 4, 7, 10, 6, 9, 17, 14, 1, 2, 5, 7, 9, 18, 4, 1, 1, 5, 5, 1, 4, 6, 7, 19, 10, 3, 6, 8, 2, 3, 4, 19, 13, 2, 15, 4, 4, 4, 1, 3, 16, 3, 4, 5, 13, 2, 6, 8, 12, 2, 3, 1, 2, 4, 7, 2, 3, 8, 11, 8, 7, 11, 1, 3, 6, 13, 11, 4, 2, 18, 1, 8, 1, 5, 6, 7, 1, 7, 8, 11, 10, 14, 18, 15, 3, 14, 5, 6, 1, 4, 7, 1, 2, 3, 9, 10, 14, 6, 11, 13, 10, 12, 1, 7, 3, 10, 11, 16, 1, 4, 6, 2, 1, 2, 11, 17, 4, 8, 8, 10, 2, 19, 19, 9, 10, 15, 15, 7, 1, 2, 3, 4, 6, 1, 3, 4, 5, 17, 5, 8, 1, 2, 3, 5, 1, 2, 3, 6, 1, 4, 7, 9, 1, 11, 2, 6, 17, 1, 2, 3, 6, 9, 18, 11, 2, 13, 12, 2, 11, 13, 9, 16, 19, 2, 3, 9, 13, 14, 7, 4, 2, 8, 1, 3, 5, 2, 3, 4, 13, 13, 14, 13, 2, 11, 11, 11, 14, 6, 8, 18, 9, 1, 1, 10, 17, 14, 8, 10, 1, 2, 3, 10, 1, 3, 4, 5, 6, 7, 9, 4, 6, 7, 6, 1, 3, 10, 6, 2, 8, 4, 8, 2, 3, 5, 1, 2, 3, 4, 5, 6, 17, 13, 16, 15, 14, 15, 3, 11, 19, 2, 4, 6, 9, 12, 13, 14, 2, 7, 9, 6, 8, 1, 4, 6, 2, 4, 8, 5, 9, 11, 7, 10, 2, 2, 17, 11, 1, 3, 4, 17, 7, 2, 16, 18, 3, 1, 3, 4, 1, 4, 5, 18, 5, 5, 1, 2, 3, 4, 6, 5, 8, 1, 6, 13, 10, 10, 4, 16, 7, 8, 12, 13, 1, 2, 3, 4, 5, 7, 5, 4, 1, 3, 4, 13, 13, 1, 1, 2, 3, 17, 18, 6, 5, 4, 3, 5, 3, 15, 1, 2, 3, 4, 6, 7, 9, 2, 14, 5, 11, 14, 3, 5, 16, 1, 2, 3, 4, 13, 14, 14, 1, 2, 3, 5, 6, 13, 1, 6, 15, 3, 8, 1, 2, 3, 4, 6, 13, 6, 1, 2, 4, 10, 3, 6, 20, 12, 12, 20, 10, 3, 11, 20, 6, 6, 13, 4, 12, 13, 1, 2, 3, 4, 1, 2, 3, 9, 13, 17, 13, 17, 1, 2, 3, 4, 5, 6, 1, 2, 6, 8, 10, 10, 1, 5], \"Freq\": [0.9996226931585204, 0.994841344813724, 0.9989228838052981, 0.9862412085376411, 0.9955185970148427, 0.986342087410791, 0.9717888663879609, 0.999129351763028, 0.9983423465178051, 0.301129804713258, 0.04451484069674249, 0.654630010246213, 0.9985415932818816, 0.9947609246467558, 0.9974216679883744, 0.9983524894200402, 0.9835302416890065, 0.9827490703710418, 0.38881993572103046, 0.41153062790689016, 0.09084276874343877, 0.08987635630999793, 0.01884504245209634, 0.9966400501662175, 0.9981913759391733, 0.9955744965522962, 0.9984121581964187, 0.986704053769454, 0.05905667109622752, 0.26693615335494836, 0.07677367242509577, 0.5952912446499734, 0.9984927950141818, 0.9684386982971165, 0.999663787964379, 0.9896329423787739, 0.9797458377745782, 0.030395067894895822, 0.12703579658635947, 0.24004310029815162, 0.5541254685454085, 0.04832036434573182, 0.9941897342616708, 0.9826200821715274, 0.01676111014365079, 0.9964237510790875, 0.007641081763338303, 0.021716758695803598, 0.9705179244934821, 0.00010054054951760926, 0.9851604774858207, 0.9966545498505489, 0.9754600277034606, 0.9924748671978431, 0.9810192171636886, 0.9964582438588976, 0.998908913426471, 0.9807933058245973, 0.9962109975737545, 0.6345889506010584, 0.13530904897113474, 0.22971071104401947, 0.9970330704340717, 0.9966906968906027, 0.9995588352927188, 0.9965408276083737, 0.9978792875680542, 0.9997022530053474, 0.99963758465192, 0.9940860077406342, 0.9922756041119485, 0.050650264354752415, 0.64019578318158, 0.016490783743407764, 0.24382801677752908, 0.017079740305672327, 0.001177913124529126, 0.03003678467549271, 0.9955531882150649, 0.9685611119682935, 0.9977488706295022, 0.9901088529743477, 0.9979059350434291, 0.9608203856472555, 0.8742311105835572, 0.9983063246915794, 0.11188436094368666, 0.8707522003878223, 0.015201679476044384, 0.001824201537125326, 0.994380891583932, 0.9983485301714469, 0.9888016544300853, 0.9992912400137098, 0.9983541419362596, 0.9960095134235691, 0.26019592745557557, 0.26791552739753854, 0.34965246795949945, 0.12260541084294137, 0.996057253176346, 0.991206355730815, 0.9983663503192685, 0.9943898498110297, 0.06997467859677943, 0.9020648784323958, 0.025860207307505444, 0.9686212385215291, 0.9583489196133993, 0.3940569274306431, 0.15461261388771758, 0.42963151115702053, 0.020523798303679324, 0.995185639230484, 0.9993757073916898, 0.9852942578023789, 0.962276648434828, 0.9980180338513529, 0.9981425418757895, 0.9915921284974846, 0.9866003945522054, 0.9885282765446224, 0.07019903861657754, 0.9277166051656326, 0.0018154923780149366, 0.9786663086476198, 0.9978052942115259, 0.17790430477088254, 0.28328710950777475, 0.4453273361462219, 0.09291817191855012, 0.9971370631269276, 0.3218270607640117, 0.105720966821028, 0.4182197069831843, 0.10603191084108984, 0.04819632310958629, 0.968577495143415, 0.987517906514567, 0.9954957403302768, 0.99632737312217, 0.999631074298987, 0.0006139329687172486, 0.9988689401029635, 0.9971710394068437, 0.13846759539958026, 0.8605589400040029, 0.368530411853964, 0.07389555816094907, 0.14021208471564697, 0.07989562484923127, 0.005684273704688391, 0.07452714412813669, 0.2463185272031636, 0.011052754425782981, 0.9870488870637393, 0.428702378376617, 0.01337704301026591, 0.14905847925724872, 0.05669318228160314, 0.35162513055556105, 0.9959046816092659, 0.9458394275937053, 0.9984433894580467, 0.21611857293826828, 0.770897177697328, 0.012625483642441789, 0.14924195571745572, 0.0014489510263830652, 0.832422364657071, 0.016662936803405252, 0.5225863160794434, 0.47661098035397914, 0.9074157454747294, 0.9985181548189489, 0.9984133460408608, 0.997953124379738, 0.007309218598894483, 0.9916173232500182, 0.3725716871007858, 0.6259204343293202, 0.00050908576249852, 0.9942444941596096, 0.00458177186248668, 0.9812303051877082, 0.997252621640618, 0.998639983420545, 0.9964286152863815, 0.8521218769637998, 0.07760961332941671, 0.0007919348298920073, 0.06889833020060464, 0.8473972094173795, 0.1258510707055514, 0.02600922127914729, 0.9988327016418396, 0.999953339888264, 0.9018704161111014, 0.00020330712716661438, 0.09779072816714153, 0.9983367230623774, 0.9652911126340755, 0.5821112709155755, 0.3849445501215902, 0.03286112013233087, 0.9977586911106054, 0.4662555098179674, 0.03814817807601551, 0.49083989124473293, 0.00339094916231249, 0.9677973762575289, 0.9910562816445261, 0.7662260862224404, 0.12447227769122633, 0.10913873623651005, 0.9982964198440843, 0.9986284997607415, 0.8355066980623717, 0.9889037693185418, 0.7955931447036956, 0.9864940393502161, 0.978491073603811, 0.9923717738172588, 0.9981693596402944, 0.9969662401766427, 0.9979560291782226, 0.9897910073404302, 0.9962932906415795, 0.9987875680933906, 0.9968309564682148, 0.9970914948508486, 0.9992044235351277, 0.9991197201932539, 0.9975509384115278, 0.010529513797379758, 0.22579957365492148, 0.7628047773212892, 0.9988678152276009, 0.9976908800377388, 0.9836977881870893, 0.9982059368636106, 0.8163231690108063, 0.9962873679966922, 0.9926767604690427, 0.9923553894533524, 0.9948736405800309, 0.6995560489323817, 0.6505642235639928, 0.9957903117247997, 0.9860647004742469, 0.012788552429358833, 0.9911073199641419, 0.9917003898040226, 0.0003585323173550335, 0.007529178664455703, 0.9835403196180675, 0.012004153616168441, 0.0008002769077445627, 0.003201107630978251, 0.1332625147545999, 0.8658341042435738, 0.9937843609295268, 0.9622841630721455, 0.9844995195629324, 0.9956580143155309, 0.9913475081547638, 0.0034857375796629093, 0.9934352102039291, 0.9979777416414468, 0.9978453245738761, 0.9322399623633119, 0.06611630938746893, 0.9980797531797062, 0.44343500057669316, 0.5553597002414835, 0.9978905989233806, 0.045745709250072986, 0.9530356093765205, 0.0019060712187530411, 0.9824115046144352, 0.9971410379758295, 0.9986049921400142, 0.9609563276750861, 0.037478795931165605, 0.9984393537347801, 0.9979687645588096, 0.6934799491326741, 0.30393257029888804, 0.29680931200482186, 0.025260366979133773, 0.6772935896280243, 0.131904016910261, 0.01569396235192907, 0.8519579562475781, 0.9952286167396411, 0.7849602484981636, 0.9961922143189376, 0.8107737138357975, 0.9953321834638112, 0.008246980924889092, 0.003981301136153354, 0.9876470604186143, 0.9990665911281812, 0.9982471898481945, 0.9950518032497321, 0.5210990154430196, 0.035980646304398976, 0.4404527392435047, 0.025344478180073522, 0.970888471821278, 0.9639942056085565, 0.9888078183504331, 0.22148716842080846, 0.01742033908927707, 0.06221549674741811, 0.6980578735060311, 0.9977012745778745, 0.9602537786316767, 0.9994484185616954, 0.9991998844935854, 0.996897041703666, 0.9223655910375358, 0.0758581046834609, 0.9991918395239229, 0.9907740659253811, 0.014097062791768512, 0.9842312930980198, 0.9691533256420231, 0.02871565409309698, 0.9923807620052423, 0.9920353182395854, 0.8768241400459917, 0.11427578511662548, 0.002365958283988105, 0.006388087366767884, 0.9997284166138849, 0.9680855254989222, 0.9985478470772091, 0.9957450394363869, 0.1806673440399573, 0.0047388155813759296, 0.8138915761013158, 0.15827531446039905, 0.8410912544081464, 0.9593114777566052, 0.9892869202151554, 0.9684386982971165, 0.996134438309798, 0.9988278624584185, 0.28522161237647803, 0.5346787592512033, 0.1600459831203435, 0.019670456025964005, 0.9981506646024174, 0.9994153421776066, 0.9973164689305327, 0.9964277542844836, 0.9981298112441418, 0.9852975416887877, 0.199247087353441, 0.029591151587144704, 0.7693699412657623, 0.9975138239720093, 0.9981261285038593, 0.0354702886228573, 0.9621315788950044, 0.9995641099785949, 0.16402539520051124, 0.266041189776439, 0.01000154848783605, 0.03200495516107536, 0.524081140762609, 0.3017014251894589, 0.04852711794273994, 0.5021821447710815, 0.13381720402391922, 0.012499409167069379, 0.0012254322712813117, 0.9873012314908134, 0.009717531806011943, 0.9892684930016288, 0.02473856613126846, 0.7655935202729397, 0.20702273762482554, 0.9967664100966286, 0.7351729037933628, 0.07617333427170493, 0.01603649142562209, 0.0017539912496774162, 0.11250601015787998, 0.05788171123935473, 0.9974555475502928, 0.9934756808953942, 0.9903965617829351, 0.5248476364677128, 0.4675113400468702, 0.996468615194576, 0.008353644218112116, 0.9903709311917364, 0.021180391428922814, 0.11167842753432028, 0.5314352758529723, 0.33503528260296084, 0.9987532623231715, 0.9934474185673151, 0.9978096584993151, 0.9867443753903419, 0.959448253344448, 0.9955728601925008, 0.9995113462766707, 0.9975259993864273, 0.9861767605550985, 0.9877403029109953, 0.9942527259090226, 0.9771521771370498, 0.7971885020612345, 0.010292767451201954, 0.18982413600269799, 0.0025504202533951745, 0.7991285063574332, 0.056600103207899474, 0.023892666518088714, 0.10368953333578305, 0.009742640716113844, 0.00695902908293846, 0.9999011956683385, 0.9983781957160294, 0.9568251845104857, 0.026884539960911853, 0.0032320211974866705, 0.011899714408928196, 0.001028370381018486, 0.5915506772768924, 0.4054046245180518, 0.0022373323648899107, 0.9844754722558907, 0.014678015560790703, 0.99189704087312, 0.9519502251979796, 0.029793495185398654, 0.006247023184035201, 0.010091345143441479, 0.0014416207347773542, 0.9878152163327497, 0.9646601681420095, 0.005072679395028479, 0.0016908931316761595, 0.9908633751622296, 0.9956048282863494, 0.9995300265402877, 0.9986432534791869, 0.8162774572631477, 0.9992882570023768, 0.9909557231301633, 0.00858984472374452, 0.9976234545447422, 0.9976054505041876, 0.11860655027811692, 0.028832531559321244, 0.8521978930203926, 0.5695268213632139, 0.42859799056670433, 0.9979801945911374, 0.975722946166483, 0.9935983815003329, 0.993051777576321, 0.9682608087591033, 0.11606705461193442, 0.8837496929963051, 0.9983202381300594, 0.9974424885958092, 0.2633614688240651, 0.2216090408397621, 0.08901067064785476, 0.36430140461029215, 0.030740798625805508, 0.02936434495599332, 0.0009176357798747912, 0.9963695358853212, 0.8595503327227194, 0.1396084935313971, 0.9913105091874206, 0.9961418882404761, 0.9979348459357873, 0.8722751312986395, 0.9547008417447436, 0.9994909177491383, 0.9886380655052909, 0.9930010343253486, 0.9898739649469801, 0.9965815466406974, 0.9054049813424294, 0.924290417011848, 0.027320824149808996, 0.0038480034013815487, 0.044636839456025965, 0.9973716256383077, 0.6873926872700662, 0.22708508418743256, 0.03068717353884224, 0.05216819501603181, 0.02213893571568046, 0.20715718419672433, 0.7116086480040148, 0.05851004439144122, 0.9957049978335322, 0.999655350190778, 0.992048354202441, 0.9980981060752883, 0.724773655653957, 0.27249242092416215, 0.024869449351800285, 0.9745139783038779, 0.9964935642044448, 0.9982260228596987, 0.7775526900642235, 0.21783577309192254, 0.9992108971234965, 0.9966265795396573, 0.9952878187904944, 0.9976761000882668, 0.009244030943591641, 0.1627976560621417, 0.32610886939892736, 0.11452327224560756, 0.386708627806917, 0.997217359705173, 0.9864430806630444, 0.9806867468078346, 0.9787555779284621, 0.9766992143199525, 0.996276082918606, 0.8736268205022538, 0.9850463548709838, 0.9992141510322836, 0.9821711882306091, 0.01744531417816357, 0.0013082291880229773, 0.9183768899921302, 0.07980198046940162, 0.986429699975831, 0.7759230255238285, 0.1623843505010368, 0.06163249542009152, 0.7850740124549321, 0.9966469868865319, 0.8578487981001517, 0.003899312718637053, 0.0017330278749498012, 0.0008665139374749006, 0.01256445209338606, 0.12261172215269844, 0.9966217570565513, 0.09353916678575071, 0.06567643625382497, 0.8403598547932604, 0.9983815903068433, 0.9915003613797371, 0.9856038896509615, 0.9958048111495507, 0.9977615390412847, 0.9970822631251565, 0.9819152892559455, 0.006090746145141, 0.011311385698119, 0.2643898473942671, 0.7348214379302733, 0.26435603169685695, 0.642194925635789, 0.0006559703019773125, 0.09249181257880107, 0.9990596655467218, 0.19042203445725545, 0.8090961132125708, 0.016920453886734087, 0.0003987985764550122, 0.35202520055936004, 0.63061449182579, 0.9961079389438646, 0.3630858329515652, 0.6361172018061387, 0.9965516446411237, 0.9952917834218572, 0.004231282971561981, 0.4099705368191524, 0.14963646459206512, 0.4405653529996862, 0.8994954273966007, 0.06753086578446763, 0.01491960988261494, 0.002748349188902752, 0.01491960988261494, 0.9866036261335889, 0.6312412265540804, 0.0511503019675498, 0.31294684749237284, 0.004650027451595436, 0.9672282080226812, 0.9989844738426179, 0.9871758590633203, 0.010900165510540743, 0.0009478404791774559, 0.9919597310044099, 0.950583261924037, 0.9986933653286767, 0.9978675824356616, 0.5474121161940313, 0.05660503597466653, 0.39554494650590155, 0.17056131490527787, 0.8290962572077184, 0.8431361135570925, 0.050271771051562573, 0.0057419971597355846, 0.07663808454014434, 0.010194974548918283, 0.013944850245072134, 0.9960652072729423, 0.3005358474659825, 0.6494062818651883, 0.004307042399990195, 0.023928013333278864, 0.0210566517332854, 0.9975123289744826, 0.9521376824624387, 0.4722913642295765, 0.1539375444953242, 0.0014969615348005595, 0.3108690120602495, 0.06012795498115581, 0.0012474679456671329, 0.9949759987265979, 0.988752146684526, 0.9990470311562949, 0.9984333370116565, 0.8163231690108063, 0.9646429447935173, 0.9992043030196887, 0.9979473553767259, 0.4969227699327782, 0.009549874306196532, 0.3579556334770907, 0.036882273182552126, 0.03589435515087662, 0.06256814200611521, 0.996354750622688, 0.985713625321159, 0.9684386982971165, 0.9982142421935769, 0.10349422741501614, 0.8955837105022189, 0.9879515512439667, 0.2687934735279697, 0.46913643516372344, 0.07846765997400357, 0.10406703840523877, 0.07846765997400357, 0.985342564271047, 0.9838585614545863, 0.9875971163295584, 0.9860017295436808, 0.9972977025428663, 0.9953608437389054, 0.9985171797457136, 0.9968470336209247, 0.9977939808785447, 0.9781035133579771, 0.09367596854841044, 0.9042333075159062, 0.9967318346847831, 0.12617325135096785, 0.4451111922659144, 0.22430800240172064, 0.19977431463903245, 0.9991216545763831, 0.9979650762925716, 0.994808641980174, 0.7938997238649299, 0.20309062703521463, 0.9881255832954932, 0.9837724549812845, 0.99697237563301, 0.9974043948943135, 0.9977727149703667, 0.9889700458648429, 0.9909100451451338, 0.9964762490810569, 0.9875971163295584, 0.9964207073724966, 0.9937980568084416, 0.9792695196564888, 0.020220149517214483, 0.00025595125971157573, 0.0015897899508946253, 0.8648457332866762, 0.13195256592425392, 0.9978512069169193, 0.9971130968396881, 0.9461559783779234, 0.9979545454656853, 0.9646189216463853, 0.26657080221930873, 0.3092537475709549, 0.42406296631774393, 0.1292398224638288, 0.10879048346638755, 0.7181807855901373, 0.04335259867457549, 0.9758346017940521, 0.022947958160890364, 0.9230772752090569, 0.05594407728539739, 0.00996264390013926, 0.010345822511683079, 0.10928351014973396, 0.19165566341034712, 0.6638914738646579, 0.007488377569146653, 0.023167168104547456, 0.004212212382644992, 0.05694343349408665, 0.06952395949859416, 0.014566924847324492, 0.7568179591132679, 0.10130634098366578, 0.7437557681619499, 0.06207544278322302, 0.0626502154015862, 0.13104815698680417, 0.977153941248485, 0.9811473627949238, 0.10942911219297224, 0.8903152568020222, 0.9670298834754347, 0.9804439146263145, 0.9983250046933271, 0.9934020420704655, 0.03336459213513643, 0.40802753501042993, 0.3198715484515373, 0.0009182915266551311, 0.21090095395512845, 0.00826462373989618, 0.01836583053310262, 0.9970813713575929, 0.9975074211138608, 0.0023858448945379878, 0.994897321022341, 0.9987886500077308, 0.9900636251702049, 0.10951849069088729, 0.8886643244631997, 0.9928423562961942, 0.9963279867404266, 0.99876259568442, 0.9697818826974434, 0.2564261078796638, 0.32238347946025975, 0.42064650242727003, 0.9989356068119118, 0.9977335237484363, 0.9816524907707086, 0.9697237347711126, 0.9982643550054958, 0.011448650643414035, 0.19930607467926, 0.7892600200085781, 0.9920688302881139, 0.8337445412927773, 0.1653515710385117, 0.9940839887571061, 0.004096499953669393, 0.9989695176442351, 0.9974540403448123, 0.9873378410593756, 0.9968305057123507, 0.9961778073565595, 0.9988837559929343, 0.6519567649151506, 0.011786788970217413, 0.20626880697880473, 0.12891800436175296, 0.985249125304799, 0.05796287900096292, 0.19964991655887226, 0.7406367872345262, 0.9978178279745572, 0.9854144088852055, 0.9976284703970039, 0.9925764013900841, 0.35404590497905997, 0.2775054973504405, 0.36831194529881883, 0.5987855883766537, 0.39838557291188653, 0.14796285945011836, 0.41742367666009, 0.386146974662504, 0.04751652803479411, 0.9972081593624885, 0.020963506130068515, 0.884880627174471, 0.0926807639434608, 0.99936537945186, 0.621164511721749, 0.37611796122601315, 0.9970928278298268, 0.9991715936126979, 0.9936932025481267, 0.9877512364368037, 0.8274926330683353, 0.9957937653934613, 0.9975883375365757, 0.9893558546322889, 0.9989961284447395, 0.9993691896281225, 0.9919678622518573, 0.6255367820109424, 0.04440930501091883, 0.0261380480921408, 0.27736783072533877, 0.026645583006551298, 0.01943550023006837, 0.8834318286394713, 0.0954106374930629, 0.9922273554851031, 0.998203315489174, 0.9970354779661318, 0.06291153337749292, 0.011257853341235574, 0.730767127179615, 0.19502575347022802, 0.0003311133335657522, 0.9764806019137255, 0.9215132808437878, 0.4121943793042329, 0.417977718809777, 0.07097734847713194, 0.09831677159424944, 0.2635735802124687, 0.7248273455842889, 0.9924417165660867, 0.9980582526072271, 0.9984578636507461, 0.001048800276944061, 0.005223207996821297, 0.9924095193960465, 0.0013058019992053243, 0.0006529009996026621, 0.9961026566297843, 0.9974188679268997, 0.9968844200581525, 0.9936463042913155, 0.9978901705730889, 0.18533256691861658, 0.7816811556618106, 0.0011729909298646619, 0.002111383673756391, 0.029559371432589476, 0.9913580248508945, 0.9981553286292362, 0.9996852356408751, 0.8309585371915083, 0.16731970545258876, 0.9974356595145659, 0.9973555266913077, 0.996689083654895, 0.9094860982951816, 0.2585363581515279, 0.7408803099267666, 0.04900354418485577, 0.9342632228286634, 0.015979416582018187, 0.6460816820189572, 0.20190052563092414, 0.004924403064168881, 0.14674721131223267, 0.9934502265919595, 0.9991503177790104, 0.9709659349385216, 0.9984929708194963, 0.048291172443569536, 0.3259654139940944, 0.07792439189757812, 0.493886990900143, 0.052681279029348584, 0.9950208686190536, 0.004362000885324638, 0.06678681090005506, 0.022649440218279544, 0.5130969341756404, 0.39404218431032484, 0.002903774386958916, 0.9947650809713521, 0.9967383153718151, 0.9960789179399646, 0.97032191316786, 0.976226175429538, 0.14311372690864757, 0.47928691092224923, 0.0028814844344023, 0.3313707099562645, 0.04226177170456707, 0.8012708563591086, 0.997927825320287, 0.9975183290506547, 0.9917367516505267, 0.007804034872918844, 0.9919837028585138, 0.26741362279141373, 0.7307662595175499, 0.001848481263535118, 0.9965731750220567, 0.9859233830323527, 0.9960812788293087, 0.04588222178824237, 0.3555872188588784, 0.5964688832471509, 0.6991666592610276, 0.15368385183213906, 0.14419719431163663, 0.0018973315041004822, 0.9864873280054107, 0.9336384410933294, 0.06453721943041447, 0.9959009458002174, 0.9989420434087399, 0.9981608883736546, 0.9993934080304383, 0.9983374294073006, 0.9880548597733145, 0.27620873929499135, 0.0019953159701392564, 0.7097623950923926, 0.011401805543652893, 0.4769530180322487, 0.40140260883981266, 0.12088065470789774, 0.0006569600799342269, 0.9953970722344323, 0.003655068808694366, 0.011987579923494618, 0.7292444453459226, 0.07658731617788228, 0.18181162883966837, 0.550754400968972, 0.03259917015081143, 0.38346918572138705, 0.031741297252105866, 0.9978219839209789, 0.993289003664414, 0.9809776255473505, 0.07118946365794926, 0.8243915668044001, 0.0931615203425015, 0.010546587208585076, 0.9870927807981212, 0.9971480965938048, 0.998884135222237, 0.9911202355081583, 0.9980528504180897, 0.9949933434974527, 0.5216746602612853, 0.0016478892697784284, 0.459054868009705, 0.01742054370908624, 0.43498292210496997, 0.06110128002812287, 0.5019033716595808, 0.9882163981537272, 0.9928315963451122, 0.996348121707356, 0.9835831880057377, 0.9864939365760146, 0.9916456083406691, 0.007273684168757964, 0.9897691714249323, 0.9975666146414616, 0.18930744080469544, 0.188466074401119, 0.6209284058394011, 0.01947521827804716, 0.21917348824024505, 0.6055865493126094, 0.017929566033757706, 0.1375630497417617, 0.9845704330103354, 0.2698230419663156, 0.36954025312778005, 0.3519430982169334, 0.050120648161605386, 0.9460272340503018, 0.21578673932585038, 0.7826550783485208, 0.9993685494097527, 0.9956357021114988, 0.996102110719472, 0.9954792558984128, 0.668302708952027, 0.3247338460137014, 0.006807837442635249, 0.9977369652790307, 0.2796690324357507, 0.3339331730576128, 0.3840231490162547, 0.982695017759469, 0.02567201020055353, 0.9729691866009789, 0.9972794323292321, 0.997917164335877, 0.999276003005448, 0.8126390316082787, 0.991817693521326, 0.9980902442267799, 0.9977543621674173, 0.9971470848246512, 0.9978701614518578, 0.9990083045853497, 0.9147436066081769, 0.016841209811584653, 0.008568334816420262, 0.0598306138043139, 0.9949272913432167, 0.7977693900312084, 0.06459033371105755, 0.13453693899815403, 0.003150747985905246, 0.9328767999314155, 0.3301897735022379, 0.667636465103426, 0.03363776804838068, 0.02003952139052466, 0.7858355173855742, 0.16031617112419727, 0.004915907108041457, 0.3427727956243452, 0.6484528376152867, 0.003575205169484696, 0.036355936287176024, 0.9625383131768733, 0.0005959989555274758, 0.9946071526306944, 0.9990117208157854, 0.9979862316858286, 0.895612952308204, 0.10380188431924586, 0.9927749144842862, 0.05224313549906512, 0.30328758307421877, 0.5853080490426233, 0.053630121397270386, 0.005085614960085985, 0.9876150541678037, 0.9910122059749975, 0.9977536382081965, 0.9876280561476127, 0.9763305473564972, 0.9985116864013917, 0.9936987241978107, 0.99089836223742, 0.9979216486233048, 0.9652230571687018, 0.9205230219384227, 0.9090580619488637, 0.007703881880922575, 0.0829648817945508, 0.998017235675359, 0.9976445474310907, 0.9934745705152754, 0.9942615355652379, 0.29391641631980175, 0.7053993991675243, 0.4643045728283476, 0.10653563828595647, 0.42932272145086936, 0.9094353869635537, 0.0010483405037043847, 0.0749563460148635, 0.013628426548157001, 0.033169977555992755, 0.9508726899384591, 0.9683724584418324, 0.002132588814926216, 0.9973407024471603, 0.9697286323035958, 0.9879420334854012, 0.9933553630419698, 0.999238277638063, 0.9956153966277885, 0.9139120012772225, 0.9986813816460381, 0.9982471106157129, 0.2945599770114186, 0.7024122528733828, 0.9818254245712541, 0.9877983311879123, 0.36858357553372695, 0.6290493022442273, 0.9412908107248728, 0.020887945280485844, 0.03688722251660266, 0.99642423146129, 0.015774636025379596, 0.0009464781615227758, 0.008518303453704981, 0.05016334256070711, 0.8426810564757781, 0.07887318012689798, 0.0028394344845683274, 0.9655757640938866, 0.001557380264667559, 0.031147605293351182, 0.9974463093858249, 0.9972065722813989, 0.002127752287940396, 0.9973718523687394, 0.9960199390979666, 0.06912261884728813, 0.9300134172180583, 0.16486385504649462, 0.8344821156120515, 0.08407672973289787, 0.9150960004261782, 0.9963161640662999, 0.018353379152615177, 0.0003570696333193614, 0.24309300636382128, 0.006712909106403995, 0.7313500229647161, 7.141392666387229e-05, 0.9843694854842204, 0.984353190557413, 0.979529479181794, 0.9780435919571526, 0.9813101637455877, 0.9819534881317096, 0.9987984663811256, 0.9839775033121103, 0.9169478320649839, 0.7323346914790979, 0.04020661051257792, 0.205819553814387, 0.021539255631738172, 0.95572764244187, 0.032397547201419324, 0.9693067919636189, 0.9591860520272019, 0.001668794600472611, 0.038938540677694256, 0.09649419941237251, 0.9025045709745428, 0.9830701755935446, 0.011148218486112362, 0.005675456683839021, 0.1267947653717659, 0.8703291176489175, 0.0018465257092975618, 0.9966193147632413, 0.9981910228617913, 0.9859786812424172, 0.9980580836441335, 0.9995036259572125, 0.9979320788709567, 0.9989584091681507, 0.9931017345572868, 0.9860117898842246, 0.9085854615298089, 0.011574337089551707, 0.07957356749066798, 0.9892152785400056, 0.9965557349657626, 0.9993839559475517, 0.9847331895079895, 0.8471176036121493, 0.9995766352459012, 0.8697178712102505, 0.0006305349477116364, 0.12946984259678934, 0.8866907223431287, 0.11275985268823221, 0.0003879352730099732, 0.9925625946380816, 0.9940487907780114, 0.9907026211843991, 0.9226956721342724, 0.060109038080073854, 0.014771320793400145, 0.0019012591120218009, 0.00043875210277426175, 0.989373752077804, 0.9944071204114682, 0.29105206356716046, 0.5050609338371314, 0.19974161225197284, 0.9952025195656353, 0.9981602078283937, 0.9932286097855239, 0.9765156380542349, 0.9928294248707727, 0.9976632202863488, 0.9964604633721112, 0.9902372967953422, 0.16827557253003717, 0.003781473540000835, 0.07625971639001684, 0.7474712697401651, 0.0018907367700004174, 0.0018907367700004174, 0.9975987365381441, 0.9985755548411945, 0.5305031444653483, 0.3911767524302416, 0.07786566188363345, 0.9972234826799681, 0.9950886006943465, 0.9987280567200574, 0.05016461113729984, 0.8664233454454627, 0.08298836904195282, 0.9076182150343136, 0.9588529579057347, 0.9978113623658854, 0.9935380677412082, 0.9969656024929158, 0.9966466467952518, 0.0028273663738872393, 0.8078607456328186, 0.18787459200763224, 0.014756776759119804, 0.6721673183473419, 0.22328316666940437, 0.00015452122260858434, 0.009425794579123644, 0.06034053742865218, 0.019778716493898795, 0.9987712601382699, 0.97204133209965, 0.7743308285399904, 0.2212373795828544, 0.9868343654503778, 0.40596953996522217, 0.5930522772763844, 0.9976879800599732, 0.003576178135721908, 0.27000144924700403, 0.025033246950053354, 0.7000368700675634, 0.9974141609562167, 0.9818707154406174, 0.9791808479690397, 0.7791752621753463, 0.007550938894837039, 0.21183444791461745, 0.0014285560071313316, 0.9882078920871964, 0.009700200167727081, 0.08919898333483062, 0.34192943611685067, 0.5649268944539272, 0.9972500173165285, 0.9958272573058495, 0.830293350348162, 0.012681329305960673, 0.026697535380969837, 0.12280866275246126, 0.0013348767690484918, 0.006006945460718213, 0.9981576582661708, 0.9707134419045137, 0.025792287614979696, 0.003025021386942063, 0.00031842330388863824, 0.18846823391759077, 0.8103265541249409, 0.7849602484981636, 0.9908330703933413, 0.9954132229921218, 0.7864876415216577, 0.9990232737787185, 0.9993098100882979, 0.9970676002934507, 0.9265533258324407, 0.9980399253182988, 0.43550551997233955, 0.5632538058308925, 0.49938712419109965, 0.458153324945963, 0.03665226599567704, 0.12481486468901029, 0.07535991830279866, 0.0007849991489874861, 0.7983441345202733, 0.4411449545776244, 0.26269772494078697, 0.2792747899890178, 0.012286530565159302, 0.004290534483071502, 0.9726750470033471, 0.980357218154598, 0.9824749017593847, 0.04021466402046993, 0.0028990238388139134, 0.004311368785928384, 0.050695750206951, 0.9017450817602971, 7.433394458497214e-05, 0.6255057871895026, 0.019461053718340903, 0.08669014838170039, 0.030665902828900814, 0.23766074692398131, 0.9932750425261111, 0.9992554741192952, 0.995186447954299], \"Term\": [\"_\", \"abuse\", \"accept\", \"access_digex\", \"acquire\", \"adjust\", \"admin\", \"advance\", \"advice\", \"age\", \"age\", \"age\", \"agency\", \"agent\", \"aim\", \"air\", \"alarm\", \"alot\", \"also\", \"also\", \"also\", \"also\", \"also\", \"animal\", \"announcement\", \"anywhere\", \"apple\", \"applicable\", \"apply\", \"apply\", \"apply\", \"apply\", \"appreciate\", \"appressian\", \"apr\", \"arab\", \"arbitrary\", \"area\", \"area\", \"area\", \"area\", \"area\", \"argic\", \"argument\", \"argument\", \"armenian\", \"article\", \"article\", \"article\", \"article\", \"assembler\", \"associate\", \"asteroid\", \"astronomy\", \"atf\", \"atheism\", \"atheist\", \"athena_mit\", \"att\", \"attack\", \"attack\", \"attack\", \"authority\", \"auto\", \"available\", \"average\", \"aware\", \"back\", \"bad\", \"ban\", \"bank\", \"base\", \"base\", \"base\", \"base\", \"base\", \"base\", \"base\", \"baseball\", \"batter\", \"battery\", \"battle\", \"bear\", \"beauty\", \"behanna_syl\", \"belief\", \"believe\", \"believe\", \"believe\", \"believe\", \"benefit\", \"bible\", \"biblical\", \"big\", \"bike\", \"bio\", \"bit\", \"bit\", \"bit\", \"bit\", \"bitnet\", \"bj\", \"blank\", \"blind\", \"board\", \"board\", \"board\", \"bobby\", \"bobby_mozumder\", \"body\", \"body\", \"body\", \"body\", \"bomb\", \"book\", \"boost\", \"booster\", \"box\", \"brain\", \"brave\", \"brian\", \"brother\", \"build\", \"build\", \"build\", \"bullet\", \"bus\", \"buy\", \"buy\", \"buy\", \"buy\", \"cable\", \"call\", \"call\", \"call\", \"call\", \"call\", \"caltech\", \"campaign\", \"capacity\", \"captain\", \"car\", \"card\", \"card\", \"carleton_ca\", \"carry\", \"carry\", \"case\", \"case\", \"case\", \"case\", \"case\", \"case\", \"case\", \"case\", \"cash\", \"cause\", \"cause\", \"cause\", \"cause\", \"cause\", \"cd\", \"ceremonial\", \"character\", \"check\", \"check\", \"check\", \"child\", \"child\", \"child\", \"child\", \"chip\", \"chip\", \"chris_behanna\", \"christian\", \"christianity\", \"church\", \"city\", \"city\", \"civilian\", \"civilian\", \"claim\", \"claim\", \"claim\", \"classic\", \"clearly\", \"clipper\", \"clipper_chip\", \"close\", \"close\", \"close\", \"close\", \"code\", \"code\", \"code\", \"color\", \"com\", \"come\", \"come\", \"come\", \"command\", \"commandment\", \"communication\", \"communication\", \"communication\", \"community\", \"company\", \"company\", \"company\", \"company\", \"compensation\", \"compound\", \"computer\", \"computer\", \"computer\", \"computer_science\", \"conclusion\", \"cone\", \"configuration\", \"conjecture\", \"conservative\", \"construction\", \"consult\", \"contain\", \"context\", \"controller\", \"conviction\", \"convince\", \"cool\", \"cop\", \"corporation\", \"country\", \"couple\", \"court\", \"cover\", \"cover\", \"cover\", \"cpu\", \"crash\", \"creature\", \"crime\", \"cs_dalhousie\", \"cub\", \"cult\", \"custom\", \"cycle\", \"dal_ca\", \"darius_lecointe\", \"data\", \"datum\", \"datum\", \"daughter\", \"day\", \"day\", \"day\", \"deal\", \"deal\", \"deal\", \"deal\", \"death\", \"death\", \"decent\", \"deck\", \"declare\", \"default\", \"definitely\", \"degree\", \"degree\", \"deny\", \"dept\", \"design\", \"design\", \"device\", \"die\", \"die\", \"digital\", \"disclaimer\", \"disclaimer\", \"disclaimer\", \"discount\", \"disease\", \"disk\", \"distribution\", \"distribution\", \"distribution_na\", \"distribution_usa\", \"distribution_world\", \"distribution_world\", \"division\", \"division\", \"division\", \"do\", \"do\", \"do\", \"dod\", \"dod_fxwg\", \"dog\", \"donate\", \"door\", \"drive\", \"drive\", \"drive\", \"driver\", \"drug\", \"dual\", \"earth\", \"earth\", \"earth\", \"eat\", \"eat\", \"ecn_uoknor\", \"edit\", \"effect\", \"effect\", \"effect\", \"effect\", \"effective\", \"electrical\", \"email\", \"encryption\", \"energy\", \"engine\", \"engine\", \"enough\", \"entitle\", \"entry\", \"entry\", \"error\", \"error\", \"escape\", \"european\", \"even\", \"even\", \"even\", \"even\", \"evidence\", \"evolve\", \"exactly\", \"excuse\", \"exist\", \"exist\", \"exist\", \"explain\", \"explain\", \"express_access\", \"extension\", \"extermination_ohanu\", \"external\", \"face\", \"fact\", \"fact\", \"fact\", \"fact\", \"factory\", \"faith\", \"false\", \"family\", \"fan\", \"fancy\", \"fast\", \"fast\", \"fast\", \"feature\", \"field\", \"fight\", \"fight\", \"file\", \"final\", \"final\", \"final\", \"final\", \"final\", \"find\", \"find\", \"find\", \"find\", \"find\", \"find\", \"fine\", \"fine\", \"finish\", \"fire\", \"fire\", \"fire\", \"firearm\", \"first\", \"first\", \"first\", \"first\", \"first\", \"first\", \"flame\", \"flight\", \"floor\", \"fly\", \"fly\", \"font\", \"force\", \"force\", \"forget\", \"forget\", \"forget\", \"forget\", \"format\", \"frame\", \"freedom\", \"frequently_aske\", \"ftp_site\", \"fuel\", \"game\", \"gateway\", \"genesis\", \"genocide\", \"german\", \"germany\", \"get\", \"get\", \"get\", \"get\", \"give\", \"give\", \"give\", \"give\", \"give\", \"give\", \"go\", \"goal\", \"good\", \"good\", \"good\", \"good\", \"good\", \"government\", \"government\", \"government\", \"graphic\", \"graphic\", \"gravity\", \"great\", \"great\", \"great\", \"great\", \"great\", \"green\", \"grip\", \"ground\", \"ground\", \"ground\", \"guilty\", \"gun\", \"guy\", \"halifax_ns\", \"happen\", \"hard\", \"hard\", \"headache\", \"health\", \"help\", \"help\", \"help\", \"hit\", \"hit\", \"hole\", \"homeland\", \"homosexual\", \"honor\", \"horizon\", \"host\", \"host\", \"hot\", \"house\", \"however\", \"however\", \"however\", \"however\", \"however\", \"however\", \"however\", \"hr\", \"human\", \"human\", \"human_being\", \"ice\", \"ide\", \"ideological\", \"ideology\", \"image\", \"imagination\", \"imho\", \"implementation\", \"imply\", \"inability\", \"include\", \"include\", \"include\", \"include\", \"indeed\", \"independent\", \"independent\", \"independent\", \"independent\", \"individual\", \"individual\", \"individual\", \"individual\", \"industry\", \"information\", \"inhabitant\", \"input\", \"insurance\", \"insurance\", \"interested\", \"interested\", \"interface\", \"internal\", \"international\", \"international\", \"internet\", \"interpretation\", \"investigation\", \"israeli\", \"issue\", \"issue\", \"issue\", \"issue\", \"issue\", \"jewish\", \"jim_frost\", \"jimf_centerline\", \"joint\", \"jon_livesey\", \"justify\", \"keen\", \"keith\", \"key\", \"keyword\", \"keyword\", \"kill\", \"kill\", \"kill\", \"kinda\", \"know\", \"know\", \"know\", \"lady_behanna\", \"land\", \"last\", \"last\", \"last\", \"last\", \"last\", \"last\", \"launch\", \"law\", \"law\", \"law\", \"law_enforcement\", \"lawyer\", \"leadership\", \"leafs\", \"learn\", \"legal\", \"let\", \"let\", \"let\", \"license\", \"license\", \"life\", \"life\", \"life\", \"life\", \"light\", \"like\", \"like\", \"line\", \"line\", \"line\", \"line\", \"link\", \"list\", \"list\", \"listen\", \"little\", \"little\", \"live\", \"live\", \"live\", \"long\", \"long\", \"long\", \"long\", \"long\", \"longer_exist\", \"look\", \"look\", \"look\", \"look\", \"loop\", \"lose\", \"lot\", \"lot\", \"lot\", \"lunar\", \"lunch\", \"m\", \"mac\", \"machine\", \"machine\", \"machine\", \"mail\", \"mail\", \"make\", \"make\", \"make\", \"make\", \"make\", \"make\", \"male\", \"man\", \"man\", \"man\", \"man\", \"man\", \"manager\", \"manifest\", \"many\", \"many\", \"many\", \"many\", \"many\", \"many\", \"mass\", \"massacre\", \"master\", \"material\", \"math_stat\", \"mathew\", \"maybe\", \"mb\", \"mean\", \"mean\", \"mean\", \"mean\", \"mean\", \"mean\", \"medical\", \"meg\", \"melkonian\", \"member\", \"memory\", \"memory\", \"mere\", \"message\", \"message\", \"message\", \"message\", \"message\", \"met\", \"micro\", \"might_serve\", \"mileage\", \"military\", \"militia\", \"miss\", \"mission\", \"mit\", \"mlb\", \"mode\", \"mode\", \"modem\", \"modern\", \"modern\", \"modern\", \"modern\", \"money\", \"monitor\", \"moon\", \"moral\", \"moral\", \"morality\", \"moslem\", \"mot\", \"motherboard\", \"motif\", \"motor\", \"motto\", \"mount\", \"mountain_passe\", \"mouse\", \"mph\", \"much\", \"much\", \"much\", \"murder\", \"murder\", \"murder\", \"nasa_gov\", \"nation\", \"native\", \"nature\", \"nazi_germany\", \"need\", \"need\", \"need\", \"net\", \"net\", \"net\", \"net\", \"network\", \"network\", \"never\", \"never\", \"never\", \"never\", \"new\", \"new\", \"new\", \"new\", \"new\", \"new\", \"news\", \"news\", \"news\", \"news\", \"news\", \"next\", \"next\", \"next\", \"next\", \"nh\", \"nist\", \"nntp_poste\", \"nntp_poste\", \"noisy\", \"north\", \"notice\", \"nsa\", \"number\", \"number\", \"number\", \"number\", \"number\", \"number\", \"number\", \"object\", \"observation\", \"obtain\", \"obtain\", \"obviously\", \"occupation\", \"occupy\", \"occupy\", \"offense\", \"oil\", \"one\", \"online_communication\", \"opinion\", \"opinion\", \"opinion\", \"option\", \"orbit\", \"orbital\", \"orbiter\", \"org\", \"organization\", \"organization\", \"organization\", \"own\", \"owner\", \"owner\", \"package\", \"package\", \"page\", \"paper\", \"partially\", \"particularly\", \"pat\", \"patient\", \"pay\", \"pay\", \"pay\", \"pay\", \"payment\", \"pc\", \"pc\", \"pc\", \"peace\", \"peer\", \"pen\", \"penguin\", \"people\", \"people\", \"people\", \"period\", \"period\", \"person\", \"person\", \"person\", \"person\", \"pgp\", \"phone\", \"phone\", \"phone\", \"physical\", \"pick\", \"pick\", \"piece\", \"pin\", \"pitch\", \"pixel\", \"placement\", \"plane\", \"planet\", \"planetary\", \"play\", \"player\", \"plug\", \"point\", \"point\", \"point\", \"point\", \"point\", \"police\", \"police\", \"police\", \"political_atheist\", \"port\", \"possibly\", \"post\", \"post\", \"post\", \"post\", \"post\", \"postscript\", \"pov\", \"power\", \"power\", \"power\", \"power\", \"pp\", \"pp\", \"predict\", \"press\", \"pretty\", \"pretty\", \"price\", \"price\", \"price\", \"price\", \"primarily\", \"principle\", \"printer\", \"privacy\", \"private\", \"problem\", \"problem\", \"problem\", \"problem\", \"problem\", \"proceed\", \"product\", \"program\", \"project\", \"project\", \"proof\", \"proposal\", \"propose\", \"propulsion\", \"protect\", \"protect\", \"prove\", \"prove\", \"prove\", \"provide\", \"provide\", \"provide\", \"provide\", \"pub\", \"public\", \"publicly\", \"purchase\", \"purpose\", \"purpose\", \"purpose\", \"purpose\", \"purpose\", \"put\", \"put\", \"question\", \"question\", \"question\", \"question\", \"question\", \"quick\", \"race\", \"ram\", \"rank\", \"rarely\", \"rate\", \"rate\", \"rate\", \"rate\", \"rate\", \"rayshade\", \"reality\", \"realize\", \"really\", \"really\", \"rear\", \"reason\", \"reason\", \"reason\", \"reasoning\", \"receiver\", \"recommend\", \"reduce\", \"reduce\", \"reduce\", \"reference\", \"reference\", \"reference\", \"reference\", \"region\", \"register\", \"register\", \"reject\", \"religion\", \"religious\", \"remember\", \"replace\", \"replacement\", \"reply\", \"reply\", \"reply\", \"reply\", \"report\", \"report\", \"report\", \"report\", \"request\", \"request\", \"require\", \"require\", \"require\", \"require\", \"research\", \"research\", \"research\", \"research\", \"resource\", \"restrict\", \"retrieve\", \"return\", \"return\", \"return\", \"return\", \"rev\", \"revelation\", \"review\", \"rich\", \"ride\", \"rider\", \"right\", \"right\", \"right\", \"right\", \"risk\", \"risk\", \"risk\", \"roby_chopin\", \"rock\", \"rocket\", \"roman\", \"ron\", \"room\", \"room\", \"roughly\", \"route\", \"rule\", \"rule\", \"rule\", \"run\", \"run\", \"run\", \"run\", \"run\", \"runner\", \"russian\", \"russian\", \"russian\", \"sad\", \"sad\", \"safety\", \"safety\", \"sale\", \"san_jose\", \"satellite\", \"saturn\", \"say\", \"say\", \"say\", \"scan\", \"schedule\", \"schedule\", \"schedule\", \"schneider\", \"science\", \"science\", \"scientific\", \"score\", \"screen\", \"scriptural\", \"scripture\", \"scsi\", \"season\", \"secret\", \"secure\", \"security\", \"see\", \"see\", \"see\", \"see\", \"seek\", \"seem\", \"seem\", \"seem\", \"seem\", \"seldom\", \"self\", \"self\", \"sell\", \"sell\", \"sell\", \"sell\", \"send\", \"send\", \"send\", \"send\", \"sense\", \"sense\", \"sense\", \"serial\", \"serious\", \"server\", \"service\", \"service\", \"session\", \"set\", \"set\", \"set\", \"set\", \"set\", \"sho\", \"shuttle\", \"signal\", \"single_turkish\", \"sister\", \"site\", \"sky\", \"slaughter\", \"slow\", \"smartdrv\", \"soc_religion\", \"software\", \"software\", \"software\", \"soldier\", \"solution\", \"somehow\", \"son\", \"soon\", \"soon\", \"sorry\", \"sorry\", \"sorry\", \"source\", \"source\", \"source\", \"source\", \"soviet\", \"soviet\", \"soviet_armenia\", \"space\", \"space\", \"space_shuttle\", \"space_station\", \"spacecraft\", \"speak\", \"specify\", \"speculate\", \"speed\", \"spend\", \"sport\", \"sport\", \"ss\", \"staff\", \"star\", \"star\", \"start\", \"start\", \"start\", \"stat\", \"state\", \"state\", \"state\", \"state\", \"state\", \"state\", \"state\", \"statement\", \"statement\", \"statement\", \"steal\", \"still\", \"still\", \"straight\", \"street\", \"student\", \"student\", \"study\", \"study\", \"stuff\", \"stuff\", \"stupid\", \"subject\", \"subject\", \"subject\", \"subject\", \"subject\", \"subject\", \"subjective\", \"subsequent\", \"substantially\", \"succeed\", \"sue\", \"suitable\", \"sun\", \"superior\", \"supersede\", \"support\", \"support\", \"support\", \"support\", \"survivor\", \"survivor\", \"suspension\", \"system\", \"system\", \"system\", \"table\", \"table\", \"take\", \"take\", \"take\", \"talk\", \"talk\", \"talk\", \"tap\", \"tape\", \"tar\", \"tax\", \"team\", \"technical\", \"technology\", \"technology_pasadena\", \"television\", \"tell\", \"tell\", \"tell\", \"terminal\", \"terrorism\", \"test\", \"testing\", \"texture\", \"thank\", \"thing\", \"thing\", \"thing\", \"think\", \"think\", \"think\", \"thinking\", \"ticket\", \"tight\", \"time\", \"time\", \"time\", \"time\", \"time\", \"tire\", \"topic\", \"town\", \"town\", \"town\", \"trace\", \"trade\", \"tradition\", \"trajectory\", \"trap\", \"treatment\", \"trial\", \"troop\", \"true\", \"true\", \"true\", \"true\", \"true\", \"true\", \"trust\", \"truth\", \"try\", \"try\", \"try\", \"turk\", \"turkish\", \"turn\", \"type\", \"type\", \"type\", \"ultb_isc\", \"union\", \"united_state\", \"univ\", \"universe\", \"university\", \"university\", \"usa\", \"usa\", \"use\", \"use\", \"use\", \"use\", \"use\", \"use\", \"use\", \"user\", \"utilize\", \"vehicle\", \"vehicle\", \"venus\", \"version_pl\", \"version_pl\", \"video\", \"view\", \"view\", \"view\", \"view\", \"village\", \"vms_vnews\", \"vol\", \"want\", \"want\", \"want\", \"want\", \"war\", \"war\", \"warrant\", \"warrant\", \"warrant\", \"warranty\", \"water\", \"way\", \"way\", \"way\", \"way\", \"way\", \"way\", \"weapon\", \"well\", \"well\", \"well\", \"well\", \"whole\", \"whole\", \"wide_glide\", \"widget\", \"wife\", \"wild_corn\", \"win\", \"window\", \"wing\", \"wipe\", \"wire\", \"withdraw\", \"withdraw\", \"witness\", \"witness\", \"witness\", \"word\", \"word\", \"word\", \"word\", \"work\", \"work\", \"work\", \"work\", \"work\", \"worthless\", \"wound\", \"wpd_sgi\", \"write\", \"write\", \"write\", \"write\", \"write\", \"write\", \"year\", \"year\", \"year\", \"year\", \"year\", \"yesterday\", \"young\", \"zone\"]}, \"R\": 30, \"lambda.step\": 0.01, \"plot.opts\": {\"xlab\": \"PC1\", \"ylab\": \"PC2\"}, \"topic.order\": [20, 12, 17, 9, 3, 4, 18, 13, 5, 7, 14, 2, 10, 11, 6, 19, 8, 1, 15, 16]};\n",
       "\n",
       "function LDAvis_load_lib(url, callback){\n",
       "  var s = document.createElement('script');\n",
       "  s.src = url;\n",
       "  s.async = true;\n",
       "  s.onreadystatechange = s.onload = callback;\n",
       "  s.onerror = function(){console.warn(\"failed to load library \" + url);};\n",
       "  document.getElementsByTagName(\"head\")[0].appendChild(s);\n",
       "}\n",
       "\n",
       "if(typeof(LDAvis) !== \"undefined\"){\n",
       "   // already loaded: just create the visualization\n",
       "   !function(LDAvis){\n",
       "       new LDAvis(\"#\" + \"ldavis_el1544021101602794726551226540\", ldavis_el1544021101602794726551226540_data);\n",
       "   }(LDAvis);\n",
       "}else if(typeof define === \"function\" && define.amd){\n",
       "   // require.js is available: use it to load d3/LDAvis\n",
       "   require.config({paths: {d3: \"https://d3js.org/d3.v5\"}});\n",
       "   require([\"d3\"], function(d3){\n",
       "      window.d3 = d3;\n",
       "      LDAvis_load_lib(\"https://cdn.jsdelivr.net/gh/bmabey/pyLDAvis@3.3.1/pyLDAvis/js/ldavis.v3.0.0.js\", function(){\n",
       "        new LDAvis(\"#\" + \"ldavis_el1544021101602794726551226540\", ldavis_el1544021101602794726551226540_data);\n",
       "      });\n",
       "    });\n",
       "}else{\n",
       "    // require.js not available: dynamically load d3 & LDAvis\n",
       "    LDAvis_load_lib(\"https://d3js.org/d3.v5.js\", function(){\n",
       "         LDAvis_load_lib(\"https://cdn.jsdelivr.net/gh/bmabey/pyLDAvis@3.3.1/pyLDAvis/js/ldavis.v3.0.0.js\", function(){\n",
       "                 new LDAvis(\"#\" + \"ldavis_el1544021101602794726551226540\", ldavis_el1544021101602794726551226540_data);\n",
       "            })\n",
       "         });\n",
       "}\n",
       "</script>"
      ],
      "text/plain": [
       "PreparedData(topic_coordinates=              x         y  topics  cluster       Freq\n",
       "topic                                                \n",
       "19     0.330570  0.072851       1        1  29.557816\n",
       "11     0.277712  0.030219       2        1  15.066216\n",
       "16     0.280455 -0.194082       3        1  12.005946\n",
       "8      0.282645  0.133167       4        1   9.204319\n",
       "2      0.157024 -0.375054       5        1   8.395649\n",
       "3      0.207859  0.175174       6        1   8.003150\n",
       "17     0.118599  0.128007       7        1   3.740996\n",
       "12     0.057983  0.065268       8        1   3.389059\n",
       "4      0.029009 -0.081556       9        1   3.150099\n",
       "6     -0.008574 -0.007319      10        1   2.114147\n",
       "13    -0.136291 -0.009385      11        1   0.874506\n",
       "1     -0.144216  0.006113      12        1   0.860913\n",
       "9     -0.128191  0.029882      13        1   0.799603\n",
       "10    -0.173629  0.000921      14        1   0.599540\n",
       "5     -0.155118 -0.019646      15        1   0.597091\n",
       "18    -0.176025  0.004577      16        1   0.565850\n",
       "7     -0.194275  0.008502      17        1   0.351270\n",
       "0     -0.202834  0.009108      18        1   0.331395\n",
       "14    -0.198032  0.007916      19        1   0.317398\n",
       "15    -0.224668  0.015339      20        1   0.075037, topic_info=          Term          Freq         Total Category  logprob  loglift\n",
       "183        com  16670.000000  16670.000000  Default  30.0000  30.0000\n",
       "18        line  17552.000000  17552.000000  Default  29.0000  29.0000\n",
       "207      write  13452.000000  13452.000000  Default  28.0000  28.0000\n",
       "35     subject  14002.000000  14002.000000  Default  27.0000  27.0000\n",
       "45     article   9946.000000   9946.000000  Default  26.0000  26.0000\n",
       "...        ...           ...           ...      ...      ...      ...\n",
       "29579    booth      0.014671      1.167633  Topic20 -11.1083   2.8181\n",
       "7734     glove      0.014671      1.167634  Topic20 -11.1083   2.8181\n",
       "4963    bnr_ca      0.014671      1.167635  Topic20 -11.1083   2.8181\n",
       "19848    ripem      0.014671      1.167811  Topic20 -11.1083   2.8179\n",
       "4684        ei      0.014671      1.167765  Topic20 -11.1083   2.8180\n",
       "\n",
       "[891 rows x 6 columns], token_table=      Topic      Freq          Term\n",
       "term                               \n",
       "977       9  0.999623             _\n",
       "925       7  0.994841         abuse\n",
       "1392      4  0.998923        accept\n",
       "3289     15  0.986241  access_digex\n",
       "1476      5  0.995519       acquire\n",
       "...     ...       ...           ...\n",
       "40        8  0.030666          year\n",
       "40       10  0.237661          year\n",
       "819      10  0.993275     yesterday\n",
       "629       1  0.999255         young\n",
       "2289      5  0.995186          zone\n",
       "\n",
       "[1314 rows x 3 columns], R=30, lambda_step=0.01, plot_opts={'xlab': 'PC1', 'ylab': 'PC2'}, topic_order=[20, 12, 17, 9, 3, 4, 18, 13, 5, 7, 14, 2, 10, 11, 6, 19, 8, 1, 15, 16])"
      ]
     },
     "execution_count": 26,
     "metadata": {},
     "output_type": "execute_result"
    }
   ],
   "source": [
    "# Visualize the topics\n",
    "pyLDAvis.enable_notebook()\n",
    "vis = pyLDAvis.gensim_models.prepare(lda_model, corpus, id2word)\n",
    "vis"
   ]
  },
  {
   "cell_type": "markdown",
   "metadata": {},
   "source": [
    "__Building LDA Mallet Model__\n",
    "\n",
    "The MALLET topic model package includes an extremely fast and highly scalable implementation of Gibbs sampling, efficient methods for document-topic hyperparameter optimization, and tools for inferring topics for new documents given trained models. "
   ]
  },
  {
   "cell_type": "code",
   "execution_count": null,
   "metadata": {},
   "outputs": [],
   "source": [
    "# Download File: http://mallet.cs.umass.edu/dist/mallet-2.0.8.zip\n",
    "os.environ['MALLET_HOME'] = 'C:/Users/Sergey/Desktop/work/FTD_work/FTD_work/mallet-2.0.8'\n",
    "mallet_path = 'C:/Users/Sergey/Desktop/work/FTD_work/FTD_work/mallet-2.0.8/bin/mallet' # update this path\n",
    "ldamallet = gensim.models.wrappers.LdaMallet(mallet_path, corpus=corpus, num_topics=20, id2word=id2word)"
   ]
  },
  {
   "cell_type": "code",
   "execution_count": null,
   "metadata": {},
   "outputs": [
    {
     "name": "stdout",
     "output_type": "stream",
     "text": [
      "[(16,\n",
      "  [('key', 0.03276350799088743),\n",
      "   ('system', 0.016555657965671357),\n",
      "   ('encryption', 0.012312401092116933),\n",
      "   ('government', 0.00975601272977062),\n",
      "   ('message', 0.009547327965497452),\n",
      "   ('information', 0.009060396848860059),\n",
      "   ('security', 0.009043006451837296),\n",
      "   ('technology', 0.008834321687564126),\n",
      "   ('public', 0.008782150496495835),\n",
      "   ('chip', 0.00806914421856251)]),\n",
      " (19,\n",
      "  [('food', 0.0079155672823219),\n",
      "   ('study', 0.007789923357205679),\n",
      "   ('effect', 0.00726640700255476),\n",
      "   ('drug', 0.007182644385810613),\n",
      "   ('doctor', 0.007015119152322318),\n",
      "   ('year', 0.006721949993717804),\n",
      "   ('medical', 0.006219374293252921),\n",
      "   ('disease', 0.006198433639066884),\n",
      "   ('patient', 0.006177492984880848),\n",
      "   ('eat', 0.005947145788834443)]),\n",
      " (17,\n",
      "  [('line', 0.044370271473075214),\n",
      "   ('mail', 0.032732532265242545),\n",
      "   ('subject', 0.025456163773920782),\n",
      "   ('organization', 0.020471740097908322),\n",
      "   ('host', 0.020204717400979084),\n",
      "   ('sale', 0.019870939029817535),\n",
      "   ('sell', 0.01800178015131286),\n",
      "   ('post', 0.01800178015131286),\n",
      "   ('send', 0.017067200712060526),\n",
      "   ('price', 0.016355140186915886)]),\n",
      " (1,\n",
      "  [('question', 0.03578144010618294),\n",
      "   ('read', 0.018213324484754635),\n",
      "   ('answer', 0.016554215979058363),\n",
      "   ('line', 0.015263798252405708),\n",
      "   ('file', 0.014231464071083583),\n",
      "   ('follow', 0.013586255207757254),\n",
      "   ('number', 0.013328171662426723),\n",
      "   ('give', 0.011982450318917525),\n",
      "   ('post', 0.010599859897503963),\n",
      "   ('case', 0.010581425358551782)]),\n",
      " (10,\n",
      "  [('file', 0.026287975283883033),\n",
      "   ('window', 0.01917396135396623),\n",
      "   ('program', 0.01436353288707011),\n",
      "   ('image', 0.013916366297189627),\n",
      "   ('version', 0.011721184855958156),\n",
      "   ('application', 0.009688609447410498),\n",
      "   ('software', 0.009661508441963196),\n",
      "   ('server', 0.009526003414726687),\n",
      "   ('display', 0.009498902409279385),\n",
      "   ('graphic', 0.00892978129488604)]),\n",
      " (5,\n",
      "  [('game', 0.029724783080260303),\n",
      "   ('team', 0.0241662147505423),\n",
      "   ('year', 0.023335818872017352),\n",
      "   ('play', 0.021031046637744036),\n",
      "   ('player', 0.01611645878524946),\n",
      "   ('win', 0.013862527114967462),\n",
      "   ('good', 0.009930856832971801),\n",
      "   ('season', 0.009642760303687636),\n",
      "   ('fan', 0.008744577006507593),\n",
      "   ('hockey', 0.008219224511930585)]),\n",
      " (8,\n",
      "  [('car', 0.03568493013371825),\n",
      "   ('buy', 0.009041518814779175),\n",
      "   ('good', 0.009001423387662638),\n",
      "   ('light', 0.008861089392754757),\n",
      "   ('engine', 0.007938894569074397),\n",
      "   ('drive', 0.007177081453860187),\n",
      "   ('water', 0.007076842886068844),\n",
      "   ('front', 0.007016699745394038),\n",
      "   ('big', 0.006415268338645978),\n",
      "   ('mile', 0.006294982057296366)]),\n",
      " (18,\n",
      "  [('people', 0.039980345590041766),\n",
      "   ('make', 0.024649905822618952),\n",
      "   ('write', 0.013676193595938088),\n",
      "   ('article', 0.011252149701089183),\n",
      "   ('opinion', 0.011055605601506839),\n",
      "   ('post', 0.010187535828351486),\n",
      "   ('group', 0.00912292195561379),\n",
      "   ('point', 0.008680697731553517),\n",
      "   ('money', 0.008238473507493243),\n",
      "   ('fact', 0.008189337482597658)]),\n",
      " (7,\n",
      "  [('book', 0.018568344128882246),\n",
      "   ('information', 0.014914466035542268),\n",
      "   ('group', 0.012539445274871283),\n",
      "   ('science', 0.011891712340142833),\n",
      "   ('include', 0.010280684271715662),\n",
      "   ('work', 0.008121574489287494),\n",
      "   ('issue', 0.008055140342135858),\n",
      "   ('reference', 0.007540275701710679),\n",
      "   ('page', 0.006626806178375685),\n",
      "   ('general', 0.0064773293472845045)]),\n",
      " (3,\n",
      "  [('people', 0.01846569123646514),\n",
      "   ('work', 0.012698996963283336),\n",
      "   ('day', 0.011886138462010368),\n",
      "   ('start', 0.010260421459464434),\n",
      "   ('happen', 0.010214410600901813),\n",
      "   ('make', 0.010107051930922364),\n",
      "   ('time', 0.009738965062421398),\n",
      "   ('year', 0.008573356645501672),\n",
      "   ('job', 0.008097911107021257),\n",
      "   ('talk', 0.00803656329560443)])]\n",
      "\n",
      "Coherence Score:  0.5625886471809156\n"
     ]
    }
   ],
   "source": [
    "# Show Topics\n",
    "pprint(ldamallet.show_topics(formatted=False))\n",
    "\n",
    "# Compute Coherence Score\n",
    "coherence_model_ldamallet = CoherenceModel(model=ldamallet, texts=data_lemmatized, dictionary=id2word, coherence='c_v')\n",
    "coherence_ldamallet = coherence_model_ldamallet.get_coherence()\n",
    "print('\\nCoherence Score: ', coherence_ldamallet)"
   ]
  },
  {
   "cell_type": "markdown",
   "metadata": {},
   "source": [
    "__How to find the optimal number of topics for LDA?__"
   ]
  },
  {
   "cell_type": "markdown",
   "metadata": {},
   "source": [
    "My approach to finding the optimal number of topics is to build many LDA models with different values of number of topics (k) and pick the one that gives the highest coherence value.\n",
    "\n",
    "Choosing a ‘k’ that marks the end of a rapid growth of topic coherence usually offers meaningful and interpretable topics. Picking an even higher value can sometimes provide more granular sub-topics.\n",
    "\n",
    "If you see the same keywords being repeated in multiple topics, it’s probably a sign that the ‘k’ is too large.\n",
    "\n",
    "The compute_coherence_values() (see below) trains multiple LDA models and provides the models and their corresponding coherence scores."
   ]
  },
  {
   "cell_type": "code",
   "execution_count": null,
   "metadata": {},
   "outputs": [],
   "source": [
    "def compute_coherence_values(dictionary, corpus, texts, limit, start=2, step=3):\n",
    "    \"\"\"\n",
    "    Compute c_v coherence for various number of topics\n",
    "\n",
    "    Parameters:\n",
    "    ----------\n",
    "    dictionary : Gensim dictionary\n",
    "    corpus : Gensim corpus\n",
    "    texts : List of input texts\n",
    "    limit : Max num of topics\n",
    "\n",
    "    Returns:\n",
    "    -------\n",
    "    model_list : List of LDA topic models\n",
    "    coherence_values : Coherence values corresponding to the LDA model with respective number of topics\n",
    "    \"\"\"\n",
    "    coherence_values = []\n",
    "    model_list = []\n",
    "    for num_topics in range(start, limit, step):\n",
    "        model = gensim.models.wrappers.LdaMallet(mallet_path, corpus=corpus, num_topics=num_topics, id2word=id2word)\n",
    "        model_list.append(model)\n",
    "        coherencemodel = CoherenceModel(model=model, texts=texts, dictionary=dictionary, coherence='c_v')\n",
    "        coherence_values.append(coherencemodel.get_coherence())\n",
    "\n",
    "    return model_list, coherence_values"
   ]
  },
  {
   "cell_type": "code",
   "execution_count": null,
   "metadata": {},
   "outputs": [],
   "source": [
    "# Can take a long time to run.\n",
    "model_list, coherence_values = compute_coherence_values(dictionary=id2word, corpus=corpus, texts=data_lemmatized, start=2, limit=40, step=6)"
   ]
  },
  {
   "cell_type": "code",
   "execution_count": null,
   "metadata": {},
   "outputs": [
    {
     "ename": "NameError",
     "evalue": "name 'plt' is not defined",
     "output_type": "error",
     "traceback": [
      "\u001b[1;31m---------------------------------------------------------------------------\u001b[0m",
      "\u001b[1;31mNameError\u001b[0m                                 Traceback (most recent call last)",
      "\u001b[1;32m~\\AppData\\Local\\Temp/ipykernel_11024/3834425267.py\u001b[0m in \u001b[0;36m<module>\u001b[1;34m\u001b[0m\n\u001b[0;32m      2\u001b[0m \u001b[0mlimit\u001b[0m\u001b[1;33m=\u001b[0m\u001b[1;36m40\u001b[0m\u001b[1;33m;\u001b[0m \u001b[0mstart\u001b[0m\u001b[1;33m=\u001b[0m\u001b[1;36m2\u001b[0m\u001b[1;33m;\u001b[0m \u001b[0mstep\u001b[0m\u001b[1;33m=\u001b[0m\u001b[1;36m6\u001b[0m\u001b[1;33m;\u001b[0m\u001b[1;33m\u001b[0m\u001b[1;33m\u001b[0m\u001b[0m\n\u001b[0;32m      3\u001b[0m \u001b[0mx\u001b[0m \u001b[1;33m=\u001b[0m \u001b[0mrange\u001b[0m\u001b[1;33m(\u001b[0m\u001b[0mstart\u001b[0m\u001b[1;33m,\u001b[0m \u001b[0mlimit\u001b[0m\u001b[1;33m,\u001b[0m \u001b[0mstep\u001b[0m\u001b[1;33m)\u001b[0m\u001b[1;33m\u001b[0m\u001b[1;33m\u001b[0m\u001b[0m\n\u001b[1;32m----> 4\u001b[1;33m \u001b[0mplt\u001b[0m\u001b[1;33m.\u001b[0m\u001b[0mplot\u001b[0m\u001b[1;33m(\u001b[0m\u001b[0mx\u001b[0m\u001b[1;33m,\u001b[0m \u001b[0mcoherence_values\u001b[0m\u001b[1;33m)\u001b[0m\u001b[1;33m\u001b[0m\u001b[1;33m\u001b[0m\u001b[0m\n\u001b[0m\u001b[0;32m      5\u001b[0m \u001b[0mplt\u001b[0m\u001b[1;33m.\u001b[0m\u001b[0mxlabel\u001b[0m\u001b[1;33m(\u001b[0m\u001b[1;34m\"Num Topics\"\u001b[0m\u001b[1;33m)\u001b[0m\u001b[1;33m\u001b[0m\u001b[1;33m\u001b[0m\u001b[0m\n\u001b[0;32m      6\u001b[0m \u001b[0mplt\u001b[0m\u001b[1;33m.\u001b[0m\u001b[0mylabel\u001b[0m\u001b[1;33m(\u001b[0m\u001b[1;34m\"Coherence score\"\u001b[0m\u001b[1;33m)\u001b[0m\u001b[1;33m\u001b[0m\u001b[1;33m\u001b[0m\u001b[0m\n",
      "\u001b[1;31mNameError\u001b[0m: name 'plt' is not defined"
     ]
    }
   ],
   "source": [
    "# Show graph\n",
    "limit=40; start=2; step=6;\n",
    "x = range(start, limit, step)\n",
    "plt.plot(x, coherence_values)\n",
    "plt.xlabel(\"Num Topics\")\n",
    "plt.ylabel(\"Coherence score\")\n",
    "plt.legend((\"coherence_values\"), loc='best')\n",
    "plt.show()"
   ]
  },
  {
   "cell_type": "code",
   "execution_count": null,
   "metadata": {},
   "outputs": [
    {
     "name": "stdout",
     "output_type": "stream",
     "text": [
      "Num Topics = 2  has Coherence Value of 0.4155\n",
      "Num Topics = 8  has Coherence Value of 0.4803\n",
      "Num Topics = 14  has Coherence Value of 0.5391\n",
      "Num Topics = 20  has Coherence Value of 0.5713\n",
      "Num Topics = 26  has Coherence Value of 0.5758\n",
      "Num Topics = 32  has Coherence Value of 0.5734\n",
      "Num Topics = 38  has Coherence Value of 0.558\n"
     ]
    }
   ],
   "source": [
    "# Print the coherence scores\n",
    "for m, cv in zip(x, coherence_values):\n",
    "    print(\"Num Topics =\", m, \" has Coherence Value of\", round(cv, 4))"
   ]
  },
  {
   "cell_type": "code",
   "execution_count": null,
   "metadata": {
    "scrolled": true
   },
   "outputs": [
    {
     "name": "stdout",
     "output_type": "stream",
     "text": [
      "[(0,\n",
      "  '0.029*\"window\" + 0.017*\"file\" + 0.015*\"image\" + 0.014*\"version\" + '\n",
      "  '0.014*\"program\" + 0.013*\"run\" + 0.012*\"display\" + 0.011*\"graphic\" + '\n",
      "  '0.010*\"color\" + 0.010*\"software\"'),\n",
      " (1,\n",
      "  '0.158*\"write\" + 0.134*\"article\" + 0.061*\"line\" + 0.060*\"subject\" + '\n",
      "  '0.044*\"organization\" + 0.029*\"apr\" + 0.014*\"opinion\" + 0.008*\"man\" + '\n",
      "  '0.008*\"number\" + 0.007*\"org\"'),\n",
      " (2,\n",
      "  '0.014*\"question\" + 0.014*\"exist\" + 0.011*\"claim\" + 0.010*\"true\" + '\n",
      "  '0.010*\"argument\" + 0.009*\"reason\" + 0.009*\"evidence\" + 0.009*\"people\" + '\n",
      "  '0.008*\"science\" + 0.008*\"human\"'),\n",
      " (3,\n",
      "  '0.014*\"people\" + 0.010*\"war\" + 0.008*\"israeli\" + 0.008*\"attack\" + '\n",
      "  '0.008*\"armenian\" + 0.007*\"kill\" + 0.007*\"turkish\" + 0.007*\"government\" + '\n",
      "  '0.006*\"land\" + 0.006*\"state\"'),\n",
      " (4,\n",
      "  '0.042*\"post\" + 0.028*\"mail\" + 0.023*\"group\" + 0.020*\"send\" + 0.018*\"line\" + '\n",
      "  '0.017*\"list\" + 0.017*\"internet\" + 0.017*\"question\" + 0.017*\"message\" + '\n",
      "  '0.016*\"address\"'),\n",
      " (5,\n",
      "  '0.012*\"people\" + 0.010*\"christian\" + 0.009*\"word\" + 0.009*\"bible\" + '\n",
      "  '0.009*\"church\" + 0.009*\"man\" + 0.008*\"love\" + 0.007*\"book\" + 0.007*\"life\" + '\n",
      "  '0.007*\"law\"'),\n",
      " (6,\n",
      "  '0.030*\"game\" + 0.024*\"team\" + 0.022*\"year\" + 0.021*\"play\" + 0.016*\"player\" '\n",
      "  '+ 0.015*\"win\" + 0.010*\"season\" + 0.009*\"fan\" + 0.008*\"hockey\" + '\n",
      "  '0.008*\"hit\"'),\n",
      " (7,\n",
      "  '0.025*\"gun\" + 0.018*\"law\" + 0.014*\"state\" + 0.013*\"people\" + 0.010*\"fire\" + '\n",
      "  '0.008*\"crime\" + 0.008*\"case\" + 0.008*\"weapon\" + 0.008*\"kill\" + '\n",
      "  '0.007*\"make\"'),\n",
      " (8,\n",
      "  '0.011*\"study\" + 0.011*\"drug\" + 0.008*\"food\" + 0.007*\"problem\" + '\n",
      "  '0.007*\"effect\" + 0.006*\"doctor\" + 0.006*\"eat\" + 0.006*\"disease\" + '\n",
      "  '0.006*\"patient\" + 0.006*\"article\"'),\n",
      " (9,\n",
      "  '0.141*\"line\" + 0.116*\"nntp_poste\" + 0.106*\"host\" + 0.093*\"subject\" + '\n",
      "  '0.077*\"organization\" + 0.034*\"write\" + 0.026*\"reply\" + 0.024*\"university\" + '\n",
      "  '0.020*\"article\" + 0.012*\"keyword\"'),\n",
      " (10,\n",
      "  '0.055*\"good\" + 0.047*\"make\" + 0.038*\"thing\" + 0.030*\"time\" + '\n",
      "  '0.022*\"problem\" + 0.020*\"bad\" + 0.018*\"people\" + 0.018*\"lot\" + 0.013*\"give\" '\n",
      "  '+ 0.012*\"real\"'),\n",
      " (11,\n",
      "  '0.019*\"include\" + 0.018*\"price\" + 0.018*\"sale\" + 0.016*\"sell\" + '\n",
      "  '0.014*\"computer\" + 0.013*\"book\" + 0.013*\"offer\" + 0.010*\"information\" + '\n",
      "  '0.010*\"work\" + 0.009*\"contact\"'),\n",
      " (12,\n",
      "  '0.014*\"make\" + 0.013*\"work\" + 0.012*\"year\" + 0.011*\"money\" + 0.011*\"people\" '\n",
      "  '+ 0.009*\"pay\" + 0.009*\"government\" + 0.009*\"job\" + 0.008*\"state\" + '\n",
      "  '0.006*\"support\"'),\n",
      " (13,\n",
      "  '0.030*\"file\" + 0.017*\"line\" + 0.014*\"set\" + 0.013*\"program\" + '\n",
      "  '0.013*\"number\" + 0.011*\"read\" + 0.011*\"follow\" + 0.010*\"change\" + '\n",
      "  '0.010*\"entry\" + 0.009*\"error\"'),\n",
      " (14,\n",
      "  '0.029*\"car\" + 0.012*\"bike\" + 0.009*\"buy\" + 0.009*\"ride\" + 0.008*\"power\" + '\n",
      "  '0.007*\"ground\" + 0.007*\"wire\" + 0.006*\"engine\" + 0.006*\"drive\" + '\n",
      "  '0.006*\"light\"'),\n",
      " (15,\n",
      "  '0.031*\"drive\" + 0.020*\"problem\" + 0.020*\"card\" + 0.016*\"system\" + '\n",
      "  '0.016*\"driver\" + 0.014*\"work\" + 0.014*\"bit\" + 0.013*\"scsi\" + '\n",
      "  '0.011*\"monitor\" + 0.011*\"disk\"'),\n",
      " (16,\n",
      "  '0.034*\"key\" + 0.017*\"system\" + 0.013*\"encryption\" + 0.010*\"chip\" + '\n",
      "  '0.010*\"bit\" + 0.010*\"security\" + 0.010*\"public\" + 0.010*\"government\" + '\n",
      "  '0.009*\"technology\" + 0.008*\"information\"'),\n",
      " (17,\n",
      "  '0.064*\"line\" + 0.046*\"_\" + 0.044*\"subject\" + 0.039*\"organization\" + '\n",
      "  '0.017*\"reply\" + 0.011*\"au\" + 0.007*\"ax\" + 0.006*\"sp\" + 0.006*\"case_western\" '\n",
      "  '+ 0.006*\"reserve_university\"'),\n",
      " (18,\n",
      "  '0.015*\"people\" + 0.015*\"time\" + 0.014*\"leave\" + 0.014*\"day\" + 0.012*\"back\" '\n",
      "  '+ 0.011*\"happen\" + 0.011*\"start\" + 0.010*\"hand\" + 0.009*\"live\" + '\n",
      "  '0.009*\"woman\"'),\n",
      " (19,\n",
      "  '0.024*\"space\" + 0.008*\"system\" + 0.008*\"launch\" + 0.007*\"earth\" + '\n",
      "  '0.007*\"project\" + 0.007*\"year\" + 0.006*\"satellite\" + 0.006*\"center\" + '\n",
      "  '0.006*\"datum\" + 0.006*\"high\"')]\n"
     ]
    }
   ],
   "source": [
    "# Select the model and print the topics\n",
    "optimal_model = model_list[3]\n",
    "model_topics = optimal_model.show_topics(formatted=False)\n",
    "pprint(optimal_model.print_topics(num_words=10))"
   ]
  },
  {
   "cell_type": "markdown",
   "metadata": {},
   "source": [
    "__Finding the dominant topic in each sentence__"
   ]
  },
  {
   "cell_type": "code",
   "execution_count": null,
   "metadata": {
    "scrolled": true
   },
   "outputs": [
    {
     "data": {
      "text/html": [
       "<div>\n",
       "<style scoped>\n",
       "    .dataframe tbody tr th:only-of-type {\n",
       "        vertical-align: middle;\n",
       "    }\n",
       "\n",
       "    .dataframe tbody tr th {\n",
       "        vertical-align: top;\n",
       "    }\n",
       "\n",
       "    .dataframe thead th {\n",
       "        text-align: right;\n",
       "    }\n",
       "</style>\n",
       "<table border=\"1\" class=\"dataframe\">\n",
       "  <thead>\n",
       "    <tr style=\"text-align: right;\">\n",
       "      <th></th>\n",
       "      <th>Document_No</th>\n",
       "      <th>Dominant_Topic</th>\n",
       "      <th>Topic_Perc_Contrib</th>\n",
       "      <th>Keywords</th>\n",
       "      <th>Text</th>\n",
       "    </tr>\n",
       "  </thead>\n",
       "  <tbody>\n",
       "    <tr>\n",
       "      <th>0</th>\n",
       "      <td>0</td>\n",
       "      <td>14.0</td>\n",
       "      <td>0.1442</td>\n",
       "      <td>car, bike, buy, ride, power, ground, wire, eng...</td>\n",
       "      <td>From: lerxst@wam.umd.edu (where's my thing)\\nS...</td>\n",
       "    </tr>\n",
       "    <tr>\n",
       "      <th>1</th>\n",
       "      <td>1</td>\n",
       "      <td>15.0</td>\n",
       "      <td>0.1962</td>\n",
       "      <td>drive, problem, card, system, driver, work, bi...</td>\n",
       "      <td>From: guykuo@carson.u.washington.edu (Guy Kuo)...</td>\n",
       "    </tr>\n",
       "    <tr>\n",
       "      <th>2</th>\n",
       "      <td>2</td>\n",
       "      <td>15.0</td>\n",
       "      <td>0.1556</td>\n",
       "      <td>drive, problem, card, system, driver, work, bi...</td>\n",
       "      <td>From: twillis@ec.ecn.purdue.edu (Thomas E Will...</td>\n",
       "    </tr>\n",
       "    <tr>\n",
       "      <th>3</th>\n",
       "      <td>3</td>\n",
       "      <td>9.0</td>\n",
       "      <td>0.0966</td>\n",
       "      <td>line, nntp_poste, host, subject, organization,...</td>\n",
       "      <td>From: jgreen@amber (Joe Green)\\nSubject: Re: W...</td>\n",
       "    </tr>\n",
       "    <tr>\n",
       "      <th>4</th>\n",
       "      <td>4</td>\n",
       "      <td>13.0</td>\n",
       "      <td>0.1857</td>\n",
       "      <td>file, line, set, program, number, read, follow...</td>\n",
       "      <td>From: jcm@head-cfa.harvard.edu (Jonathan McDow...</td>\n",
       "    </tr>\n",
       "    <tr>\n",
       "      <th>5</th>\n",
       "      <td>5</td>\n",
       "      <td>7.0</td>\n",
       "      <td>0.4363</td>\n",
       "      <td>gun, law, state, people, fire, crime, case, we...</td>\n",
       "      <td>From: dfo@vttoulu.tko.vtt.fi (Foxvog Douglas)\\...</td>\n",
       "    </tr>\n",
       "    <tr>\n",
       "      <th>6</th>\n",
       "      <td>6</td>\n",
       "      <td>4.0</td>\n",
       "      <td>0.1356</td>\n",
       "      <td>post, mail, group, send, line, list, internet,...</td>\n",
       "      <td>From: bmdelane@quads.uchicago.edu (brian manni...</td>\n",
       "    </tr>\n",
       "    <tr>\n",
       "      <th>7</th>\n",
       "      <td>7</td>\n",
       "      <td>15.0</td>\n",
       "      <td>0.4946</td>\n",
       "      <td>drive, problem, card, system, driver, work, bi...</td>\n",
       "      <td>From: bgrubb@dante.nmsu.edu (GRUBB)\\nSubject: ...</td>\n",
       "    </tr>\n",
       "    <tr>\n",
       "      <th>8</th>\n",
       "      <td>8</td>\n",
       "      <td>0.0</td>\n",
       "      <td>0.1410</td>\n",
       "      <td>window, file, image, version, program, run, di...</td>\n",
       "      <td>From: holmes7000@iscsvax.uni.edu\\nSubject: WIn...</td>\n",
       "    </tr>\n",
       "    <tr>\n",
       "      <th>9</th>\n",
       "      <td>9</td>\n",
       "      <td>15.0</td>\n",
       "      <td>0.2586</td>\n",
       "      <td>drive, problem, card, system, driver, work, bi...</td>\n",
       "      <td>From: kerr@ux1.cso.uiuc.edu (Stan Kerr)\\nSubje...</td>\n",
       "    </tr>\n",
       "  </tbody>\n",
       "</table>\n",
       "</div>"
      ],
      "text/plain": [
       "   Document_No  Dominant_Topic  Topic_Perc_Contrib  \\\n",
       "0            0            14.0              0.1442   \n",
       "1            1            15.0              0.1962   \n",
       "2            2            15.0              0.1556   \n",
       "3            3             9.0              0.0966   \n",
       "4            4            13.0              0.1857   \n",
       "5            5             7.0              0.4363   \n",
       "6            6             4.0              0.1356   \n",
       "7            7            15.0              0.4946   \n",
       "8            8             0.0              0.1410   \n",
       "9            9            15.0              0.2586   \n",
       "\n",
       "                                            Keywords  \\\n",
       "0  car, bike, buy, ride, power, ground, wire, eng...   \n",
       "1  drive, problem, card, system, driver, work, bi...   \n",
       "2  drive, problem, card, system, driver, work, bi...   \n",
       "3  line, nntp_poste, host, subject, organization,...   \n",
       "4  file, line, set, program, number, read, follow...   \n",
       "5  gun, law, state, people, fire, crime, case, we...   \n",
       "6  post, mail, group, send, line, list, internet,...   \n",
       "7  drive, problem, card, system, driver, work, bi...   \n",
       "8  window, file, image, version, program, run, di...   \n",
       "9  drive, problem, card, system, driver, work, bi...   \n",
       "\n",
       "                                                Text  \n",
       "0  From: lerxst@wam.umd.edu (where's my thing)\\nS...  \n",
       "1  From: guykuo@carson.u.washington.edu (Guy Kuo)...  \n",
       "2  From: twillis@ec.ecn.purdue.edu (Thomas E Will...  \n",
       "3  From: jgreen@amber (Joe Green)\\nSubject: Re: W...  \n",
       "4  From: jcm@head-cfa.harvard.edu (Jonathan McDow...  \n",
       "5  From: dfo@vttoulu.tko.vtt.fi (Foxvog Douglas)\\...  \n",
       "6  From: bmdelane@quads.uchicago.edu (brian manni...  \n",
       "7  From: bgrubb@dante.nmsu.edu (GRUBB)\\nSubject: ...  \n",
       "8  From: holmes7000@iscsvax.uni.edu\\nSubject: WIn...  \n",
       "9  From: kerr@ux1.cso.uiuc.edu (Stan Kerr)\\nSubje...  "
      ]
     },
     "execution_count": 34,
     "metadata": {},
     "output_type": "execute_result"
    }
   ],
   "source": [
    "def format_topics_sentences(ldamodel=lda_model, corpus=corpus, texts=data):\n",
    "    # Init output\n",
    "    sent_topics_df = pd.DataFrame()\n",
    "\n",
    "    # Get main topic in each document\n",
    "    for i, row in enumerate(ldamodel[corpus]):\n",
    "        row = sorted(row, key=lambda x: (x[1]), reverse=True)\n",
    "        # Get the Dominant topic, Perc Contribution and Keywords for each document\n",
    "        for j, (topic_num, prop_topic) in enumerate(row):\n",
    "            if j == 0:  # => dominant topic\n",
    "                wp = ldamodel.show_topic(topic_num)\n",
    "                topic_keywords = \", \".join([word for word, prop in wp])\n",
    "                sent_topics_df = sent_topics_df.append(pd.Series([int(topic_num), round(prop_topic,4), topic_keywords]), ignore_index=True)\n",
    "            else:\n",
    "                break\n",
    "    sent_topics_df.columns = ['Dominant_Topic', 'Perc_Contribution', 'Topic_Keywords']\n",
    "\n",
    "    # Add original text to the end of the output\n",
    "    contents = pd.Series(texts)\n",
    "    sent_topics_df = pd.concat([sent_topics_df, contents], axis=1)\n",
    "    return(sent_topics_df)\n",
    "\n",
    "\n",
    "df_topic_sents_keywords = format_topics_sentences(ldamodel=optimal_model, corpus=corpus, texts=data)\n",
    "\n",
    "# Format\n",
    "df_dominant_topic = df_topic_sents_keywords.reset_index()\n",
    "df_dominant_topic.columns = ['Document_No', 'Dominant_Topic', 'Topic_Perc_Contrib', 'Keywords', 'Text']\n",
    "\n",
    "# Show\n",
    "df_dominant_topic.head(10)"
   ]
  },
  {
   "cell_type": "code",
   "execution_count": null,
   "metadata": {},
   "outputs": [
    {
     "data": {
      "text/plain": [
       "(11314, 5)"
      ]
     },
     "execution_count": 35,
     "metadata": {},
     "output_type": "execute_result"
    }
   ],
   "source": [
    "df_dominant_topic.shape"
   ]
  },
  {
   "cell_type": "markdown",
   "metadata": {},
   "source": [
    "__Find the most representative document for each topic__"
   ]
  },
  {
   "cell_type": "code",
   "execution_count": null,
   "metadata": {},
   "outputs": [
    {
     "data": {
      "text/html": [
       "<div>\n",
       "<style scoped>\n",
       "    .dataframe tbody tr th:only-of-type {\n",
       "        vertical-align: middle;\n",
       "    }\n",
       "\n",
       "    .dataframe tbody tr th {\n",
       "        vertical-align: top;\n",
       "    }\n",
       "\n",
       "    .dataframe thead th {\n",
       "        text-align: right;\n",
       "    }\n",
       "</style>\n",
       "<table border=\"1\" class=\"dataframe\">\n",
       "  <thead>\n",
       "    <tr style=\"text-align: right;\">\n",
       "      <th></th>\n",
       "      <th>Topic_Num</th>\n",
       "      <th>Topic_Perc_Contrib</th>\n",
       "      <th>Keywords</th>\n",
       "      <th>Text</th>\n",
       "    </tr>\n",
       "  </thead>\n",
       "  <tbody>\n",
       "    <tr>\n",
       "      <th>0</th>\n",
       "      <td>0.0</td>\n",
       "      <td>0.6759</td>\n",
       "      <td>window, file, image, version, program, run, di...</td>\n",
       "      <td>From: dbl@visual.com (David B. Lewis)\\nSubject...</td>\n",
       "    </tr>\n",
       "    <tr>\n",
       "      <th>1</th>\n",
       "      <td>1.0</td>\n",
       "      <td>0.5417</td>\n",
       "      <td>write, article, line, subject, organization, a...</td>\n",
       "      <td>From: cramer@optilink.COM (Clayton Cramer)\\nSu...</td>\n",
       "    </tr>\n",
       "    <tr>\n",
       "      <th>2</th>\n",
       "      <td>2.0</td>\n",
       "      <td>0.7046</td>\n",
       "      <td>question, exist, claim, true, argument, reason...</td>\n",
       "      <td>From: kempmp@phoenix.oulu.fi (Petri Pihko)\\nSu...</td>\n",
       "    </tr>\n",
       "    <tr>\n",
       "      <th>3</th>\n",
       "      <td>3.0</td>\n",
       "      <td>0.7479</td>\n",
       "      <td>people, war, israeli, attack, armenian, kill, ...</td>\n",
       "      <td>From: Center for Policy Research &lt;cpr@igc.apc....</td>\n",
       "    </tr>\n",
       "    <tr>\n",
       "      <th>4</th>\n",
       "      <td>4.0</td>\n",
       "      <td>0.7212</td>\n",
       "      <td>post, mail, group, send, line, list, internet,...</td>\n",
       "      <td>From: jrm@elm.circa.ufl.edu (Jeff Mason)\\nSubj...</td>\n",
       "    </tr>\n",
       "  </tbody>\n",
       "</table>\n",
       "</div>"
      ],
      "text/plain": [
       "   Topic_Num  Topic_Perc_Contrib  \\\n",
       "0        0.0              0.6759   \n",
       "1        1.0              0.5417   \n",
       "2        2.0              0.7046   \n",
       "3        3.0              0.7479   \n",
       "4        4.0              0.7212   \n",
       "\n",
       "                                            Keywords  \\\n",
       "0  window, file, image, version, program, run, di...   \n",
       "1  write, article, line, subject, organization, a...   \n",
       "2  question, exist, claim, true, argument, reason...   \n",
       "3  people, war, israeli, attack, armenian, kill, ...   \n",
       "4  post, mail, group, send, line, list, internet,...   \n",
       "\n",
       "                                                Text  \n",
       "0  From: dbl@visual.com (David B. Lewis)\\nSubject...  \n",
       "1  From: cramer@optilink.COM (Clayton Cramer)\\nSu...  \n",
       "2  From: kempmp@phoenix.oulu.fi (Petri Pihko)\\nSu...  \n",
       "3  From: Center for Policy Research <cpr@igc.apc....  \n",
       "4  From: jrm@elm.circa.ufl.edu (Jeff Mason)\\nSubj...  "
      ]
     },
     "execution_count": 36,
     "metadata": {},
     "output_type": "execute_result"
    }
   ],
   "source": [
    "# Group top 5 sentences under each topic\n",
    "sent_topics_sorteddf_mallet = pd.DataFrame()\n",
    "\n",
    "sent_topics_outdf_grpd = df_topic_sents_keywords.groupby('Dominant_Topic')\n",
    "\n",
    "for i, grp in sent_topics_outdf_grpd:\n",
    "    sent_topics_sorteddf_mallet = pd.concat([sent_topics_sorteddf_mallet, \n",
    "                                             grp.sort_values(['Perc_Contribution'], ascending=[0]).head(1)], \n",
    "                                            axis=0)\n",
    "\n",
    "# Reset Index    \n",
    "sent_topics_sorteddf_mallet.reset_index(drop=True, inplace=True)\n",
    "\n",
    "# Format\n",
    "sent_topics_sorteddf_mallet.columns = ['Topic_Num', \"Topic_Perc_Contrib\", \"Keywords\", \"Text\"]\n",
    "\n",
    "# Show\n",
    "sent_topics_sorteddf_mallet.head()"
   ]
  },
  {
   "cell_type": "markdown",
   "metadata": {},
   "source": [
    "__Topic distribution across documents__"
   ]
  },
  {
   "cell_type": "code",
   "execution_count": null,
   "metadata": {},
   "outputs": [
    {
     "data": {
      "text/html": [
       "<div>\n",
       "<style scoped>\n",
       "    .dataframe tbody tr th:only-of-type {\n",
       "        vertical-align: middle;\n",
       "    }\n",
       "\n",
       "    .dataframe tbody tr th {\n",
       "        vertical-align: top;\n",
       "    }\n",
       "\n",
       "    .dataframe thead th {\n",
       "        text-align: right;\n",
       "    }\n",
       "</style>\n",
       "<table border=\"1\" class=\"dataframe\">\n",
       "  <thead>\n",
       "    <tr style=\"text-align: right;\">\n",
       "      <th></th>\n",
       "      <th>Dominant_Topic</th>\n",
       "      <th>Topic_Keywords</th>\n",
       "      <th>Num_Documents</th>\n",
       "      <th>Perc_Documents</th>\n",
       "    </tr>\n",
       "  </thead>\n",
       "  <tbody>\n",
       "    <tr>\n",
       "      <th>0.0</th>\n",
       "      <td>14.0</td>\n",
       "      <td>car, bike, buy, ride, power, ground, wire, eng...</td>\n",
       "      <td>927.0</td>\n",
       "      <td>0.0819</td>\n",
       "    </tr>\n",
       "    <tr>\n",
       "      <th>1.0</th>\n",
       "      <td>15.0</td>\n",
       "      <td>drive, problem, card, system, driver, work, bi...</td>\n",
       "      <td>430.0</td>\n",
       "      <td>0.0380</td>\n",
       "    </tr>\n",
       "    <tr>\n",
       "      <th>2.0</th>\n",
       "      <td>15.0</td>\n",
       "      <td>drive, problem, card, system, driver, work, bi...</td>\n",
       "      <td>494.0</td>\n",
       "      <td>0.0437</td>\n",
       "    </tr>\n",
       "    <tr>\n",
       "      <th>3.0</th>\n",
       "      <td>9.0</td>\n",
       "      <td>line, nntp_poste, host, subject, organization,...</td>\n",
       "      <td>459.0</td>\n",
       "      <td>0.0406</td>\n",
       "    </tr>\n",
       "    <tr>\n",
       "      <th>4.0</th>\n",
       "      <td>13.0</td>\n",
       "      <td>file, line, set, program, number, read, follow...</td>\n",
       "      <td>409.0</td>\n",
       "      <td>0.0361</td>\n",
       "    </tr>\n",
       "  </tbody>\n",
       "</table>\n",
       "</div>"
      ],
      "text/plain": [
       "     Dominant_Topic                                     Topic_Keywords  \\\n",
       "0.0            14.0  car, bike, buy, ride, power, ground, wire, eng...   \n",
       "1.0            15.0  drive, problem, card, system, driver, work, bi...   \n",
       "2.0            15.0  drive, problem, card, system, driver, work, bi...   \n",
       "3.0             9.0  line, nntp_poste, host, subject, organization,...   \n",
       "4.0            13.0  file, line, set, program, number, read, follow...   \n",
       "\n",
       "     Num_Documents  Perc_Documents  \n",
       "0.0          927.0          0.0819  \n",
       "1.0          430.0          0.0380  \n",
       "2.0          494.0          0.0437  \n",
       "3.0          459.0          0.0406  \n",
       "4.0          409.0          0.0361  "
      ]
     },
     "execution_count": 37,
     "metadata": {},
     "output_type": "execute_result"
    }
   ],
   "source": [
    "# Number of Documents for Each Topic\n",
    "topic_counts = df_topic_sents_keywords['Dominant_Topic'].value_counts()\n",
    "\n",
    "# Percentage of Documents for Each Topic\n",
    "topic_contribution = round(topic_counts/topic_counts.sum(), 4)\n",
    "\n",
    "# Topic Number and Keywords\n",
    "topic_num_keywords = df_topic_sents_keywords[['Dominant_Topic', 'Topic_Keywords']]\n",
    "\n",
    "# Concatenate Column wise\n",
    "df_dominant_topics = pd.concat([topic_num_keywords, topic_counts, topic_contribution], axis=1)\n",
    "\n",
    "# Change Column names\n",
    "df_dominant_topics.columns = ['Dominant_Topic', 'Topic_Keywords', 'Num_Documents', 'Perc_Documents']\n",
    "\n",
    "# Show\n",
    "df_dominant_topics.head()"
   ]
  },
  {
   "cell_type": "code",
   "execution_count": null,
   "metadata": {},
   "outputs": [],
   "source": []
  },
  {
   "cell_type": "code",
   "execution_count": null,
   "metadata": {},
   "outputs": [],
   "source": []
  }
 ],
 "metadata": {
  "kernelspec": {
   "display_name": "Python 3",
   "language": "python",
   "name": "python3"
  },
  "language_info": {
   "codemirror_mode": {
    "name": "ipython",
    "version": 3
   },
   "file_extension": ".py",
   "mimetype": "text/x-python",
   "name": "python",
   "nbconvert_exporter": "python",
   "pygments_lexer": "ipython3",
   "version": "3.9.5"
  }
 },
 "nbformat": 4,
 "nbformat_minor": 2
}
